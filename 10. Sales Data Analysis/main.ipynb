{
 "cells": [
  {
   "cell_type": "code",
   "execution_count": 1,
   "id": "9cc6ffd6",
   "metadata": {},
   "outputs": [],
   "source": [
    "import pandas as pd\n",
    "import numpy as np\n",
    "import random\n",
    "import csv\n",
    "from datetime import datetime, timedelta\n",
    "\n",
    "# product and category lists\n",
    "products = [\n",
    "    (\"Laptop\", \"Electronics\"),\n",
    "    (\"Phone\", \"Electronics\"),\n",
    "    (\"Headphones\", \"Electronics\"),\n",
    "    (\"Shoes\", \"Fashion\"),\n",
    "    (\"Shirt\", \"Fashion\"),\n",
    "    (\"Watch\", \"Accessories\"),\n",
    "    (\"Bag\", \"Accessories\"),\n",
    "    (\"Book\", \"Stationery\"),\n",
    "    (\"Pen\", \"Stationery\"),\n",
    "    (\"Table\", \"Furniture\"),\n",
    "]\n",
    "\n",
    "# Create a CSV file with 100 sales records\n",
    "with open(\"sales_data.csv\", mode=\"w\", newline=\"\") as file:\n",
    "    writer = csv.writer(file)\n",
    "    \n",
    "    # Write header\n",
    "    writer.writerow([\"order_id\", \"product_name\", \"category\", \"price\", \"quantity\", \"order_date\"])\n",
    "    \n",
    "    # Write 100 rows\n",
    "    for i in range(1, 101):\n",
    "        product, category = random.choice(products)\n",
    "        price = round(random.uniform(10, 500), 2)  # random price\n",
    "        quantity = random.randint(1, 5)  # random quantity\n",
    "        order_date = datetime(2023, 1, 1) + timedelta(days=random.randint(0, 365))\n",
    "        \n",
    "        writer.writerow([f\"{i}\", product, category, price, quantity, order_date.strftime(\"%Y-%m-%d\")])\n"
   ]
  },
  {
   "cell_type": "code",
   "execution_count": 2,
   "id": "ebbe3f3d",
   "metadata": {},
   "outputs": [
    {
     "name": "stdout",
     "output_type": "stream",
     "text": [
      "First 5 rows of the dataset:\n",
      "   order_id product_name     category   price  quantity  order_date\n",
      "0         1          Pen   Stationery  415.47         2  2023-02-03\n",
      "1         2          Pen   Stationery  317.70         4  2023-02-05\n",
      "2         3        Shirt      Fashion   39.20         5  2023-04-24\n",
      "3         4       Laptop  Electronics  347.29         2  2023-12-01\n",
      "4         5   Headphones  Electronics   42.33         5  2023-10-05\n"
     ]
    }
   ],
   "source": [
    "#Data Load\n",
    "df = pd.read_csv(\"sales_data.csv\")\n",
    "print(\"First 5 rows of the dataset:\")\n",
    "print(df.head())"
   ]
  },
  {
   "cell_type": "code",
   "execution_count": 3,
   "id": "f255ff56",
   "metadata": {},
   "outputs": [],
   "source": [
    "#Add computed column total_amount\n",
    "df[\"total_amount\"] = df[\"price\"] * df[\"quantity\"]"
   ]
  },
  {
   "cell_type": "code",
   "execution_count": 4,
   "id": "f0b8768e",
   "metadata": {},
   "outputs": [
    {
     "name": "stdout",
     "output_type": "stream",
     "text": [
      "Category Summary:\n",
      "       category  total_sales    avg_sales  num_orders\n",
      "0  Accessories      9979.36   554.408889          18\n",
      "1  Electronics     18008.47   666.980370          27\n",
      "2      Fashion      9168.48   611.232000          15\n",
      "3    Furniture      8589.59   715.799167          12\n",
      "4   Stationery     29233.71  1044.061071          28\n"
     ]
    }
   ],
   "source": [
    "# Group by category\n",
    "category_summary = df.groupby(\"category\").agg(\n",
    "    total_sales=(\"total_amount\", \"sum\"),\n",
    "    avg_sales=(\"total_amount\", \"mean\"),\n",
    "    num_orders=(\"order_id\", \"count\")\n",
    ").reset_index()\n",
    "print(\"Category Summary:\\n\", category_summary)"
   ]
  },
  {
   "cell_type": "code",
   "execution_count": 5,
   "id": "9dfc5ed5",
   "metadata": {},
   "outputs": [
    {
     "name": "stdout",
     "output_type": "stream",
     "text": [
      "\n",
      "Top 5 Products by Total Sales:\n",
      " product_name\n",
      "Pen           22323.19\n",
      "Table          8589.59\n",
      "Headphones     7791.22\n",
      "Laptop         7286.74\n",
      "Bag            6998.15\n",
      "Name: total_amount, dtype: float64\n"
     ]
    }
   ],
   "source": [
    "# Top 5 products by total sales\n",
    "top_products = df.groupby(\"product_name\")[\"total_amount\"].sum().nlargest(5)\n",
    "\n",
    "print(\"\\nTop 5 Products by Total Sales:\\n\", top_products)"
   ]
  },
  {
   "cell_type": "code",
   "execution_count": 6,
   "id": "3a5c4846",
   "metadata": {},
   "outputs": [
    {
     "name": "stdout",
     "output_type": "stream",
     "text": [
      "\n",
      "Standard Deviation of Sales: 607.0716596364799\n",
      "\n",
      "Percentiles (25th, 50th, 75th): [ 259.845  576.905 1246.59 ]\n"
     ]
    }
   ],
   "source": [
    "# NumPy calculations\n",
    "std_dev = np.std(df[\"total_amount\"])\n",
    "percentiles = np.percentile(df[\"total_amount\"], [25, 50, 75])\n",
    "\n",
    "print(\"\\nStandard Deviation of Sales:\", std_dev)\n",
    "\n",
    "# Normalize price (min-max scaling)\n",
    "df[\"price_normalized\"] = (df[\"price\"] - df[\"price\"].min()) / (df[\"price\"].max() - df[\"price\"].min())\n",
    "\n",
    "print(\"\\nPercentiles (25th, 50th, 75th):\", percentiles)"
   ]
  },
  {
   "cell_type": "code",
   "execution_count": 7,
   "id": "f185f082",
   "metadata": {},
   "outputs": [
    {
     "name": "stdout",
     "output_type": "stream",
     "text": [
      "\n",
      "Monthly Sales Trends:\n",
      "     year  month  total_amount\n",
      "0   2023      1       6540.29\n",
      "1   2023      2       9365.14\n",
      "2   2023      3       5138.11\n",
      "3   2023      4       4267.55\n",
      "4   2023      5       6620.04\n",
      "5   2023      6       3959.04\n",
      "6   2023      7       8145.39\n",
      "7   2023      8       3116.80\n",
      "8   2023      9       5316.11\n",
      "9   2023     10       3065.08\n",
      "10  2023     11       6347.14\n",
      "11  2023     12      13098.92\n",
      "\n",
      "Months with Below Average Sales:\n",
      "    year  month  total_amount\n",
      "2  2023      3       5138.11\n",
      "3  2023      4       4267.55\n",
      "5  2023      6       3959.04\n",
      "7  2023      8       3116.80\n",
      "8  2023      9       5316.11\n",
      "9  2023     10       3065.08\n"
     ]
    }
   ],
   "source": [
    "# Monthly Sales Trends\n",
    "df[\"order_date\"] = pd.to_datetime(df[\"order_date\"])\n",
    "df[\"year\"] = df[\"order_date\"].dt.year\n",
    "df[\"month\"] = df[\"order_date\"].dt.month\n",
    "\n",
    "monthly_sales = df.groupby([\"year\", \"month\"])[\"total_amount\"].sum().reset_index()\n",
    "overall_avg = monthly_sales[\"total_amount\"].mean()\n",
    "below_avg_months = monthly_sales[monthly_sales[\"total_amount\"] < overall_avg]\n",
    "\n",
    "print(\"\\nMonthly Sales Trends:\\n\", monthly_sales)\n",
    "\n",
    "print(\"\\nMonths with Below Average Sales:\\n\", below_avg_months)\n"
   ]
  },
  {
   "cell_type": "code",
   "execution_count": 8,
   "id": "493630e8",
   "metadata": {},
   "outputs": [
    {
     "name": "stdout",
     "output_type": "stream",
     "text": [
      "\n",
      "Files saved: category_summary.csv & sales_results.csv\n"
     ]
    }
   ],
   "source": [
    "#  Save Outputs\n",
    "category_summary.to_csv(\"category_summary.csv\", index=False)\n",
    "df.to_csv(\"sales_results.csv\", index=False)\n",
    "\n",
    "print(\"\\nFiles saved: category_summary.csv & sales_results.csv\")"
   ]
  }
 ],
 "metadata": {
  "kernelspec": {
   "display_name": "project",
   "language": "python",
   "name": "python3"
  },
  "language_info": {
   "codemirror_mode": {
    "name": "ipython",
    "version": 3
   },
   "file_extension": ".py",
   "mimetype": "text/x-python",
   "name": "python",
   "nbconvert_exporter": "python",
   "pygments_lexer": "ipython3",
   "version": "3.12.11"
  }
 },
 "nbformat": 4,
 "nbformat_minor": 5
}
