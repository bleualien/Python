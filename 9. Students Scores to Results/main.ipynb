{
 "cells": [
  {
   "cell_type": "code",
   "execution_count": 1,
   "id": "052c9883",
   "metadata": {},
   "outputs": [],
   "source": [
    "import pandas as pd\n",
    "import numpy as np\n",
    "import random\n",
    "import csv\n",
    "\n",
    "#Create a CSV file with 100 students and random scores\n",
    "with open(\"students_scores.csv\", mode=\"w\", newline=\"\") as file:\n",
    "    writer = csv.writer(file)\n",
    "\n",
    "#newline=\"\" le extra blank lines hatauxa\n",
    "#csv.writer(file) writer object banauxa josle  rows haru lekhna milxa CSV file ma.\n",
    "#with open() as file: → file automatically closed hunxa after writing.\n",
    "\n",
    "    #  header(row banauxa)\n",
    "    writer.writerow([\"id\", \"name\", \"math\", \"science\", \"english\"])\n",
    "    \n",
    "    # Write 100 rows with random scores i bhane ko student ID\n",
    "    for i in range(1, 101):\n",
    "        name = f\"Student_{i}\"\n",
    "        math = random.randint(0, 100)\n",
    "        science = random.randint(0, 100)\n",
    "        english = random.randint(0, 100)\n",
    "        writer.writerow([i, name, math, science, english])\n",
    "\n"
   ]
  },
  {
   "cell_type": "code",
   "execution_count": 2,
   "id": "ca2794b0",
   "metadata": {},
   "outputs": [
    {
     "name": "stdout",
     "output_type": "stream",
     "text": [
      "First 5 rows of the dataset:\n",
      "   id       name  math  science  english\n",
      "0   1  Student_1    13       92       92\n",
      "1   2  Student_2    78       24       10\n",
      "2   3  Student_3    55       90       26\n",
      "3   4  Student_4     1       20       80\n",
      "4   5  Student_5    97       97       88\n"
     ]
    }
   ],
   "source": [
    "#Load the CSV file into a Pandas DataFrame\n",
    "df = pd.read_csv(\"students_scores.csv\")\n",
    "print(\"First 5 rows of the dataset:\")\n",
    "print(df.head())"
   ]
  },
  {
   "cell_type": "code",
   "execution_count": null,
   "id": "29db6fe8",
   "metadata": {},
   "outputs": [],
   "source": [
    "#Add a new column for average score\n",
    "df[\"average_score\"] = df[[\"math\", \"science\", \"english\"]].mean(axis=1)\n",
    "#average calculate garxa, for each student mean nikalne(across column for each row, right to left)\n",
    "#axix = 0 bhako bhaye down each column garthiyo like eauta subject sab std ko(top to down)"
   ]
  },
  {
   "cell_type": "code",
   "execution_count": null,
   "id": "8f254ca5",
   "metadata": {},
   "outputs": [
    {
     "name": "stdout",
     "output_type": "stream",
     "text": [
      "\n",
      "Top 3 students:\n",
      "    id        name  average_score\n",
      "4    5   Student_5      94.000000\n",
      "43  44  Student_44      89.666667\n",
      "85  86  Student_86      87.666667\n"
     ]
    }
   ],
   "source": [
    "#Find the top 3 students based on average score\n",
    "#nlargest =no matter the order of the DataFrame, yesle top 3with largest value in average_score nikalxa, Fast hunxa\n",
    "top_students = df.nlargest(3, \"average_score\")\n",
    "print(\"\\nTop 3 students:\")\n",
    "print(top_students[[\"id\", \"name\", \"average_score\"]]\n",
    ")\n",
    "\n",
    "\n",
    "#head() = first sort garnu parxa a/d ma aane balla top 3 row nikalxa\n",
    "#top_students = df.sort_values(\"average_score\", ascending=False).head(3)\n",
    "#print(top_students[[\"id\", \"name\", \"average_score\"]])\n"
   ]
  },
  {
   "cell_type": "code",
   "execution_count": 5,
   "id": "ea1eac5b",
   "metadata": {},
   "outputs": [],
   "source": [
    "#if df[\"average_score\"] >= 40:\n",
    "#   df[\"status\"] = \"Pass\"\n",
    "#else:\n",
    "#    df[\"status\"] = \"Fail\"\n",
    "\n",
    "# It won’t work because df[\"average_score\"] >= 40 gives a series of True/False values, not one True/False."
   ]
  },
  {
   "cell_type": "code",
   "execution_count": 6,
   "id": "c2bfe1bd",
   "metadata": {},
   "outputs": [],
   "source": [
    "#Group students into Pass and Fail\n",
    "\n",
    "def pass_fail(score):\n",
    "    if score >= 40:\n",
    "        return \"Pass\"\n",
    "    else:\n",
    "        return \"Fail\"\n",
    "\n",
    "df[\"status\"] = df[\"average_score\"].apply(pass_fail)\n",
    "\n",
    "#df[\"status\"] = df[\"average_score\"].apply(lambda x: \"Pass\" if x >= 40 else \"Fail\")\n",
    "#pass_fail_counts = df[\"status\"].value_counts()\n",
    "#print(\"\\nPass/Fail counts:\")\n",
    "#print(pass_fail_counts)\n",
    "\n",
    "#df[\"average_score\"].apply = le average_score column ko each row ma function apply garxa\n",
    "# lambda x: le chaeck garxa 40 bhanda dheari lai pass garxa\n",
    "#df[\"status\"] = new column status create garxa ."
   ]
  },
  {
   "cell_type": "code",
   "execution_count": null,
   "id": "48b4042e",
   "metadata": {},
   "outputs": [],
   "source": [
    "#Convert subject scores to a NumPy array\n",
    "\n",
    "#scores_array = df[[\"math\", \"science\", \"english\"]].to_numpy()\n",
    "#.to_numpy() le table lai pure number array ma change garxa\n",
    "\n",
    "scores_array = df[[\"math\", \"science\", \"english\"]].values\n",
    "#.values le Pandas DataFrame lai pure number NumPy array ma convert garxa\n",
    "\n",
    "#Calculate subject-wise mean, min, and max using NumPy\n",
    "subject_mean = np.mean(scores_array, axis=0)\n",
    "subject_min = np.min(scores_array, axis=0)\n",
    "subject_max = np.max(scores_array, axis=0)\n",
    "\n",
    "#axis=0 le column-wise (for each subject)\n",
    "#axis=1 le row-wise (for each student)"
   ]
  },
  {
   "cell_type": "code",
   "execution_count": null,
   "id": "9eb414a7",
   "metadata": {},
   "outputs": [
    {
     "name": "stdout",
     "output_type": "stream",
     "text": [
      "\n",
      "Subject-wise Mean, Min, Max:\n",
      "Math -> Mean: 50.26, Min: 0, Max: 100\n",
      "Science -> Mean: 43.69, Min: 1, Max: 99\n",
      "English -> Mean: 54.22, Min: 1, Max: 100\n"
     ]
    }
   ],
   "source": [
    "print(\"\\nSubject-wise Mean, Min, Max:\")\n",
    "subjects = [\"Math\", \"Science\", \"English\"]\n",
    "for i, subject in enumerate(subjects):\n",
    "    print(\"{} -> Mean: {:.2f}, Min: {}, Max: {}\".format(\n",
    "    subject, subject_mean[i], subject_min[i], subject_max[i]\n",
    "))\n",
    "\n",
    "    #print(f\"{subject} -> Mean: {subject_mean[i]:.2f}, Min: {subject_min[i]}, Max: {subject_max[i]}\")\n",
    "    #f\"\" → f-string, allows inserting variables directly into the string.\n",
    "\n",
    "#{}placeholders\n",
    "#.2f le number lai 2 decimal places ma format garxa \n",
    "#.format()le placehilder lai order ma fill garxa"
   ]
  },
  {
   "cell_type": "code",
   "execution_count": 9,
   "id": "070fff48",
   "metadata": {},
   "outputs": [
    {
     "name": "stdout",
     "output_type": "stream",
     "text": [
      "\n",
      "Final results saved to students_results.csv\n"
     ]
    }
   ],
   "source": [
    "#Save the final DataFrame into a new CSV\n",
    "# Round average_score to 2 decimal places\n",
    "df[\"average_score\"] = df[\"average_score\"].round(2)\n",
    "df.to_csv(\"students_results.csv\", index=False)\n",
    "print(\"\\nFinal results saved to students_results.csv\")"
   ]
  }
 ],
 "metadata": {
  "kernelspec": {
   "display_name": "project",
   "language": "python",
   "name": "python3"
  },
  "language_info": {
   "codemirror_mode": {
    "name": "ipython",
    "version": 3
   },
   "file_extension": ".py",
   "mimetype": "text/x-python",
   "name": "python",
   "nbconvert_exporter": "python",
   "pygments_lexer": "ipython3",
   "version": "3.12.11"
  }
 },
 "nbformat": 4,
 "nbformat_minor": 5
}
