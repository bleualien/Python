{
 "cells": [
  {
   "cell_type": "markdown",
   "id": "85572f33",
   "metadata": {},
   "source": [
    "We can join 2 or more array in a single new array using the following:\n",
    "- concatenate() method: joining along with axix, unlike keys in SQL\n",
    "- stack methods: joining along a new axix, unlike keys in SQL"
   ]
  },
  {
   "cell_type": "markdown",
   "id": "104188a8",
   "metadata": {},
   "source": [
    "**Join Numpy Arrays using the concatenate()**"
   ]
  },
  {
   "cell_type": "code",
   "execution_count": 2,
   "id": "3eff5249",
   "metadata": {},
   "outputs": [
    {
     "name": "stdout",
     "output_type": "stream",
     "text": [
      "\n",
      "Iterating array1\n",
      "5\n",
      "10\n",
      "15\n",
      "20\n",
      "25\n",
      "\n",
      "Iterating array2\n",
      "25\n",
      "30\n",
      "35\n",
      "40\n",
      "\n",
      "After Joining= [ 5 10 15 20 25 25 30 35 40]\n"
     ]
    }
   ],
   "source": [
    "import numpy as np\n",
    "n1=np.array([5,10,15,20,25])\n",
    "n2 = np.array([25,30,35,40])\n",
    "\n",
    "print(\"\\nIterating array1\")\n",
    "for a in n1:\n",
    "    print(a)\n",
    "\n",
    "print(\"\\nIterating array2\")\n",
    "for a in n2:\n",
    "    print(a)\n",
    "\n",
    "resarr = np.concatenate((n1, n2))\n",
    "print(\"\\nAfter Joining=\", resarr)"
   ]
  },
  {
   "cell_type": "markdown",
   "id": "d04c7c11",
   "metadata": {},
   "source": [
    "**Join Numpy Arrays using the stack method (stack())**"
   ]
  },
  {
   "cell_type": "code",
   "execution_count": 10,
   "id": "4894dc5d",
   "metadata": {},
   "outputs": [
    {
     "name": "stdout",
     "output_type": "stream",
     "text": [
      "\n",
      "Iterating array1\n",
      "5\n",
      "10\n",
      "15\n",
      "20\n",
      "\n",
      "Iterating array2\n",
      "25\n",
      "30\n",
      "35\n",
      "40\n",
      "\n",
      "After Joining= [[ 5 10 15 20]\n",
      " [25 30 35 40]]\n"
     ]
    }
   ],
   "source": [
    "n1 =np.array([5,10,15,20])\n",
    "n2 =np.array([25,30,35,40])\n",
    "\n",
    "print(\"\\nIterating array1\")\n",
    "for a in n1:\n",
    "    print(a)\n",
    "\n",
    "print(\"\\nIterating array2\")\n",
    "for a in n2:\n",
    "    print(a)\n",
    "    \n",
    "resarr = np.stack((n1, n2))\n",
    "print(\"\\nAfter Joining=\", resarr)\n"
   ]
  },
  {
   "cell_type": "code",
   "execution_count": 12,
   "id": "9f99266a",
   "metadata": {},
   "outputs": [
    {
     "name": "stdout",
     "output_type": "stream",
     "text": [
      "\n",
      "Iterating array1\n",
      "5\n",
      "10\n",
      "15\n",
      "20\n",
      "\n",
      "Iterating array2\n",
      "25\n",
      "30\n",
      "35\n",
      "40\n",
      "\n",
      "After Joining= [[ 5 25]\n",
      " [10 30]\n",
      " [15 35]\n",
      " [20 40]]\n"
     ]
    }
   ],
   "source": [
    "n1 =np.array([5,10,15,20])\n",
    "n2 =np.array([25,30,35,40])\n",
    "\n",
    "print(\"\\nIterating array1\")\n",
    "for a in n1:\n",
    "    print(a)\n",
    "\n",
    "print(\"\\nIterating array2\")\n",
    "for a in n2:\n",
    "    print(a)\n",
    "    \n",
    "resarr = np.stack((n1, n2),axis = 1)\n",
    "print(\"\\nAfter Joining=\", resarr)\n"
   ]
  },
  {
   "cell_type": "markdown",
   "id": "c2a8f76b",
   "metadata": {},
   "source": [
    "**Join Numpy Array using the stack method (hstack())**"
   ]
  },
  {
   "cell_type": "code",
   "execution_count": 13,
   "id": "f931938f",
   "metadata": {},
   "outputs": [
    {
     "name": "stdout",
     "output_type": "stream",
     "text": [
      "\n",
      "Iterating array1\n",
      "5\n",
      "10\n",
      "15\n",
      "20\n",
      "\n",
      "Iterating array2\n",
      "25\n",
      "30\n",
      "35\n",
      "40\n",
      "\n",
      "After Joining along row= [ 5 10 15 20 25 30 35 40]\n"
     ]
    }
   ],
   "source": [
    "n1 =np.array([5,10,15,20])\n",
    "n2 =np.array([25,30,35,40])\n",
    "\n",
    "print(\"\\nIterating array1\")\n",
    "for a in n1:\n",
    "    print(a)\n",
    "\n",
    "print(\"\\nIterating array2\")\n",
    "for a in n2:\n",
    "    print(a)\n",
    "\n",
    "resarr = np.hstack((n1,n2))\n",
    "print(\"\\nAfter Joining along row=\", resarr)"
   ]
  },
  {
   "cell_type": "markdown",
   "id": "67927b89",
   "metadata": {},
   "source": [
    "**Join Numpy Array using the stack method (vstack())**"
   ]
  },
  {
   "cell_type": "code",
   "execution_count": 15,
   "id": "eb9ede10",
   "metadata": {},
   "outputs": [
    {
     "name": "stdout",
     "output_type": "stream",
     "text": [
      "\n",
      "Iterating array1\n",
      "5\n",
      "10\n",
      "15\n",
      "20\n",
      "\n",
      "Iterating array2\n",
      "25\n",
      "30\n",
      "35\n",
      "40\n",
      "\n",
      "After Joining along columns= [[ 5 10 15 20]\n",
      " [25 30 35 40]]\n"
     ]
    }
   ],
   "source": [
    "n1 =np.array([5,10,15,20])\n",
    "n2 =np.array([25,30,35,40])\n",
    "\n",
    "print(\"\\nIterating array1\")\n",
    "for a in n1:\n",
    "    print(a)\n",
    "\n",
    "print(\"\\nIterating array2\")\n",
    "for a in n2:\n",
    "    print(a)\n",
    "\n",
    "resarr = np.vstack((n1,n2))\n",
    "print(\"\\nAfter Joining along columns=\", resarr)"
   ]
  },
  {
   "cell_type": "markdown",
   "id": "94b37174",
   "metadata": {},
   "source": [
    "**Join Numpy Array using the stack method (vstack())**"
   ]
  },
  {
   "cell_type": "code",
   "execution_count": 17,
   "id": "1b2b6e45",
   "metadata": {},
   "outputs": [
    {
     "name": "stdout",
     "output_type": "stream",
     "text": [
      "\n",
      "Iterating array1\n",
      "5\n",
      "10\n",
      "15\n",
      "20\n",
      "\n",
      "Iterating array2\n",
      "25\n",
      "30\n",
      "35\n",
      "40\n",
      "\n",
      "After Joining along height= [[[ 5 25]\n",
      "  [10 30]\n",
      "  [15 35]\n",
      "  [20 40]]]\n"
     ]
    }
   ],
   "source": [
    "n1 =np.array([5,10,15,20])\n",
    "n2 =np.array([25,30,35,40])\n",
    "\n",
    "print(\"\\nIterating array1\")\n",
    "for a in n1:\n",
    "    print(a)\n",
    "\n",
    "print(\"\\nIterating array2\")\n",
    "for a in n2:\n",
    "    print(a)\n",
    "\n",
    "resarr = np.dstack((n1,n2))\n",
    "print(\"\\nAfter Joining along height=\", resarr)"
   ]
  },
  {
   "cell_type": "markdown",
   "id": "dbbf7e12",
   "metadata": {},
   "source": [
    "**Join Numpy Array using the stack method (column_stack())**"
   ]
  },
  {
   "cell_type": "code",
   "execution_count": 19,
   "id": "737eb30f",
   "metadata": {},
   "outputs": [
    {
     "name": "stdout",
     "output_type": "stream",
     "text": [
      "\n",
      "Iterating array1\n",
      "5\n",
      "10\n",
      "15\n",
      "20\n",
      "\n",
      "Iterating array2\n",
      "25\n",
      "30\n",
      "35\n",
      "40\n",
      "\n",
      "After Joining = [[ 5 25]\n",
      " [10 30]\n",
      " [15 35]\n",
      " [20 40]]\n"
     ]
    }
   ],
   "source": [
    "n1 =np.array([5,10,15,20])\n",
    "n2 =np.array([25,30,35,40])\n",
    "\n",
    "print(\"\\nIterating array1\")\n",
    "for a in n1:\n",
    "    print(a)\n",
    "\n",
    "print(\"\\nIterating array2\")\n",
    "for a in n2:\n",
    "    print(a)\n",
    "\n",
    "resarr = np.column_stack((n1,n2))\n",
    "print(\"\\nAfter Joining =\", resarr)"
   ]
  }
 ],
 "metadata": {
  "kernelspec": {
   "display_name": "project",
   "language": "python",
   "name": "python3"
  },
  "language_info": {
   "codemirror_mode": {
    "name": "ipython",
    "version": 3
   },
   "file_extension": ".py",
   "mimetype": "text/x-python",
   "name": "python",
   "nbconvert_exporter": "python",
   "pygments_lexer": "ipython3",
   "version": "3.12.11"
  }
 },
 "nbformat": 4,
 "nbformat_minor": 5
}
