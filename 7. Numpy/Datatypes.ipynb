{
 "cells": [
  {
   "cell_type": "markdown",
   "id": "ddeb6699",
   "metadata": {},
   "source": [
    "**Get the datatype of a Numpy array with integers**"
   ]
  },
  {
   "cell_type": "code",
   "execution_count": 1,
   "id": "cfcb90ad",
   "metadata": {},
   "outputs": [
    {
     "name": "stdout",
     "output_type": "stream",
     "text": [
      "int32\n"
     ]
    }
   ],
   "source": [
    "import numpy as np\n",
    "n = np.array([10,20,30])\n",
    "print(n.dtype)"
   ]
  },
  {
   "cell_type": "markdown",
   "id": "007825fb",
   "metadata": {},
   "source": [
    "**Get the datatype of a Numpy array with strings**"
   ]
  },
  {
   "cell_type": "code",
   "execution_count": null,
   "id": "ff5c4ff4",
   "metadata": {},
   "outputs": [
    {
     "name": "stdout",
     "output_type": "stream",
     "text": [
      "<U9\n"
     ]
    }
   ],
   "source": [
    "n = np.array([\"kp\",\"prachanda\",\"deuba\",\"baburam\"])\n",
    "print(n.dtype)\n",
    "\n",
    "# U =unicode String\n",
    "# 9 = maximum character imput"
   ]
  },
  {
   "cell_type": "markdown",
   "id": "1f4239e6",
   "metadata": {},
   "source": [
    "**Set the datatype of a Numpy array** "
   ]
  },
  {
   "cell_type": "code",
   "execution_count": null,
   "id": "28d95ac0",
   "metadata": {},
   "outputs": [
    {
     "name": "stdout",
     "output_type": "stream",
     "text": [
      "|S5\n"
     ]
    }
   ],
   "source": [
    "n = np.array([\"arya\",\"sansa\",\"joffrey\",\"jhon\",\"cersei\"], dtype='S5')\n",
    "print(n.dtype)\n",
    "# S =String\n",
    "# 5 =maximum characters"
   ]
  },
  {
   "cell_type": "markdown",
   "id": "b8b6b5af",
   "metadata": {},
   "source": [
    "**Convert one datatype to another**"
   ]
  },
  {
   "cell_type": "code",
   "execution_count": 9,
   "id": "7daadc91",
   "metadata": {},
   "outputs": [
    {
     "name": "stdout",
     "output_type": "stream",
     "text": [
      "['10' '20' '30' '40' '50']\n",
      "<U2\n",
      "[10 20 30 40 50]\n",
      "int32\n"
     ]
    }
   ],
   "source": [
    "n = np.array(['10','20','30','40','50'])\n",
    "print(n)\n",
    "print(n.dtype)\n",
    "\n",
    "n2 = n.astype('i')\n",
    "print(n2)\n",
    "print(n2.dtype)\n"
   ]
  }
 ],
 "metadata": {
  "kernelspec": {
   "display_name": "project",
   "language": "python",
   "name": "python3"
  },
  "language_info": {
   "codemirror_mode": {
    "name": "ipython",
    "version": 3
   },
   "file_extension": ".py",
   "mimetype": "text/x-python",
   "name": "python",
   "nbconvert_exporter": "python",
   "pygments_lexer": "ipython3",
   "version": "3.12.11"
  }
 },
 "nbformat": 4,
 "nbformat_minor": 5
}
