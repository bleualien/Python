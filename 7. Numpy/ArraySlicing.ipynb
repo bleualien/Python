{
 "cells": [
  {
   "cell_type": "markdown",
   "id": "92de2a1a",
   "metadata": {},
   "source": [
    "Slicing the array in a range from start to end is what we call Array Slicing.\n",
    "- arr[start:end]\n",
    "- n[1:3]\n",
    "The abpve will slice two elements from index 1 to index 3 because it include the satrt index and exclude the wnd index."
   ]
  },
  {
   "cell_type": "markdown",
   "id": "dbfb3433",
   "metadata": {},
   "source": [
    "# Array Slicing Example"
   ]
  },
  {
   "cell_type": "markdown",
   "id": "bd3a6c01",
   "metadata": {},
   "source": [
    "**Slicing from index 1 to 3 (3 is excluded)**"
   ]
  },
  {
   "cell_type": "code",
   "execution_count": 1,
   "id": "f0757799",
   "metadata": {},
   "outputs": [
    {
     "name": "stdout",
     "output_type": "stream",
     "text": [
      "[46 76]\n"
     ]
    }
   ],
   "source": [
    "import numpy as np\n",
    "n = np.array([20,46,76,87,54,78,45,93,90,43])\n",
    "\n",
    "print(n[1:3])"
   ]
  },
  {
   "cell_type": "markdown",
   "id": "c2c74b70",
   "metadata": {},
   "source": [
    "**Slicing from index 2 to 5 (5 is excluded)**"
   ]
  },
  {
   "cell_type": "code",
   "execution_count": 2,
   "id": "471ed5a7",
   "metadata": {},
   "outputs": [
    {
     "name": "stdout",
     "output_type": "stream",
     "text": [
      "[76 87 54]\n"
     ]
    }
   ],
   "source": [
    "import numpy as np\n",
    "n = np.array([20,46,76,87,54,78,45,93,90,43])\n",
    "\n",
    "print(n[2:5])"
   ]
  },
  {
   "cell_type": "markdown",
   "id": "f882878c",
   "metadata": {},
   "source": [
    "**Slicing from index 5 to last**"
   ]
  },
  {
   "cell_type": "code",
   "execution_count": null,
   "id": "a612aff1",
   "metadata": {},
   "outputs": [
    {
     "name": "stdout",
     "output_type": "stream",
     "text": [
      "[78 45 93 90 43]\n"
     ]
    }
   ],
   "source": [
    "import numpy as np\n",
    "n = np.array([20,46,76,87,54,78,45,93,90,43])\n",
    "\n",
    "print(n[5:])\n",
    "#include last as well because end range is not given"
   ]
  },
  {
   "cell_type": "markdown",
   "id": "b6318c18",
   "metadata": {},
   "source": [
    "**Slicing from beginning to index 5**"
   ]
  },
  {
   "cell_type": "code",
   "execution_count": 6,
   "id": "c05f505a",
   "metadata": {},
   "outputs": [
    {
     "name": "stdout",
     "output_type": "stream",
     "text": [
      "[20 46 76 87 54 78]\n"
     ]
    }
   ],
   "source": [
    "import numpy as np\n",
    "n = np.array([20,46,76,87,54,78,45,93,90,43])\n",
    "\n",
    "print(n[:-4])"
   ]
  },
  {
   "cell_type": "markdown",
   "id": "33ddb769",
   "metadata": {},
   "source": [
    "**Slice 1D array with STEP in Numpy**"
   ]
  },
  {
   "cell_type": "code",
   "execution_count": 11,
   "id": "8e270127",
   "metadata": {},
   "outputs": [
    {
     "name": "stdout",
     "output_type": "stream",
     "text": [
      "[4 5 6 7 6]\n"
     ]
    }
   ],
   "source": [
    "n = np.array([1,4,2,5,3,6,3,7,3,6,8,9])\n",
    "\n",
    "print(n[1:10:2])"
   ]
  },
  {
   "cell_type": "markdown",
   "id": "92545074",
   "metadata": {},
   "source": [
    "# Slice 2D array"
   ]
  },
  {
   "cell_type": "markdown",
   "id": "e36351fd",
   "metadata": {},
   "source": [
    "**Slicing from index 2 to 5(excluding5)**"
   ]
  },
  {
   "cell_type": "code",
   "execution_count": null,
   "id": "7aefc8dd",
   "metadata": {},
   "outputs": [
    {
     "name": "stdout",
     "output_type": "stream",
     "text": [
      "[30 40 50]\n"
     ]
    }
   ],
   "source": [
    "import numpy as np\n",
    "n = np.array([[10,20,30,40,50,60],[70,80,90,97,98,99]])\n",
    "print(n[0, 2:5])#from 1st row start from 2nd index to 5 but exclude 5"
   ]
  },
  {
   "cell_type": "markdown",
   "id": "edfe278e",
   "metadata": {},
   "source": [
    "**Slicing for both the dimensions**"
   ]
  },
  {
   "cell_type": "code",
   "execution_count": 16,
   "id": "16c94a40",
   "metadata": {},
   "outputs": [
    {
     "name": "stdout",
     "output_type": "stream",
     "text": [
      "[[30 40 50]\n",
      " [90 97 98]]\n"
     ]
    }
   ],
   "source": [
    "import numpy as np\n",
    "n = np.array([[10,20,30,40,50,60],[70,80,90,97,98,99]])\n",
    "print(n[0:2, 2:5])"
   ]
  }
 ],
 "metadata": {
  "kernelspec": {
   "display_name": "project",
   "language": "python",
   "name": "python3"
  },
  "language_info": {
   "codemirror_mode": {
    "name": "ipython",
    "version": 3
   },
   "file_extension": ".py",
   "mimetype": "text/x-python",
   "name": "python",
   "nbconvert_exporter": "python",
   "pygments_lexer": "ipython3",
   "version": "3.12.11"
  }
 },
 "nbformat": 4,
 "nbformat_minor": 5
}
