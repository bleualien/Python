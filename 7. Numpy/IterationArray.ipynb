{
 "cells": [
  {
   "cell_type": "markdown",
   "id": "17f58c5a",
   "metadata": {},
   "source": [
    "Iteration is displaying esch element of an array."
   ]
  },
  {
   "cell_type": "markdown",
   "id": "731c3624",
   "metadata": {},
   "source": [
    "**Iterate a 1d NumPy array**"
   ]
  },
  {
   "cell_type": "code",
   "execution_count": 6,
   "id": "0e6062b2",
   "metadata": {},
   "outputs": [
    {
     "name": "stdout",
     "output_type": "stream",
     "text": [
      "\n",
      "Iteration\n",
      "5\n",
      "10\n",
      "15\n",
      "20\n",
      "25\n",
      "30\n",
      "Type = <class 'numpy.ndarray'>\n",
      "Data type = <class 'numpy.dtypes.Int32DType'>\n",
      "Dimensions = 1\n"
     ]
    }
   ],
   "source": [
    "import numpy as np\n",
    "n=np.array([5,10,15,20,25,30])\n",
    "print(\"\\nIteration\")\n",
    "for a in n:\n",
    "    print(a)\n",
    "\n",
    "print(\"Type =\", type(n))\n",
    "print(\"Data type =\", type(n.dtype))\n",
    "print(\"Dimensions =\", n.ndim)\n",
    "\n",
    "\n",
    "    "
   ]
  },
  {
   "cell_type": "markdown",
   "id": "1f3a3057",
   "metadata": {},
   "source": [
    "**Iterate a 2d NumPy array**"
   ]
  },
  {
   "cell_type": "code",
   "execution_count": null,
   "id": "d980abb4",
   "metadata": {},
   "outputs": [
    {
     "name": "stdout",
     "output_type": "stream",
     "text": [
      "\n",
      "Iteration\n",
      "[ 5 10]\n",
      "[15 20]\n",
      "[25 30]\n",
      "Type = <class 'numpy.ndarray'>\n",
      "Data type = int32\n",
      "Dimensions = 2\n"
     ]
    }
   ],
   "source": [
    "import numpy as np\n",
    "#3x2\n",
    "n=np.array([[5,10],[15,20],[25,30]])\n",
    "print(\"\\nIteration\")\n",
    "for a in n:\n",
    "    print(a)\n",
    "\n",
    "print(\"Type =\", type(n))\n",
    "print(\"Data type =\", n.dtype)\n",
    "print(\"Dimensions =\", n.ndim)\n",
    "\n",
    "\n",
    "    "
   ]
  },
  {
   "cell_type": "markdown",
   "id": "decc8613",
   "metadata": {},
   "source": [
    "**Iterate a 3d NumPy array**"
   ]
  },
  {
   "cell_type": "code",
   "execution_count": 12,
   "id": "1e409dd7",
   "metadata": {},
   "outputs": [
    {
     "name": "stdout",
     "output_type": "stream",
     "text": [
      "\n",
      "Iteration\n",
      "Each matrix(2D)=\n",
      "[[ 5 10]\n",
      " [15 20]]\n",
      "Each matrix(2D)=\n",
      "[[25 30]\n",
      " [35 40]]\n",
      "Type = <class 'numpy.ndarray'>\n",
      "Data type = int32\n",
      "Dimensions = 3\n"
     ]
    }
   ],
   "source": [
    "import numpy as np\n",
    "#3x2\n",
    "n=np.array([[[5,10],[15,20]],[[25,30],[35,40]]])\n",
    "print(\"\\nIteration\")\n",
    "for a in n:\n",
    "    print(\"Each matrix(2D)=\")\n",
    "    print(a)\n",
    "\n",
    "print(\"Type =\", type(n))\n",
    "print(\"Data type =\", n.dtype)\n",
    "print(\"Dimensions =\", n.ndim)\n",
    "\n",
    "\n",
    "    "
   ]
  }
 ],
 "metadata": {
  "kernelspec": {
   "display_name": "project",
   "language": "python",
   "name": "python3"
  },
  "language_info": {
   "codemirror_mode": {
    "name": "ipython",
    "version": 3
   },
   "file_extension": ".py",
   "mimetype": "text/x-python",
   "name": "python",
   "nbconvert_exporter": "python",
   "pygments_lexer": "ipython3",
   "version": "3.12.11"
  }
 },
 "nbformat": 4,
 "nbformat_minor": 5
}
