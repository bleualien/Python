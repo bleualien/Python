{
 "cells": [
  {
   "cell_type": "markdown",
   "id": "71d975fb",
   "metadata": {},
   "source": [
    "The **numpy.sort()** function is used in NumPy to sort arrays in a sequence. The sequence can be ascesnding or descending."
   ]
  },
  {
   "cell_type": "markdown",
   "id": "4562c059",
   "metadata": {},
   "source": [
    "**Sort a One-Dimensional Integer Array**"
   ]
  },
  {
   "cell_type": "code",
   "execution_count": 2,
   "id": "b2f9e375",
   "metadata": {},
   "outputs": [
    {
     "name": "stdout",
     "output_type": "stream",
     "text": [
      "Iterating array..\n",
      "50\n",
      "25\n",
      "35\n",
      "15\n",
      "65\n",
      "85\n",
      "35\n",
      "15\n",
      "85\n",
      "25\n",
      "Sorted Array:  [15 15 25 25 35 35 50 65 85 85]\n"
     ]
    }
   ],
   "source": [
    "import numpy as np\n",
    "n = np.array([50,25,35,15,65,85,35,15,85,25])\n",
    "\n",
    "print(\"Iterating array..\")\n",
    "for a in n:\n",
    "    print(a)\n",
    "#Sort\n",
    "print(\"Sorted Array: \",np.sort(n))"
   ]
  },
  {
   "cell_type": "markdown",
   "id": "3e2bd4ae",
   "metadata": {},
   "source": [
    "**Sort a One-Dimensional String Array**"
   ]
  },
  {
   "cell_type": "code",
   "execution_count": 3,
   "id": "ae95f2ba",
   "metadata": {},
   "outputs": [
    {
     "name": "stdout",
     "output_type": "stream",
     "text": [
      "Iterating array..\n",
      "java\n",
      "pandas\n",
      "python\n",
      "express\n",
      "jquery\n",
      "Sorted Array:  ['express' 'java' 'jquery' 'pandas' 'python']\n"
     ]
    }
   ],
   "source": [
    "\n",
    "n = np.array(['java','pandas','python','express','jquery'])\n",
    "\n",
    "print(\"Iterating array..\")\n",
    "for a in n:\n",
    "    print(a)\n",
    "#Sort\n",
    "print(\"Sorted Array: \",np.sort(n))"
   ]
  },
  {
   "cell_type": "markdown",
   "id": "14c455db",
   "metadata": {},
   "source": [
    "**Sort a Two-Dimensional Array**"
   ]
  },
  {
   "cell_type": "code",
   "execution_count": 7,
   "id": "a1060bfd",
   "metadata": {},
   "outputs": [
    {
     "name": "stdout",
     "output_type": "stream",
     "text": [
      "Iterating array..\n",
      "[5 3 7 9 6]\n",
      "[15 34 67 86 78]\n",
      "Sorted Array = \n",
      " [[ 3  5  6  7  9]\n",
      " [15 34 67 78 86]]\n"
     ]
    }
   ],
   "source": [
    "#2x5matrix\n",
    "n = np.array([[5,3,7,9,6],[15,34,67,86,78]])\n",
    "\n",
    "print(\"Iterating array..\")\n",
    "for a in n:\n",
    "    print(a)\n",
    "#Sort\n",
    "print(\"Sorted Array = \\n\",np.sort(n))"
   ]
  }
 ],
 "metadata": {
  "kernelspec": {
   "display_name": "project",
   "language": "python",
   "name": "python3"
  },
  "language_info": {
   "codemirror_mode": {
    "name": "ipython",
    "version": 3
   },
   "file_extension": ".py",
   "mimetype": "text/x-python",
   "name": "python",
   "nbconvert_exporter": "python",
   "pygments_lexer": "ipython3",
   "version": "3.12.11"
  }
 },
 "nbformat": 4,
 "nbformat_minor": 5
}
