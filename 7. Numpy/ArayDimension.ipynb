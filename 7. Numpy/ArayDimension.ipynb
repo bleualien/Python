{
 "cells": [
  {
   "cell_type": "markdown",
   "id": "e679276e",
   "metadata": {},
   "source": [
    "# Create a 0-Dimensional Numpy array and check the dimensions"
   ]
  },
  {
   "cell_type": "code",
   "execution_count": 14,
   "id": "138524fb",
   "metadata": {},
   "outputs": [
    {
     "name": "stdout",
     "output_type": "stream",
     "text": [
      "25\n",
      "Dimensions =  0\n",
      "()\n",
      "int32\n"
     ]
    }
   ],
   "source": [
    "import numpy as np\n",
    "n = np.array(25) #0-dimension array = single element(array with no dimension)\n",
    "print(n)\n",
    "print(\"Dimensions = \",n.ndim)\n",
    "print(n.shape)\n",
    "print(n.dtype)\n"
   ]
  },
  {
   "cell_type": "markdown",
   "id": "926e8b58",
   "metadata": {},
   "source": [
    "# Create a 1-Dimensional Numpy array and check the dimensions"
   ]
  },
  {
   "cell_type": "code",
   "execution_count": 15,
   "id": "ab85db75",
   "metadata": {},
   "outputs": [
    {
     "name": "stdout",
     "output_type": "stream",
     "text": [
      "[10 12 30]\n",
      "Dimensions =  1\n",
      "(3,)\n",
      "int32\n"
     ]
    }
   ],
   "source": [
    "import numpy as np\n",
    "n = np.array([10, 12, 30]) #1-dimension array by passing list (1 [])\n",
    "print(n)\n",
    "print(\"Dimensions = \",n.ndim)\n",
    "print(n.shape)#vector so shape 3,\n",
    "print(n.dtype)\n"
   ]
  },
  {
   "cell_type": "markdown",
   "id": "340b17b7",
   "metadata": {},
   "source": [
    "# Create a 1-Dimensional Numpy array and check the dimensions"
   ]
  },
  {
   "cell_type": "code",
   "execution_count": 16,
   "id": "2790777d",
   "metadata": {},
   "outputs": [
    {
     "name": "stdout",
     "output_type": "stream",
     "text": [
      "[[10 12 30]\n",
      " [ 3 45 32]]\n",
      "Dimensions =  2\n",
      "(2, 3)\n",
      "int32\n"
     ]
    }
   ],
   "source": [
    "import numpy as np\n",
    "n = np.array([[10, 12, 30],[3,45,32]]) #2-dimension array by comparing matrix\n",
    "print(n)\n",
    "print(\"Dimensions = \",n.ndim)\n",
    "print(n.shape)#in 2rows and 3 colums so\n",
    "print(n.dtype)"
   ]
  }
 ],
 "metadata": {
  "kernelspec": {
   "display_name": "project",
   "language": "python",
   "name": "python3"
  },
  "language_info": {
   "codemirror_mode": {
    "name": "ipython",
    "version": 3
   },
   "file_extension": ".py",
   "mimetype": "text/x-python",
   "name": "python",
   "nbconvert_exporter": "python",
   "pygments_lexer": "ipython3",
   "version": "3.12.11"
  }
 },
 "nbformat": 4,
 "nbformat_minor": 5
}
