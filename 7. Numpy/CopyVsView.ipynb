{
 "cells": [
  {
   "cell_type": "markdown",
   "id": "f48f391b",
   "metadata": {},
   "source": [
    "- A **Copy** is a totally separate copy, whereas a **View** is a copy that's still connected to the original\n",
    "- If you make a change to the original, that change will reflect in the view and if you make a change to the view, that change will reflect in the original."
   ]
  },
  {
   "cell_type": "code",
   "execution_count": 7,
   "id": "9cdcbeaf",
   "metadata": {},
   "outputs": [
    {
     "name": "stdout",
     "output_type": "stream",
     "text": [
      "Original N1[0 1 2 3 4 5]\n",
      "Original N2[0 1 2 3 4 5]\n",
      "Changed N1[41  1  2  3  4  5]\n",
      "Original N2[41  1  2  3  4  5]\n"
     ]
    }
   ],
   "source": [
    "import numpy as np\n",
    "n1 = np.array([0,1,2,3,4,5])\n",
    "\n",
    "#create a View\n",
    "n2 = n1.view()\n",
    "\n",
    "print(f'Original N1{n1}')\n",
    "print(f'Original N2{n2}')\n",
    "\n",
    "#n1[0] = 41\n",
    "n2[0] = 41\n",
    "print(f'Changed N1{n1}')\n",
    "print(f'Original N2{n2}')"
   ]
  },
  {
   "cell_type": "code",
   "execution_count": 6,
   "id": "baf00de9",
   "metadata": {},
   "outputs": [
    {
     "name": "stdout",
     "output_type": "stream",
     "text": [
      "Original N1[0 1 2 3 4 5]\n",
      "Original N2[0 1 2 3 4 5]\n",
      "Changed N1[0 1 2 3 4 5]\n",
      "Original N2[41  1  2  3  4  5]\n"
     ]
    }
   ],
   "source": [
    "#create a Copy\n",
    "import numpy as np\n",
    "n1 = np.array([0,1,2,3,4,5])\n",
    "n2 = n1.copy()\n",
    "\n",
    "print(f'Original N1{n1}')\n",
    "print(f'Original N2{n2}')\n",
    "\n",
    "#n1[0] = 41\n",
    "n2[0] = 41\n",
    "print(f'Changed N1{n1}')\n",
    "print(f'Original N2{n2}')"
   ]
  }
 ],
 "metadata": {
  "kernelspec": {
   "display_name": "project",
   "language": "python",
   "name": "python3"
  },
  "language_info": {
   "codemirror_mode": {
    "name": "ipython",
    "version": 3
   },
   "file_extension": ".py",
   "mimetype": "text/x-python",
   "name": "python",
   "nbconvert_exporter": "python",
   "pygments_lexer": "ipython3",
   "version": "3.12.11"
  }
 },
 "nbformat": 4,
 "nbformat_minor": 5
}
