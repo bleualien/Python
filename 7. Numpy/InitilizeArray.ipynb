{
 "cells": [
  {
   "cell_type": "markdown",
   "id": "91730d52",
   "metadata": {},
   "source": [
    "# Initilize Numpy array"
   ]
  },
  {
   "cell_type": "code",
   "execution_count": null,
   "id": "38a52d35",
   "metadata": {},
   "outputs": [
    {
     "name": "stdout",
     "output_type": "stream",
     "text": [
      "[[0. 0. 0.]\n",
      " [0. 0. 0.]]\n",
      "<class 'numpy.ndarray'>\n"
     ]
    }
   ],
   "source": [
    "import numpy as np\n",
    "n = np.zeros([2,3])#2 rows and 3 coloum initialized with zeros \n",
    "print(n)\n",
    "print(type(n))\n",
    "#2 dimension array in the form of matrix "
   ]
  },
  {
   "cell_type": "markdown",
   "id": "119db8d8",
   "metadata": {},
   "source": [
    "*** Initilize Numpy array (Eg:2) ***"
   ]
  },
  {
   "cell_type": "code",
   "execution_count": null,
   "id": "dced38c1",
   "metadata": {},
   "outputs": [
    {
     "name": "stdout",
     "output_type": "stream",
     "text": [
      "[[0. 0. 0. 0.]\n",
      " [0. 0. 0. 0.]\n",
      " [0. 0. 0. 0.]\n",
      " [0. 0. 0. 0.]]\n",
      "<class 'numpy.ndarray'>\n"
     ]
    }
   ],
   "source": [
    "import numpy as np\n",
    "n = np.zeros([4,4])#4 rows and 4 coloum initialized with zeros \n",
    "print(n)\n",
    "print(type(n))\n",
    "#n dimension array in the form of matrix "
   ]
  }
 ],
 "metadata": {
  "kernelspec": {
   "display_name": "project",
   "language": "python",
   "name": "python3"
  },
  "language_info": {
   "codemirror_mode": {
    "name": "ipython",
    "version": 3
   },
   "file_extension": ".py",
   "mimetype": "text/x-python",
   "name": "python",
   "nbconvert_exporter": "python",
   "pygments_lexer": "ipython3",
   "version": "3.12.11"
  }
 },
 "nbformat": 4,
 "nbformat_minor": 5
}
