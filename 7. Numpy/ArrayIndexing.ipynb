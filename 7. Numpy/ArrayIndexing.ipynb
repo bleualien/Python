{
 "cells": [
  {
   "cell_type": "markdown",
   "id": "72e14346",
   "metadata": {},
   "source": [
    "# Access Element From One-Dimensional Array"
   ]
  },
  {
   "cell_type": "markdown",
   "id": "b458dffd",
   "metadata": {},
   "source": [
    "**1. Access the 1st element (index 0) from a 1D Array**"
   ]
  },
  {
   "cell_type": "code",
   "execution_count": 3,
   "id": "06f0f685",
   "metadata": {},
   "outputs": [
    {
     "name": "stdout",
     "output_type": "stream",
     "text": [
      "[10 20 30 40 50]\n",
      "10\n"
     ]
    }
   ],
   "source": [
    "import numpy as np\n",
    "\n",
    "n = np.array([10, 20, 30 ,40 ,50])\n",
    "print(n)\n",
    "print(n[0])"
   ]
  },
  {
   "cell_type": "markdown",
   "id": "0bb5be7d",
   "metadata": {},
   "source": [
    "**2. Access the 4th element (index 3) from a 1D Array**"
   ]
  },
  {
   "cell_type": "code",
   "execution_count": 4,
   "id": "fb5dec15",
   "metadata": {},
   "outputs": [
    {
     "name": "stdout",
     "output_type": "stream",
     "text": [
      "[10 20 30 40 50]\n",
      "40\n"
     ]
    }
   ],
   "source": [
    "n = np.array([10, 20, 30 ,40 ,50])\n",
    "print(n)\n",
    "print(n[3])"
   ]
  },
  {
   "cell_type": "markdown",
   "id": "20e5c3ca",
   "metadata": {},
   "source": [
    "# Access Element From Two-Dimensional Array"
   ]
  },
  {
   "cell_type": "markdown",
   "id": "2294d6f3",
   "metadata": {},
   "source": [
    "**1. Access the 1st element from 2D array**"
   ]
  },
  {
   "cell_type": "code",
   "execution_count": 8,
   "id": "f6091b92",
   "metadata": {},
   "outputs": [
    {
     "name": "stdout",
     "output_type": "stream",
     "text": [
      "[[1 3 5]\n",
      " [2 4 6]]\n",
      "1\n",
      "3\n",
      "5\n"
     ]
    }
   ],
   "source": [
    "n = np.array([[1,3,5],[2,4,6]])\n",
    "print(n)\n",
    "print(n[0,0])\n",
    "print(n[0,1])\n",
    "print(n[0,2])"
   ]
  },
  {
   "cell_type": "markdown",
   "id": "f64eb31c",
   "metadata": {},
   "source": [
    "**1. Access the 2nd element from 2D array**"
   ]
  },
  {
   "cell_type": "code",
   "execution_count": 10,
   "id": "6009136a",
   "metadata": {},
   "outputs": [
    {
     "name": "stdout",
     "output_type": "stream",
     "text": [
      "[[1 3 5]\n",
      " [2 4 6]]\n",
      "2\n",
      "4\n",
      "6\n"
     ]
    }
   ],
   "source": [
    "n = np.array([[1,3,5],[2,4,6]])\n",
    "print(n)\n",
    "print(n[1,0])\n",
    "print(n[1,1])\n",
    "print(n[1,2])"
   ]
  },
  {
   "cell_type": "markdown",
   "id": "6461f1cf",
   "metadata": {},
   "source": [
    "# Access Element From Three-Dimensional Array"
   ]
  },
  {
   "cell_type": "markdown",
   "id": "2a4333f5",
   "metadata": {},
   "source": [
    "**1. Access the element from 3D array**"
   ]
  },
  {
   "cell_type": "code",
   "execution_count": null,
   "id": "e241aa61",
   "metadata": {},
   "outputs": [
    {
     "name": "stdout",
     "output_type": "stream",
     "text": [
      "[[[5 6 7]\n",
      "  [1 2 7]]\n",
      "\n",
      " [[3 7 4]\n",
      "  [5 8 2]]]\n",
      "5\n",
      "6\n",
      "7\n"
     ]
    }
   ],
   "source": [
    "n = np.array([[[5,6,7],[1,2,7]],[[3,7,4],[5,8,2]]]) \n",
    "print(n)\n",
    "print(n[0,0,0])\n",
    "print(n[0,0,1])\n",
    "print(n[0,0,2])"
   ]
  },
  {
   "cell_type": "markdown",
   "id": "06583ab5",
   "metadata": {},
   "source": [
    "**1. Access the element from 3D array**"
   ]
  },
  {
   "cell_type": "code",
   "execution_count": 13,
   "id": "5f4fe4ed",
   "metadata": {},
   "outputs": [
    {
     "name": "stdout",
     "output_type": "stream",
     "text": [
      "[[[5 6 7]\n",
      "  [1 2 7]]\n",
      "\n",
      " [[3 7 4]\n",
      "  [5 8 2]]]\n",
      "3\n",
      "7\n",
      "4\n"
     ]
    }
   ],
   "source": [
    "n = np.array([[[5,6,7],[1,2,7]],[[3,7,4],[5,8,2]]]) \n",
    "print(n)\n",
    "print(n[1,0,0])\n",
    "print(n[1,0,1])\n",
    "print(n[1,0,2])"
   ]
  },
  {
   "cell_type": "markdown",
   "id": "257e9cd1",
   "metadata": {},
   "source": [
    "# Access Elements From Last With Negative Indexing"
   ]
  },
  {
   "cell_type": "markdown",
   "id": "4514a407",
   "metadata": {},
   "source": [
    "**Access the last elemet from 1D array with negative indexing**"
   ]
  },
  {
   "cell_type": "code",
   "execution_count": 4,
   "id": "2aef350a",
   "metadata": {},
   "outputs": [
    {
     "name": "stdout",
     "output_type": "stream",
     "text": [
      "[5 2 6]\n",
      "\n",
      "Last element =  6\n"
     ]
    }
   ],
   "source": [
    "import numpy as np\n",
    "n = np.array([5,2,6])\n",
    "print(n)\n",
    "print(\"\\nLast element = \", n[-1])"
   ]
  },
  {
   "cell_type": "markdown",
   "id": "9ee9ad96",
   "metadata": {},
   "source": [
    "**Access the last elemet from 2D array with negative indexing**"
   ]
  },
  {
   "cell_type": "code",
   "execution_count": 7,
   "id": "ee9d6685",
   "metadata": {},
   "outputs": [
    {
     "name": "stdout",
     "output_type": "stream",
     "text": [
      "[[1 4 6]\n",
      " [5 3 7]]\n",
      "\n",
      "Last element (1st row)=  6\n",
      "\n",
      "Last element (2nd row)=  7\n"
     ]
    }
   ],
   "source": [
    "n = np.array([[1,4,6],[5,3,7]])\n",
    "print(n)\n",
    "print(\"\\nLast element (1st row)= \", n[0,-1])\n",
    "print(\"\\nLast element (2nd row)= \", n[1,-1])\n"
   ]
  }
 ],
 "metadata": {
  "kernelspec": {
   "display_name": "project",
   "language": "python",
   "name": "python3"
  },
  "language_info": {
   "codemirror_mode": {
    "name": "ipython",
    "version": 3
   },
   "file_extension": ".py",
   "mimetype": "text/x-python",
   "name": "python",
   "nbconvert_exporter": "python",
   "pygments_lexer": "ipython3",
   "version": "3.12.11"
  }
 },
 "nbformat": 4,
 "nbformat_minor": 5
}
