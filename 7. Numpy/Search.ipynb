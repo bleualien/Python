{
 "cells": [
  {
   "cell_type": "markdown",
   "id": "ba4b0957",
   "metadata": {},
   "source": [
    "In a NumPy array, we can search for a specific value using the ***numpy.where()*** method.\n",
    "This methos returns the index where the specific element is found.\n"
   ]
  },
  {
   "cell_type": "markdown",
   "id": "187c06a3",
   "metadata": {},
   "source": [
    "**Search a NumPy array for a value**"
   ]
  },
  {
   "cell_type": "code",
   "execution_count": null,
   "id": "219e46cf",
   "metadata": {},
   "outputs": [
    {
     "name": "stdout",
     "output_type": "stream",
     "text": [
      "Iterating..\n",
      "10\n",
      "20\n",
      "30\n",
      "40\n",
      "50\n",
      "30\n",
      "\n",
      " Element 30 founs at the following indexes:\n",
      "(array([2, 5], dtype=int64),)\n"
     ]
    }
   ],
   "source": [
    "import numpy as np\n",
    "n = np.array([10,20,30,40,50,30])\n",
    "\n",
    "print(\"Iterating..\")\n",
    "for a in n:\n",
    "    print(a)\n",
    "\n",
    "#Search\n",
    "res = np.where(n == 30)\n",
    "\n",
    "print(\"\\nElement 30 founs at the following indexes:\")\n",
    "print(res)"
   ]
  }
 ],
 "metadata": {
  "kernelspec": {
   "display_name": "project",
   "language": "python",
   "name": "python3"
  },
  "language_info": {
   "codemirror_mode": {
    "name": "ipython",
    "version": 3
   },
   "file_extension": ".py",
   "mimetype": "text/x-python",
   "name": "python",
   "nbconvert_exporter": "python",
   "pygments_lexer": "ipython3",
   "version": "3.12.11"
  }
 },
 "nbformat": 4,
 "nbformat_minor": 5
}
