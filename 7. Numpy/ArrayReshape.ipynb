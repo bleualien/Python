{
 "cells": [
  {
   "cell_type": "markdown",
   "id": "566d4103",
   "metadata": {},
   "source": [
    "*no. of element in each dimension is called shape*\n",
    "- why reshapr?\n",
    "allows you to edit the number of elements in a dimensio also reshape() can add or remove dimensions"
   ]
  },
  {
   "cell_type": "markdown",
   "id": "adf31108",
   "metadata": {},
   "source": [
    "**Reshape dimensions from 1d to 2d**"
   ]
  },
  {
   "cell_type": "code",
   "execution_count": 9,
   "id": "16bc5f79",
   "metadata": {},
   "outputs": [
    {
     "name": "stdout",
     "output_type": "stream",
     "text": [
      "1-D Array = [ 5 10 15 20 25 30]\n",
      "\n",
      "\n",
      "Reshape Array =\n",
      " [[ 5 10 15]\n",
      " [20 25 30]]\n"
     ]
    }
   ],
   "source": [
    "import numpy as np\n",
    "n = np.array([5,10,15,20,25,30])\n",
    "print(\"1-D Array =\", n)\n",
    "\n",
    "#Reshape\n",
    "resarr = n.reshape(2,3)\n",
    "print(\"\\n\\nReshape Array =\\n\", resarr)"
   ]
  },
  {
   "cell_type": "markdown",
   "id": "3b6b6dc7",
   "metadata": {},
   "source": [
    "**Convert 3d array to 1d array (Flattening the array)**"
   ]
  },
  {
   "cell_type": "code",
   "execution_count": 8,
   "id": "baeae043",
   "metadata": {},
   "outputs": [
    {
     "name": "stdout",
     "output_type": "stream",
     "text": [
      "3-D Array = [[[ 5 10 15]\n",
      "  [20 25 30]]\n",
      "\n",
      " [[35 40 45]\n",
      "  [50 55 60]]]\n",
      "\n",
      "\n",
      "Reshaped to 1d Array =\n",
      " [ 5 10 15 20 25 30 35 40 45 50 55 60]\n"
     ]
    }
   ],
   "source": [
    "n = np.array([[[5,10,15],[20,25,30]],[[35,40,45],[50,55,60]]])\n",
    "print(\"3-D Array =\",n)\n",
    "\n",
    "#Reshape\n",
    "resarr = n. reshape(-1)\n",
    "print(\"\\n\\nReshaped to 1d Array =\\n\", resarr)\n"
   ]
  }
 ],
 "metadata": {
  "kernelspec": {
   "display_name": "project",
   "language": "python",
   "name": "python3"
  },
  "language_info": {
   "codemirror_mode": {
    "name": "ipython",
    "version": 3
   },
   "file_extension": ".py",
   "mimetype": "text/x-python",
   "name": "python",
   "nbconvert_exporter": "python",
   "pygments_lexer": "ipython3",
   "version": "3.12.11"
  }
 },
 "nbformat": 4,
 "nbformat_minor": 5
}
