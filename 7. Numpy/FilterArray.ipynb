{
 "cells": [
  {
   "cell_type": "code",
   "execution_count": null,
   "id": "f2b7bb0d",
   "metadata": {},
   "outputs": [],
   "source": []
  },
  {
   "cell_type": "code",
   "execution_count": 4,
   "id": "f22c8555",
   "metadata": {},
   "outputs": [
    {
     "name": "stdout",
     "output_type": "stream",
     "text": [
      "[ 1  2  3  4  5  6  7  8  9 10]\n",
      "[1 2]\n"
     ]
    }
   ],
   "source": [
    "import numpy as np\n",
    "n = np.array([1,2,3,4,5,6,7,8,9,10])\n",
    "\n",
    "x = [True,True,False,False,False,False,False,False,False,False,]\n",
    "\n",
    "print(n)\n",
    "print(n[x])\n"
   ]
  },
  {
   "cell_type": "markdown",
   "id": "4fff47d4",
   "metadata": {},
   "source": [
    "**Filtered for even numbers**"
   ]
  },
  {
   "cell_type": "code",
   "execution_count": 6,
   "id": "cd73d108",
   "metadata": {},
   "outputs": [
    {
     "name": "stdout",
     "output_type": "stream",
     "text": [
      "[ 1  2  3  4  5  6  7  8  9 10]\n",
      "[False, True, False, True, False, True, False, True, False, True]\n",
      "[ 2  4  6  8 10]\n"
     ]
    }
   ],
   "source": [
    "n = np.array([1,2,3,4,5,6,7,8,9,10])\n",
    "\n",
    "filtered = []\n",
    "for a in n:\n",
    "    if a %2 ==0:\n",
    "        filtered.append(True)\n",
    "    else:\n",
    "        filtered.append(False)\n",
    "\n",
    "print(n)\n",
    "print(filtered)\n",
    "print(n[filtered])\n"
   ]
  },
  {
   "cell_type": "markdown",
   "id": "7a57837a",
   "metadata": {},
   "source": [
    "**For >5**"
   ]
  },
  {
   "cell_type": "code",
   "execution_count": 7,
   "id": "5b211d48",
   "metadata": {},
   "outputs": [
    {
     "name": "stdout",
     "output_type": "stream",
     "text": [
      "[ 1  2  3  4  5  6  7  8  9 10]\n",
      "[False, False, False, False, False, True, True, True, True, True]\n",
      "[ 6  7  8  9 10]\n"
     ]
    }
   ],
   "source": [
    "n = np.array([1,2,3,4,5,6,7,8,9,10])\n",
    "\n",
    "filtered = []\n",
    "for a in n:\n",
    "    if a >5:\n",
    "        filtered.append(True)\n",
    "    else:\n",
    "        filtered.append(False)\n",
    "\n",
    "print(n)\n",
    "print(filtered)\n",
    "print(n[filtered])\n"
   ]
  },
  {
   "cell_type": "markdown",
   "id": "90652f07",
   "metadata": {},
   "source": [
    "***Shortcut for even numbers***"
   ]
  },
  {
   "cell_type": "code",
   "execution_count": 8,
   "id": "f97f5ffe",
   "metadata": {},
   "outputs": [
    {
     "name": "stdout",
     "output_type": "stream",
     "text": [
      "[ 1  2  3  4  5  6  7  8  9 10]\n",
      "[False  True False  True False  True False  True False  True]\n",
      "[ 2  4  6  8 10]\n"
     ]
    }
   ],
   "source": [
    "filtered = n %2 ==0\n",
    "print(n)\n",
    "print(filtered)\n",
    "print(n[filtered])"
   ]
  },
  {
   "cell_type": "markdown",
   "id": "a06af51e",
   "metadata": {},
   "source": [
    "***Shortcut for odd numbers***"
   ]
  },
  {
   "cell_type": "code",
   "execution_count": 10,
   "id": "4b288dd0",
   "metadata": {},
   "outputs": [
    {
     "name": "stdout",
     "output_type": "stream",
     "text": [
      "[ 1  2  3  4  5  6  7  8  9 10]\n",
      "[ True False  True False  True False  True False  True False]\n",
      "[1 3 5 7 9]\n"
     ]
    }
   ],
   "source": [
    "filtered = n %2 ==1\n",
    "print(n)\n",
    "print(filtered)\n",
    "print(n[filtered])"
   ]
  }
 ],
 "metadata": {
  "kernelspec": {
   "display_name": "project",
   "language": "python",
   "name": "python3"
  },
  "language_info": {
   "codemirror_mode": {
    "name": "ipython",
    "version": 3
   },
   "file_extension": ".py",
   "mimetype": "text/x-python",
   "name": "python",
   "nbconvert_exporter": "python",
   "pygments_lexer": "ipython3",
   "version": "3.12.11"
  }
 },
 "nbformat": 4,
 "nbformat_minor": 5
}
