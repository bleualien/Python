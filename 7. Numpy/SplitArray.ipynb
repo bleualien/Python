{
 "cells": [
  {
   "cell_type": "markdown",
   "id": "caaf524f",
   "metadata": {},
   "source": [
    "Split means to break/slash an array into multiplearrays. To split array, use the **array_split()** method. The following is syntax:\n",
    "**array_split(Arr_name, split_num)**\n",
    "- **arr_name** is the ame os the array, **split_num** is the count of splits."
   ]
  },
  {
   "cell_type": "markdown",
   "id": "2a7c47ce",
   "metadata": {},
   "source": [
    "**Split 1D array** using ***array_split()***"
   ]
  },
  {
   "cell_type": "code",
   "execution_count": null,
   "metadata": {},
   "outputs": [],
   "source": []
  },
  {
   "cell_type": "code",
   "execution_count": 9,
   "id": "80ec88df",
   "metadata": {},
   "outputs": [
    {
     "name": "stdout",
     "output_type": "stream",
     "text": [
      "Iterating Array..\n",
      "10\n",
      "20\n",
      "30\n",
      "40\n",
      "50\n",
      "60\n",
      "\n",
      " Array after Spliting i.e. returns 2 arrays\n",
      "[10 20]\n",
      "[30 40]\n",
      "[50]\n",
      "[60]\n"
     ]
    }
   ],
   "source": [
    "import numpy as np\n",
    "\n",
    "n=np.array([10,20,30,40,50,60])\n",
    "print(\"Iterating Array..\")\n",
    "for a in n:\n",
    "    print(a)\n",
    "\n",
    "#split the array into 2\n",
    "resarr = np.array_split(n,4)\n",
    "\n",
    "print(\"\\n Array after Spliting i.e. returns 2 arrays\")\n",
    "for a in resarr:\n",
    "    print(a)"
   ]
  },
  {
   "cell_type": "markdown",
   "id": "41cf719e",
   "metadata": {},
   "source": [
    "**Access a split 1D array**\n",
    "- use the index number for the array element you want to display"
   ]
  },
  {
   "cell_type": "code",
   "execution_count": 22,
   "id": "09d99c6e",
   "metadata": {},
   "outputs": [
    {
     "name": "stdout",
     "output_type": "stream",
     "text": [
      "Iterating Array..\n",
      "10\n",
      "20\n",
      "30\n",
      "40\n",
      "50\n",
      "60\n",
      "Array after Spliting =  [array([10, 20]), array([30, 40]), array([50]), array([60])]\n",
      "\n",
      "Access splitted array individually..\n",
      "Array 1: [10 20]\n",
      "Array 2: [30 40]\n"
     ]
    }
   ],
   "source": [
    "n=np.array([10,20,30,40,50,60])\n",
    "print(\"Iterating Array..\")\n",
    "for a in n:\n",
    "    print(a)\n",
    "\n",
    "#Split array into 2\n",
    "resarr = np.array_split(n,4)\n",
    "\n",
    "print(\"Array after Spliting = \", resarr)\n",
    "print(\"\\nAccess splitted array individually..\")\n",
    "print(\"Array 1:\",resarr[0])\n",
    "print(\"Array 2:\",resarr[1])\n"
   ]
  },
  {
   "cell_type": "markdown",
   "id": "343abc2e",
   "metadata": {},
   "source": [
    "**Split a 2D array and how to access**"
   ]
  },
  {
   "cell_type": "code",
   "execution_count": 21,
   "id": "22111617",
   "metadata": {},
   "outputs": [
    {
     "name": "stdout",
     "output_type": "stream",
     "text": [
      "Iterating Array...\n",
      "[1 3 5]\n",
      "[ 4  8 12]\n",
      "[array([[1, 3, 5]]), array([[ 4,  8, 12]])]\n",
      "\n",
      "Access splited array individually..\n",
      "Array1 =  [[1 3 5]]\n",
      "Array2 =  [[ 4  8 12]]\n"
     ]
    }
   ],
   "source": [
    "#2x3 matrix\n",
    "n = np.array([[1,3,5],[4,8,12]])\n",
    "\n",
    "print(\"Iterating Array...\")\n",
    "for a in n:\n",
    "    print(a)\n",
    "#split into 2\n",
    "resarr = np.array_split(n,2)\n",
    "print(resarr)\n",
    "\n",
    "print(\"\\nAccess splited array individually..\")\n",
    "print(\"Array1 = \",resarr[0])\n",
    "print(\"Array2 = \",resarr[1])"
   ]
  }
 ],
 "metadata": {
  "kernelspec": {
   "display_name": "project",
   "language": "python",
   "name": "python3"
  },
  "language_info": {
   "codemirror_mode": {
    "name": "ipython",
    "version": 3
   },
   "file_extension": ".py",
   "mimetype": "text/x-python",
   "name": "python",
   "nbconvert_exporter": "python",
   "pygments_lexer": "ipython3",
   "version": "3.12.11"
  }
 },
 "nbformat": 4,
 "nbformat_minor": 5
}
