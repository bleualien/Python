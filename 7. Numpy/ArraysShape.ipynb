{
 "cells": [
  {
   "cell_type": "markdown",
   "id": "44fb1a8e",
   "metadata": {},
   "source": [
    "**Check the shape of 0-D**"
   ]
  },
  {
   "cell_type": "code",
   "execution_count": null,
   "id": "a03a73ee",
   "metadata": {},
   "outputs": [
    {
     "name": "stdout",
     "output_type": "stream",
     "text": [
      "10\n",
      "0\n",
      "()\n"
     ]
    }
   ],
   "source": [
    "import numpy as np\n",
    "n = np.array(10)\n",
    "print(n)\n",
    "print(n.ndim)#no dimension\n",
    "print(n.shape)#no axes, just a single value so()"
   ]
  },
  {
   "cell_type": "markdown",
   "id": "da8dd48c",
   "metadata": {},
   "source": [
    "**Check the shape of 1-D**"
   ]
  },
  {
   "cell_type": "code",
   "execution_count": null,
   "id": "37aab2c3",
   "metadata": {},
   "outputs": [
    {
     "name": "stdout",
     "output_type": "stream",
     "text": [
      "[1 2 6]\n",
      "1\n",
      "(3,)\n"
     ]
    }
   ],
   "source": [
    "n = np.array([1,2,6])\n",
    "print(n)\n",
    "print(n.ndim)\n",
    "print(n.shape)\n",
    "# 3 is no. of elements"
   ]
  },
  {
   "cell_type": "markdown",
   "id": "dea78547",
   "metadata": {},
   "source": [
    "**Check the shape of 2-D**"
   ]
  },
  {
   "cell_type": "code",
   "execution_count": 4,
   "id": "08cd93e8",
   "metadata": {},
   "outputs": [
    {
     "name": "stdout",
     "output_type": "stream",
     "text": [
      "[[ 1  3  5]\n",
      " [ 4  8 12]]\n",
      "2\n",
      "(2, 3)\n"
     ]
    }
   ],
   "source": [
    "#2x3 matrix\n",
    "n = np.array([[1,3,5],[4,8,12]])\n",
    "print(n)\n",
    "print(n.ndim)\n",
    "print(n.shape)"
   ]
  },
  {
   "cell_type": "markdown",
   "id": "0002a628",
   "metadata": {},
   "source": [
    "**Check the shape of 3-D**"
   ]
  },
  {
   "cell_type": "code",
   "execution_count": null,
   "id": "10d27ff0",
   "metadata": {},
   "outputs": [
    {
     "name": "stdout",
     "output_type": "stream",
     "text": [
      "[[[ 1  2  3]\n",
      "  [ 4  5  6]]\n",
      "\n",
      " [[ 7  8  9]\n",
      "  [10 11 12]]]\n",
      "3\n",
      "(2, 2, 3)\n"
     ]
    }
   ],
   "source": [
    "n = np.array([[[1,2,3],[4,5,6]],[[7,8,9],[10,11,12]]])\n",
    "print(n)\n",
    "print(n.ndim)\n",
    "print(n.shape)\n",
    "\n",
    "# 2, 3, 3\n",
    "# 2 =no. of 2d array\n",
    "# 2 =2d array row\n",
    "# 3 =3d array column"
   ]
  },
  {
   "cell_type": "code",
   "execution_count": null,
   "id": "0cd39a6f",
   "metadata": {},
   "outputs": [],
   "source": []
  }
 ],
 "metadata": {
  "kernelspec": {
   "display_name": "project",
   "language": "python",
   "name": "python3"
  },
  "language_info": {
   "codemirror_mode": {
    "name": "ipython",
    "version": 3
   },
   "file_extension": ".py",
   "mimetype": "text/x-python",
   "name": "python",
   "nbconvert_exporter": "python",
   "pygments_lexer": "ipython3",
   "version": "3.12.11"
  }
 },
 "nbformat": 4,
 "nbformat_minor": 5
}
