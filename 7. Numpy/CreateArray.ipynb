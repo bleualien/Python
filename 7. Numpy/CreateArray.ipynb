{
 "cells": [
  {
   "cell_type": "markdown",
   "id": "522512a2",
   "metadata": {},
   "source": [
    "# Create a Numpy Array by passing tuple"
   ]
  },
  {
   "cell_type": "code",
   "execution_count": 7,
   "id": "2a73efba",
   "metadata": {},
   "outputs": [
    {
     "name": "stdout",
     "output_type": "stream",
     "text": [
      "[1 2 3]\n",
      "<class 'numpy.ndarray'>\n",
      "(3,)\n"
     ]
    }
   ],
   "source": [
    "import numpy as np\n",
    "n = np.array((1,2,3))#using tuple so parentheses\n",
    "print(n)\n",
    "print(type(n))\n",
    "#ndarray= n dimenssion array\n",
    "print(n.shape)"
   ]
  },
  {
   "cell_type": "markdown",
   "id": "c1f85db1",
   "metadata": {},
   "source": [
    "# Create a NumPy Array by passing list"
   ]
  },
  {
   "cell_type": "code",
   "execution_count": 8,
   "id": "163e86f5",
   "metadata": {},
   "outputs": [
    {
     "name": "stdout",
     "output_type": "stream",
     "text": [
      "[1 2 3]\n",
      "<class 'numpy.ndarray'>\n",
      "(3,)\n"
     ]
    }
   ],
   "source": [
    "import numpy as np\n",
    "n = np.array([1,2,3])#using list so square bracket\n",
    "print(n)\n",
    "print(type(n))\n",
    "print(n.shape)"
   ]
  }
 ],
 "metadata": {
  "kernelspec": {
   "display_name": "project",
   "language": "python",
   "name": "python3"
  },
  "language_info": {
   "codemirror_mode": {
    "name": "ipython",
    "version": 3
   },
   "file_extension": ".py",
   "mimetype": "text/x-python",
   "name": "python",
   "nbconvert_exporter": "python",
   "pygments_lexer": "ipython3",
   "version": "3.12.11"
  }
 },
 "nbformat": 4,
 "nbformat_minor": 5
}
