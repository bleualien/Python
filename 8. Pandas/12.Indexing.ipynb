{
 "cells": [
  {
   "cell_type": "markdown",
   "id": "ce488d62",
   "metadata": {},
   "source": [
    "- Indexing means selecting specific  rows and columns of data from DataFrame.\n",
    "- it includes columns, index, and data"
   ]
  },
  {
   "cell_type": "markdown",
   "id": "fbe2cde4",
   "metadata": {},
   "source": [
    "**Indexing in Pandas using the indexing operator[]**\n",
    "- we can use directly [ ] to retrive records"
   ]
  },
  {
   "cell_type": "code",
   "execution_count": 16,
   "id": "528d38e1",
   "metadata": {},
   "outputs": [
    {
     "name": "stdout",
     "output_type": "stream",
     "text": [
      "Our DataFrame =\n",
      "          Price  Used(in year)\n",
      "Devices                      \n",
      "Mobile     80k            1.5\n",
      "Monitor    40k            4.0\n",
      "Mouse       2k            4.0\n",
      "Keyboard  3.4k            4.0\n",
      "Laptop    200k            2.0\n",
      "\n",
      " Devices\n",
      "Mobile      1.5\n",
      "Monitor     4.0\n",
      "Mouse       4.0\n",
      "Keyboard    4.0\n",
      "Laptop      2.0\n",
      "Name: Used(in year), dtype: float64\n"
     ]
    }
   ],
   "source": [
    "import pandas as pd\n",
    "\n",
    "#load CSV file\n",
    "df = pd.read_excel(r\"C:\\Users\\Saina\\Desktop\\Tech.xlsx\", index_col=\"Devices\")\n",
    "#index_col le Devices visible garauxa garauxa otherwisw default indexing(1,2,3,4) dhekhauxa\n",
    "\n",
    "#diaplaying\n",
    "print(\"Our DataFrame =\\n\",df)\n",
    "\n",
    "#using indexing operator\n",
    "res = df[\"Used(in year)\"]\n",
    "\n",
    "print(\"\\n\",res)\n"
   ]
  },
  {
   "cell_type": "markdown",
   "id": "e058e19d",
   "metadata": {},
   "source": [
    "**Indexing using loc[ ]**\n",
    "- we use loc[ ] to retrive a single row"
   ]
  },
  {
   "cell_type": "code",
   "execution_count": 23,
   "id": "ed2b230e",
   "metadata": {},
   "outputs": [
    {
     "name": "stdout",
     "output_type": "stream",
     "text": [
      "Our DataFrame =\n",
      "          Price  Used(in year)\n",
      "Devices                      \n",
      "Mobile     80k            1.5\n",
      "Monitor    40k            4.0\n",
      "Mouse       2k            4.0\n",
      "Keyboard  3.4k            4.0\n",
      "Laptop    200k            2.0\n",
      "\n",
      " Price            40k\n",
      "Used(in year)    4.0\n",
      "Name: Monitor, dtype: object\n"
     ]
    }
   ],
   "source": [
    "import pandas as pd\n",
    "\n",
    "#load CSV file\n",
    "df = pd.read_excel(r\"C:\\Users\\Saina\\Desktop\\Tech.xlsx\", index_col=\"Devices\")\n",
    "#index_col le Devices visible garauxa garauxa otherwisw default indexing(1,2,3,4) dhekhauxa\n",
    "\n",
    "#diaplaying\n",
    "print(\"Our DataFrame =\\n\",df)\n",
    "\n",
    "#using loc operator\n",
    "print(\"\\n\",df.loc[\"Monitor\"])\n",
    "\n"
   ]
  },
  {
   "cell_type": "markdown",
   "id": "c3783d84",
   "metadata": {},
   "source": [
    "**Indexing using iloc[ ]**\n",
    "- we use iloc[ ] to retrive a single row"
   ]
  },
  {
   "cell_type": "code",
   "execution_count": 27,
   "id": "47a478ce",
   "metadata": {},
   "outputs": [
    {
     "name": "stdout",
     "output_type": "stream",
     "text": [
      "Our DataFrame =\n",
      "          Price  Used(in year)\n",
      "Devices                      \n",
      "Mobile     80k            1.5\n",
      "Monitor    40k            4.0\n",
      "Mouse       2k            4.0\n",
      "Keyboard  3.4k            4.0\n",
      "Laptop    200k            2.0\n",
      "\n",
      " Price             2k\n",
      "Used(in year)    4.0\n",
      "Name: Mouse, dtype: object\n"
     ]
    }
   ],
   "source": [
    "import pandas as pd\n",
    "\n",
    "#load CSV file\n",
    "df = pd.read_excel(r\"C:\\Users\\Saina\\Desktop\\Tech.xlsx\", index_col=\"Devices\")\n",
    "#index_col le Devices visible garauxa garauxa otherwisw default indexing(1,2,3,4) dhekhauxa\n",
    "\n",
    "#diaplaying\n",
    "print(\"Our DataFrame =\\n\",df)\n",
    "\n",
    "#Retriving row 3 records\n",
    "res = df.iloc[2]\n",
    "\n",
    "print(\"\\n\",res)\n"
   ]
  }
 ],
 "metadata": {
  "kernelspec": {
   "display_name": "project",
   "language": "python",
   "name": "python3"
  },
  "language_info": {
   "codemirror_mode": {
    "name": "ipython",
    "version": 3
   },
   "file_extension": ".py",
   "mimetype": "text/x-python",
   "name": "python",
   "nbconvert_exporter": "python",
   "pygments_lexer": "ipython3",
   "version": "3.12.11"
  }
 },
 "nbformat": 4,
 "nbformat_minor": 5
}
