{
 "cells": [
  {
   "cell_type": "markdown",
   "id": "12b4354e",
   "metadata": {},
   "source": [
    "***Series***\n",
    "- 1-d array, like a column in a table\n",
    "- a labled array that can hold data of any type\n",
    "- series() method is used for this \n",
    "\n",
    "**parameters:**\n",
    "- **Data:** data to be stored in the Pandas Series\n",
    "- **Index:** inedex values should have the same length as tha data\n",
    "- **dtype:** datatype for the output series\n",
    "- **name:** set the series name with the name parameter \n",
    "- **copy:** to copy the input data"
   ]
  },
  {
   "cell_type": "markdown",
   "id": "4e6a3813",
   "metadata": {},
   "source": [
    "***Create a Pandas Series***"
   ]
  },
  {
   "cell_type": "code",
   "execution_count": 2,
   "id": "9f685975",
   "metadata": {},
   "outputs": [
    {
     "name": "stdout",
     "output_type": "stream",
     "text": [
      "Series:\n",
      " 0     0\n",
      "1    20\n",
      "2    30\n",
      "3    40\n",
      "4    50\n",
      "dtype: int64\n"
     ]
    }
   ],
   "source": [
    "import pandas as pd\n",
    "\n",
    "#Datatset\n",
    "data=[0,20,30,40,50]\n",
    "\n",
    "#Create a Series using the Series() method\n",
    "s = pd.Series(data)\n",
    "\n",
    "#Display The Series\n",
    "print(\"Series:\\n\",s)"
   ]
  },
  {
   "cell_type": "markdown",
   "id": "b6f15ff2",
   "metadata": {},
   "source": [
    "***Access value from a Pandas Series*** [ ] is used to access the values from a series"
   ]
  },
  {
   "cell_type": "code",
   "execution_count": 4,
   "id": "dbe653a6",
   "metadata": {},
   "outputs": [
    {
     "name": "stdout",
     "output_type": "stream",
     "text": [
      "Series\n",
      " 0     0\n",
      "1    20\n",
      "2    30\n",
      "3    40\n",
      "4    50\n",
      "dtype: int64\n",
      "\n",
      "Value from a Pandas Series 30\n"
     ]
    }
   ],
   "source": [
    "#Datatset\n",
    "data=[0,20,30,40,50]\n",
    "\n",
    "#Create a Series using the Series() method\n",
    "s = pd.Series(data)\n",
    "\n",
    "print(\"Series\\n\", s)\n",
    "\n",
    "#Access the value\n",
    "print(\"\\nValue from a Pandas Series\",s[2])"
   ]
  },
  {
   "cell_type": "markdown",
   "id": "d00c93a4",
   "metadata": {},
   "source": [
    "***Name your own indexes in a Pandas Series***"
   ]
  },
  {
   "cell_type": "code",
   "execution_count": 5,
   "id": "b7b621c2",
   "metadata": {},
   "outputs": [
    {
     "name": "stdout",
     "output_type": "stream",
     "text": [
      "Series\n",
      " RowA     0\n",
      "RowB    20\n",
      "RowC    30\n",
      "RowD    40\n",
      "RowE    50\n",
      "dtype: int64\n"
     ]
    }
   ],
   "source": [
    "import pandas as pd\n",
    "#Datatset\n",
    "data=[0,20,30,40,50]\n",
    "\n",
    "#Create a Series using the Series() method\n",
    "#s = pd.Series(data)\n",
    "s = pd.Series(data, index = ['RowA','RowB','RowC','RowD','RowE'])\n",
    "\n",
    "#Displaying\n",
    "print(\"Series\\n\", s)\n",
    "\n"
   ]
  },
  {
   "cell_type": "markdown",
   "id": "f276524e",
   "metadata": {},
   "source": [
    "***Access value from a Pandas Series with lables***"
   ]
  },
  {
   "cell_type": "code",
   "execution_count": 12,
   "id": "ab3a78fc",
   "metadata": {},
   "outputs": [
    {
     "name": "stdout",
     "output_type": "stream",
     "text": [
      "Series(with custom index labels)\n",
      " RowA     0\n",
      "RowB    20\n",
      "RowC    30\n",
      "RowD    40\n",
      "RowE    50\n",
      "dtype: int64\n",
      "\n",
      "Value form a Panda Series with labelD is : 40\n"
     ]
    }
   ],
   "source": [
    "import pandas as pd\n",
    "#Datatset\n",
    "data=[0,20,30,40,50]\n",
    "\n",
    "#Create a Series using the Series() method\n",
    "#s = pd.Series(data)\n",
    "s = pd.Series(data, index = ['RowA','RowB','RowC','RowD','RowE'])\n",
    "\n",
    "#Displaying\n",
    "print(\"Series(with custom index labels)\\n\", s)\n",
    "\n",
    "#Access a value reffering the last\n",
    "print(\"\\nValue form a Panda Series with labelD is :\",s[\"RowD\"])\n",
    "\n"
   ]
  }
 ],
 "metadata": {
  "kernelspec": {
   "display_name": "project",
   "language": "python",
   "name": "python3"
  },
  "language_info": {
   "codemirror_mode": {
    "name": "ipython",
    "version": 3
   },
   "file_extension": ".py",
   "mimetype": "text/x-python",
   "name": "python",
   "nbconvert_exporter": "python",
   "pygments_lexer": "ipython3",
   "version": "3.12.11"
  }
 },
 "nbformat": 4,
 "nbformat_minor": 5
}
