{
 "cells": [
  {
   "cell_type": "markdown",
   "id": "154e3a09",
   "metadata": {},
   "source": [
    "**means to find and remove suplicates from rows in DataFrame or Series**\n",
    "\n",
    "- **duplicated()**: Finds Duplicates\n",
    "- **drop_duplicates()**: Remove Duplicates"
   ]
  },
  {
   "cell_type": "markdown",
   "id": "e17e8f6c",
   "metadata": {},
   "source": [
    "**Find Duplicates**\n",
    "- use the duplicated() method\n",
    "- returns a Series with True or False, returns True if duplicate\n"
   ]
  },
  {
   "cell_type": "code",
   "execution_count": 7,
   "id": "5127de78",
   "metadata": {},
   "outputs": [
    {
     "name": "stdout",
     "output_type": "stream",
     "text": [
      "Students Records\n",
      "   Student  Rank  Marks\n",
      "0    Raja     1     97\n",
      "1     Ram     4     24\n",
      "2    Rama     3     95\n",
      "3    Raja     1     97\n",
      "4    Rabi     5     76\n",
      "\n",
      "Describing Duplicates\n",
      " 0    False\n",
      "1    False\n",
      "2    False\n",
      "3     True\n",
      "4    False\n",
      "dtype: bool\n"
     ]
    }
   ],
   "source": [
    "import pandas as pd\n",
    "\n",
    "#DataSet\n",
    "data= {\n",
    "    'Student': [\"Raja\",\"Ram\",\"Rama\",\"Raja\",\"Rabi\"],\n",
    "    'Rank':[1,4,3,1,5],\n",
    "    'Marks':[97,24,95,97,76],\n",
    "}\n",
    "\n",
    "df = pd.DataFrame(data)\n",
    "print(\"Students Records\\n\",df)\n",
    "\n",
    "#Find the duplicate\n",
    "res = df.duplicated()\n",
    "print(\"\\nDescribing Duplicates\\n\",res)\n",
    "\n"
   ]
  },
  {
   "cell_type": "markdown",
   "id": "e061f7eb",
   "metadata": {},
   "source": [
    "Remove Duplicates using **drop_duplicates()**:"
   ]
  },
  {
   "cell_type": "code",
   "execution_count": 11,
   "id": "47f1294e",
   "metadata": {},
   "outputs": [
    {
     "name": "stdout",
     "output_type": "stream",
     "text": [
      "Students Records\n",
      "   Student  Rank  Marks\n",
      "0    Raja     1     97\n",
      "1     Ram     4     24\n",
      "2    Rama     3     95\n",
      "3    Raja     1     97\n",
      "4    Rabi     5     76\n",
      "\n",
      "New DataFrame after deleting Duplicates\n",
      "   Student  Rank  Marks\n",
      "0    Raja     1     97\n",
      "1     Ram     4     24\n",
      "2    Rama     3     95\n",
      "4    Rabi     5     76\n"
     ]
    }
   ],
   "source": [
    "import pandas as pd\n",
    "\n",
    "#DataSet\n",
    "data= {\n",
    "    'Student': [\"Raja\",\"Ram\",\"Rama\",\"Raja\",\"Rabi\"],\n",
    "    'Rank':[1,4,3,1,5],\n",
    "    'Marks':[97,24,95,97,76],\n",
    "}\n",
    "\n",
    "df = pd.DataFrame(data)\n",
    "print(\"Students Records\\n\",df)\n",
    "\n",
    "#Find the duplicate\n",
    "res = df.drop_duplicates()\n",
    "print(\"\\nNew DataFrame after deleting Duplicates\\n\",res)\n",
    "\n"
   ]
  }
 ],
 "metadata": {
  "kernelspec": {
   "display_name": "project",
   "language": "python",
   "name": "python3"
  },
  "language_info": {
   "codemirror_mode": {
    "name": "ipython",
    "version": 3
   },
   "file_extension": ".py",
   "mimetype": "text/x-python",
   "name": "python",
   "nbconvert_exporter": "python",
   "pygments_lexer": "ipython3",
   "version": "3.12.11"
  }
 },
 "nbformat": 4,
 "nbformat_minor": 5
}
