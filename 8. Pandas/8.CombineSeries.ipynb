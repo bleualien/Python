{
 "cells": [
  {
   "cell_type": "markdown",
   "id": "b6acf010",
   "metadata": {},
   "source": [
    "***Comnine two Pandas Series***\n",
    "- to combine two Pandas series into one in Python, use the ***combine()*** method\n",
    "- It uses a specified function for the decision, mentioned by the user as a parameter of the combine()"
   ]
  },
  {
   "cell_type": "markdown",
   "id": "c5636905",
   "metadata": {},
   "source": [
    "***Combine two Pandas Series***"
   ]
  },
  {
   "cell_type": "code",
   "execution_count": 9,
   "id": "1266122a",
   "metadata": {},
   "outputs": [
    {
     "name": "stdout",
     "output_type": "stream",
     "text": [
      "Series1: \n",
      " 0    10\n",
      "1    20\n",
      "2    30\n",
      "3    40\n",
      "4    50\n",
      "dtype: int64\n",
      "Series2: \n",
      " 0    25\n",
      "1     5\n",
      "2    75\n",
      "3    95\n",
      "4    45\n",
      "dtype: int64\n",
      "\n",
      "After combing\n",
      " 0    25\n",
      "1    20\n",
      "2    75\n",
      "3    95\n",
      "4    50\n",
      "dtype: int64\n"
     ]
    }
   ],
   "source": [
    "import pandas as pd\n",
    "data1=[10,20,30,40,50]\n",
    "data2=[25,5,75,95,45]\n",
    "\n",
    "#Create a Series using the Series() method\n",
    "series1 = pd.Series(data1)\n",
    "series2 = pd.Series(data2)\n",
    "\n",
    "#Display the series\n",
    "print(\"Series1: \\n\", series1)\n",
    "print(\"Series2: \\n\", series2)\n",
    "\n",
    "def demo(x1, x2):\n",
    "    if(x1 > x2):\n",
    "        return x1\n",
    "    else:\n",
    "        return x2\n",
    "\n",
    "#Combine two series into one\n",
    "#The function returns the largest value\n",
    "res = series1.combine(series2,demo)\n",
    "\n",
    "#Display the result\n",
    "print(\"\\nAfter combing\\n\", res)\n",
    "\n"
   ]
  }
 ],
 "metadata": {
  "kernelspec": {
   "display_name": "project",
   "language": "python",
   "name": "python3"
  },
  "language_info": {
   "codemirror_mode": {
    "name": "ipython",
    "version": 3
   },
   "file_extension": ".py",
   "mimetype": "text/x-python",
   "name": "python",
   "nbconvert_exporter": "python",
   "pygments_lexer": "ipython3",
   "version": "3.12.11"
  }
 },
 "nbformat": 4,
 "nbformat_minor": 5
}
