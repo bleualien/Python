{
 "cells": [
  {
   "cell_type": "markdown",
   "id": "bf290222",
   "metadata": {},
   "source": [
    "***Attrubutes and Methods***\n",
    "- ***dtype:***  return the dtype\n",
    "- ***ndim:***  return the Number of dimensions\n",
    "- ***size:***  return the Number of elements\n",
    "- ***name:***  return the Number of Series\n",
    "- ***hasnans:***  return True if NaNs are in series\n",
    "- ***index:***  the index of the series\n",
    "- ***head():***  Return the first n rows\n",
    "- ***tail():***  Return the last n rows\n",
    "- ***info():***  Display the Summary of the series"
   ]
  },
  {
   "cell_type": "markdown",
   "id": "dbca1649",
   "metadata": {},
   "source": [
    "Pandas dtype attribute\n",
    "- pandas.series.dtype"
   ]
  },
  {
   "cell_type": "code",
   "execution_count": 3,
   "id": "cd298483",
   "metadata": {},
   "outputs": [
    {
     "name": "stdout",
     "output_type": "stream",
     "text": [
      "Series:\n",
      " 0     0\n",
      "1    20\n",
      "2    30\n",
      "3    40\n",
      "4    50\n",
      "dtype: int64\n",
      "\n",
      "VSeries Datatype : int64\n"
     ]
    }
   ],
   "source": [
    "import pandas as pd\n",
    "#Datatset\n",
    "data=[0,20,30,40,50]\n",
    "\n",
    "#Create a Series using the Series() method\n",
    "#s = pd.Series(data)\n",
    "s = pd.Series(data)\n",
    "\n",
    "#Displaying\n",
    "print(\"Series:\\n\", s)\n",
    "\n",
    "#Access a value reffering the last\n",
    "print(\"\\nVSeries Datatype :\",s.dtype)"
   ]
  },
  {
   "cell_type": "markdown",
   "id": "19cb85bd",
   "metadata": {},
   "source": [
    "***Pandas ndim attribute***\n",
    "- pandas.series.ndim"
   ]
  },
  {
   "cell_type": "code",
   "execution_count": 12,
   "id": "1cbea1cf",
   "metadata": {},
   "outputs": [
    {
     "name": "stdout",
     "output_type": "stream",
     "text": [
      "Series:\n",
      " 0     0\n",
      "1    20\n",
      "2    30\n",
      "3    40\n",
      "4    50\n",
      "dtype: int64\n",
      "\n",
      "Series Dimensions : 1\n"
     ]
    }
   ],
   "source": [
    "import pandas as pd\n",
    "#Datatset\n",
    "data=[0,20,30,40,50]\n",
    "\n",
    "#Create a Series using the Series() method\n",
    "#s = pd.Series(data)\n",
    "s = pd.Series(data)\n",
    "\n",
    "#Displaying\n",
    "print(\"Series:\\n\", s)\n",
    "\n",
    "#Return the dimensions of the series\n",
    "print(\"\\nSeries Dimensions :\",s.ndim)"
   ]
  },
  {
   "cell_type": "markdown",
   "id": "b63488c9",
   "metadata": {},
   "source": [
    "***Pandas size attribute***"
   ]
  },
  {
   "cell_type": "code",
   "execution_count": 11,
   "id": "cdddc914",
   "metadata": {},
   "outputs": [
    {
     "name": "stdout",
     "output_type": "stream",
     "text": [
      "Series:\n",
      " 0     0\n",
      "1    20\n",
      "2    30\n",
      "3    40\n",
      "4    50\n",
      "dtype: int64\n",
      "\n",
      "Series Size : 5\n"
     ]
    }
   ],
   "source": [
    "import pandas as pd\n",
    "#Datatset\n",
    "data=[0,20,30,40,50]\n",
    "\n",
    "#Create a Series using the Series() method\n",
    "#s = pd.Series(data)\n",
    "s = pd.Series(data)\n",
    "\n",
    "#Displaying\n",
    "print(\"Series:\\n\", s)\n",
    "\n",
    "#Return the size of the series\n",
    "print(\"\\nSeries Size :\",s.size)"
   ]
  },
  {
   "cell_type": "markdown",
   "id": "39caa823",
   "metadata": {},
   "source": [
    "***Pandas name attribute***"
   ]
  },
  {
   "cell_type": "code",
   "execution_count": 13,
   "id": "48bdb730",
   "metadata": {},
   "outputs": [
    {
     "name": "stdout",
     "output_type": "stream",
     "text": [
      "Series:\n",
      " 0     0\n",
      "1    20\n",
      "2    30\n",
      "3    40\n",
      "4    50\n",
      "Name: MyNunberSeries, dtype: int64\n",
      "\n",
      "Series Name : MyNunberSeries\n"
     ]
    }
   ],
   "source": [
    "import pandas as pd\n",
    "#Datatset\n",
    "data=[0,20,30,40,50]\n",
    "\n",
    "#Create a Series using the Series() method\n",
    "#s = pd.Series(data)\n",
    "s = pd.Series(data, name = \"MyNunberSeries\")\n",
    "\n",
    "#Displaying\n",
    "print(\"Series:\\n\", s)\n",
    "\n",
    "#Return the Name of the series\n",
    "print(\"\\nSeries Name :\",s.name)"
   ]
  },
  {
   "cell_type": "markdown",
   "id": "9d9bb5c2",
   "metadata": {},
   "source": [
    "***Pandas hasnans attribute***\n",
    "- ***pandas.series.hasnans*** atttribute returns True if NaNs are in the Pandas Series"
   ]
  },
  {
   "cell_type": "code",
   "execution_count": 30,
   "id": "969a7c8e",
   "metadata": {},
   "outputs": [
    {
     "name": "stdout",
     "output_type": "stream",
     "text": [
      "Series:\n",
      " 0     0.0\n",
      "1    20.0\n",
      "2    30.0\n",
      "3    40.0\n",
      "4    50.0\n",
      "5     NaN\n",
      "Name: MyNunberSeries, dtype: float64\n",
      "\n",
      "Does the Series has NaN?: True\n"
     ]
    }
   ],
   "source": [
    "import pandas as pd\n",
    "import numpy as np\n",
    "#Datatset\n",
    "data=[0,20,30,40,50, np.nan]\n",
    "\n",
    "#Create a Series using the Series() method\n",
    "#s = pd.Series(data)\n",
    "s = pd.Series(data, name = \"MyNunberSeries\")\n",
    "\n",
    "#Displaying\n",
    "print(\"Series:\\n\", s)\n",
    "\n",
    "#CHeck if the series has NaN value\n",
    "print(\"\\nDoes the Series has NaN?:\",s.hasnans)"
   ]
  },
  {
   "cell_type": "markdown",
   "id": "1adf026c",
   "metadata": {},
   "source": [
    "***Pandas index attribute***"
   ]
  },
  {
   "cell_type": "code",
   "execution_count": 29,
   "id": "d006d1da",
   "metadata": {},
   "outputs": [
    {
     "name": "stdout",
     "output_type": "stream",
     "text": [
      "Series:\n",
      " Num1     0\n",
      "Num2    20\n",
      "Num3    30\n",
      "Num4    40\n",
      "Num5    50\n",
      "Name: MyNunberSeries, dtype: int64\n",
      "\n",
      "Series Index :\n",
      " Index(['Num1', 'Num2', 'Num3', 'Num4', 'Num5'], dtype='object')\n"
     ]
    }
   ],
   "source": [
    "import pandas as pd\n",
    "#Datatset\n",
    "data=[0,20,30,40,50]\n",
    "\n",
    "#Create a Series using the Series() method\n",
    "#s = pd.Series(data)\n",
    "s = pd.Series(data, index=['Num1','Num2','Num3','Num4','Num5'],name = \"MyNunberSeries\")\n",
    "\n",
    "#Displaying\n",
    "print(\"Series:\\n\", s)\n",
    "\n",
    "#Return the index of series\n",
    "print(\"\\nSeries Index :\\n\",s.index)"
   ]
  },
  {
   "cell_type": "markdown",
   "id": "b1d098e8",
   "metadata": {},
   "source": [
    "***Pandas head() method***\n",
    "- pandas.series.head() method is used to return the first n rows of the Pandas Series"
   ]
  },
  {
   "cell_type": "code",
   "execution_count": null,
   "id": "0f42d0c7",
   "metadata": {},
   "outputs": [
    {
     "name": "stdout",
     "output_type": "stream",
     "text": [
      "Series:\n",
      " 0      10\n",
      "1      20\n",
      "2      30\n",
      "3      40\n",
      "4      50\n",
      "5      45\n",
      "6      65\n",
      "7      23\n",
      "8      56\n",
      "9     734\n",
      "10     21\n",
      "dtype: int64\n",
      "\n",
      "First 5 rows of the Series :\n",
      " 0    10\n",
      "1    20\n",
      "2    30\n",
      "3    40\n",
      "4    50\n",
      "dtype: int64\n",
      "\n",
      "First 2 rows of the Series :\n",
      " 0    10\n",
      "1    20\n",
      "dtype: int64\n"
     ]
    }
   ],
   "source": [
    "import pandas as pd\n",
    "#Datatset\n",
    "data=[10,20,30,40,50,45,65,23,56,734,21]\n",
    "\n",
    "#Create a Series using the Series() method\n",
    "#s = pd.Series(data)\n",
    "s = pd.Series(data)\n",
    "\n",
    "#Displaying\n",
    "print(\"Series:\\n\", s)\n",
    "\n",
    "#Return the first n rows\n",
    "print(\"\\nFirst 5 rows of the Series :\\n\",s.head())\n",
    "print(\"\\nFirst 2 rows of the Series :\\n\",s.head(2))"
   ]
  },
  {
   "cell_type": "markdown",
   "id": "5db2de30",
   "metadata": {},
   "source": [
    "***Pandas tail() method***\n",
    "- pandas.series.tail() method is used to return the last n rows of the Pandas"
   ]
  },
  {
   "cell_type": "code",
   "execution_count": 38,
   "id": "792d7fb1",
   "metadata": {},
   "outputs": [
    {
     "name": "stdout",
     "output_type": "stream",
     "text": [
      "Series:\n",
      " Num1     0\n",
      "Num2    20\n",
      "Num3    30\n",
      "Num4    40\n",
      "Num5    50\n",
      "Name: MyNunberSeries, dtype: int64\n",
      "<class 'pandas.core.series.Series'>\n",
      "Index: 5 entries, Num1 to Num5\n",
      "Series name: MyNunberSeries\n",
      "Non-Null Count  Dtype\n",
      "--------------  -----\n",
      "5 non-null      int64\n",
      "dtypes: int64(1)\n",
      "memory usage: 80.0+ bytes\n",
      "\n",
      "Series Info :\n",
      " None\n"
     ]
    }
   ],
   "source": [
    "import pandas as pd\n",
    "#Datatset\n",
    "data=[0,20,30,40,50]\n",
    "\n",
    "#Create a Series using the Series() method\n",
    "#s = pd.Series(data)\n",
    "s = pd.Series(data, index=['Num1','Num2','Num3','Num4','Num5'],name = \"MyNunberSeries\")\n",
    "\n",
    "#Displaying\n",
    "print(\"Series:\\n\", s)\n",
    "\n",
    "#Return the index of series\n",
    "print(\"\\nSeries Info :\\n\",s.info())"
   ]
  },
  {
   "cell_type": "markdown",
   "id": "0b21002c",
   "metadata": {},
   "source": [
    "***Pandas info() method***"
   ]
  },
  {
   "cell_type": "code",
   "execution_count": null,
   "id": "4c3bc138",
   "metadata": {},
   "outputs": [
    {
     "name": "stdout",
     "output_type": "stream",
     "text": [
      "Series:\n",
      " 0     0\n",
      "1    20\n",
      "2    30\n",
      "3    40\n",
      "4    50\n",
      "dtype: int64\n",
      "<class 'pandas.core.series.Series'>\n",
      "RangeIndex: 5 entries, 0 to 4\n",
      "Series name: None\n",
      "Non-Null Count  Dtype\n",
      "--------------  -----\n",
      "5 non-null      int64\n",
      "dtypes: int64(1)\n",
      "memory usage: 172.0 bytes\n",
      "\n",
      "Series Dimensions : None\n"
     ]
    }
   ],
   "source": [
    "import pandas as pd\n",
    "#Datatset\n",
    "data=[0,20,30,40,50]\n",
    "\n",
    "#Create a Series using the Series() method\n",
    "#s = pd.Series(data)\n",
    "s = pd.Series(data)\n",
    "\n",
    "#Displaying\n",
    "print(\"Series:\\n\", s)\n",
    "\n",
    "#Return the first n rows\n",
    "print(\"\\nSeries Dimensions :\",s.info())"
   ]
  }
 ],
 "metadata": {
  "kernelspec": {
   "display_name": "project",
   "language": "python",
   "name": "python3"
  },
  "language_info": {
   "codemirror_mode": {
    "name": "ipython",
    "version": 3
   },
   "file_extension": ".py",
   "mimetype": "text/x-python",
   "name": "python",
   "nbconvert_exporter": "python",
   "pygments_lexer": "ipython3",
   "version": "3.12.11"
  }
 },
 "nbformat": 4,
 "nbformat_minor": 5
}
