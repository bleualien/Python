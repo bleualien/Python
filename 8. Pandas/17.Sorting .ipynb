{
 "cells": [
  {
   "cell_type": "markdown",
   "id": "c50169f3",
   "metadata": {},
   "source": [
    "- use sort_values() method\n",
    "- default is ascending\n"
   ]
  },
  {
   "cell_type": "markdown",
   "id": "78d31bd9",
   "metadata": {},
   "source": [
    "**Sort the pandas DataFrame (default ascending order)**"
   ]
  },
  {
   "cell_type": "code",
   "execution_count": 1,
   "id": "4c0eccc3",
   "metadata": {},
   "outputs": [
    {
     "name": "stdout",
     "output_type": "stream",
     "text": [
      "Students Records\n",
      "        Id Student  Rank  Marks\n",
      "RowA  S01    Raja     1     97\n",
      "RowB  S02     Ram     4     24\n",
      "RowC  S03    Rama     3     95\n",
      "RowD  S04  Ramesh     2     54\n",
      "RowE  S05    Rabi     5     76\n",
      "\n",
      " Sorting in asscending order\n",
      "        Id Student  Rank  Marks\n",
      "RowA  S01    Raja     1     97\n",
      "RowD  S04  Ramesh     2     54\n",
      "RowC  S03    Rama     3     95\n",
      "RowB  S02     Ram     4     24\n",
      "RowE  S05    Rabi     5     76\n"
     ]
    }
   ],
   "source": [
    "import pandas as pd\n",
    "\n",
    "#DataSet\n",
    "data= {\n",
    "    'Id':[\"S01\",\"S02\",\"S03\",\"S04\",\"S05\",],\n",
    "    'Student': [\"Raja\",\"Ram\",\"Rama\",\"Ramesh\",\"Rabi\"],\n",
    "    'Rank':[1,4,3,2,5],\n",
    "    'Marks':[97,24,95,54,76],\n",
    "}\n",
    "\n",
    "df = pd.DataFrame(data, index=[\"RowA\",\"RowB\",\"RowC\",\"RowD\",\"RowE\",])\n",
    "print(\"Students Records\\n\",df)\n",
    "\n",
    "#Sort the dataframe in ascending order(Default)\n",
    "print(\"\\n Sorting in asscending order\\n\",df.sort_values(by=['Rank']))\n"
   ]
  },
  {
   "cell_type": "markdown",
   "id": "bf4f7c05",
   "metadata": {},
   "source": [
    "**Sort the pandas DataFrame in descending order**\n",
    "- use the **sort_values()** method\n",
    "- set the ascending parameter of the method to False for descending order"
   ]
  },
  {
   "cell_type": "code",
   "execution_count": 4,
   "id": "7f887e07",
   "metadata": {},
   "outputs": [
    {
     "name": "stdout",
     "output_type": "stream",
     "text": [
      "Students Records\n",
      "        Id Student  Rank  Marks\n",
      "RowA  S01    Raja     1     97\n",
      "RowB  S02     Ram     4     24\n",
      "RowC  S03    Rama     3     95\n",
      "RowD  S04  Ramesh     2     54\n",
      "RowE  S05    Rabi     5     76\n",
      "\n",
      "Sort in descending order\n",
      "        Id Student  Rank  Marks\n",
      "RowE  S05    Rabi     5     76\n",
      "RowB  S02     Ram     4     24\n",
      "RowC  S03    Rama     3     95\n",
      "RowD  S04  Ramesh     2     54\n",
      "RowA  S01    Raja     1     97\n"
     ]
    }
   ],
   "source": [
    "import pandas as pd\n",
    "\n",
    "#DataSet\n",
    "data= {\n",
    "    'Id':[\"S01\",\"S02\",\"S03\",\"S04\",\"S05\",],\n",
    "    'Student': [\"Raja\",\"Ram\",\"Rama\",\"Ramesh\",\"Rabi\"],\n",
    "    'Rank':[1,4,3,2,5],\n",
    "    'Marks':[97,24,95,54,76],\n",
    "}\n",
    "\n",
    "df = pd.DataFrame(data, index=[\"RowA\",\"RowB\",\"RowC\",\"RowD\",\"RowE\",])\n",
    "print(\"Students Records\\n\",df)\n",
    "\n",
    "#Sort the dataframe in descending order\n",
    "print(\"\\nSort in descending order\\n\",df.sort_values(by=\"Rank\", ascending=False))\n",
    "\n"
   ]
  }
 ],
 "metadata": {
  "kernelspec": {
   "display_name": "project",
   "language": "python",
   "name": "python3"
  },
  "language_info": {
   "codemirror_mode": {
    "name": "ipython",
    "version": 3
   },
   "file_extension": ".py",
   "mimetype": "text/x-python",
   "name": "python",
   "nbconvert_exporter": "python",
   "pygments_lexer": "ipython3",
   "version": "3.12.11"
  }
 },
 "nbformat": 4,
 "nbformat_minor": 5
}
