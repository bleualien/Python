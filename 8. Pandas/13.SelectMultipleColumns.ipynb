{
 "cells": [
  {
   "cell_type": "markdown",
   "id": "5ba8614b",
   "metadata": {},
   "source": [
    "- selects more than one column without using built-in functions\n",
    "- more than two columns can also be selected in a range"
   ]
  },
  {
   "cell_type": "markdown",
   "id": "33e29468",
   "metadata": {},
   "source": [
    "\n",
    "**Select two columns**\n",
    "- to select two specific columns from a Pandas DF, mention the column names\n",
    "- donot mention the name that you donot want to display\n",
    "\n",
    "**dataframe[['Rank','Marks]]**"
   ]
  },
  {
   "cell_type": "code",
   "execution_count": 5,
   "id": "91308add",
   "metadata": {},
   "outputs": [
    {
     "name": "stdout",
     "output_type": "stream",
     "text": [
      "Students Records\n",
      "   Student  Rank  Marks\n",
      "0    Raja     1     97\n",
      "1     Ram     4     24\n",
      "2    Rama     3     95\n",
      "3  Ramesh     2     54\n",
      "4    Rabi     5     76\n",
      "\n",
      "Selecting only two columns\n",
      "    Rank  Marks\n",
      "0     1     97\n",
      "1     4     24\n",
      "2     3     95\n",
      "3     2     54\n",
      "4     5     76\n"
     ]
    }
   ],
   "source": [
    "import pandas as pd\n",
    "\n",
    "#DataSet\n",
    "data= {\n",
    "    'Student': [\"Raja\",\"Ram\",\"Rama\",\"Ramesh\",\"Rabi\"],\n",
    "    'Rank':[1,4,3,2,5],\n",
    "    'Marks':[97,24,95,54,76]\n",
    "}\n",
    "\n",
    "df = pd.DataFrame(data)\n",
    "\n",
    "print(\"Students Records\\n\",df)\n",
    "print(\"\\nSelecting only two columns\\n\",df[['Rank','Marks']])\n",
    "\n"
   ]
  },
  {
   "cell_type": "markdown",
   "id": "9287a472",
   "metadata": {},
   "source": [
    "**Select multiple columns in a range**\n",
    "- selects more than one column in a range\n",
    "- uses colon to separate range\n",
    "\n",
    "**dataFrame[dataFrame.columns[2:3]]** selects 3rd and 5th columns\n",
    "\n"
   ]
  },
  {
   "cell_type": "code",
   "execution_count": 14,
   "id": "b14b8f45",
   "metadata": {},
   "outputs": [
    {
     "name": "stdout",
     "output_type": "stream",
     "text": [
      "Students Records\n",
      "     Id Student  Roll  Rank  Marks    Address\n",
      "0  S01    Raja   101     1     97       East\n",
      "1  S02     Ram   102     4     24      North\n",
      "2  S03    Rama   103     3     95       West\n",
      "3  S04  Ramesh   104     2     54      South\n",
      "4  S05    Rabi   105     5     76  SouthWest\n",
      "\n",
      "Selecting columns in a range\n",
      "    Roll  Rank  Marks\n",
      "0   101     1     97\n",
      "1   102     4     24\n",
      "2   103     3     95\n",
      "3   104     2     54\n",
      "4   105     5     76\n"
     ]
    }
   ],
   "source": [
    "import pandas as pd\n",
    "\n",
    "#DataSet\n",
    "data= {\n",
    "    'Id':[\"S01\",\"S02\",\"S03\",\"S04\",\"S05\",],\n",
    "    'Student': [\"Raja\",\"Ram\",\"Rama\",\"Ramesh\",\"Rabi\"],\n",
    "    'Roll':[101,102,103,104,105],\n",
    "    'Rank':[1,4,3,2,5],\n",
    "    'Marks':[97,24,95,54,76],\n",
    "    'Address':[\"East\",\"North\",\"West\",\"South\",\"SouthWest\"]\n",
    "}\n",
    "\n",
    "df = pd.DataFrame(data)\n",
    "\n",
    "\n",
    "#Select column 3rd to 5th\n",
    "print(\"Students Records\\n\",df)\n",
    "print(\"\\nSelecting columns in a range\\n\",df[df.columns[2:5]])\n"
   ]
  }
 ],
 "metadata": {
  "kernelspec": {
   "display_name": "project",
   "language": "python",
   "name": "python3"
  },
  "language_info": {
   "codemirror_mode": {
    "name": "ipython",
    "version": 3
   },
   "file_extension": ".py",
   "mimetype": "text/x-python",
   "name": "python",
   "nbconvert_exporter": "python",
   "pygments_lexer": "ipython3",
   "version": "3.12.11"
  }
 },
 "nbformat": 4,
 "nbformat_minor": 5
}
