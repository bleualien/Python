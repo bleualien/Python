{
 "cells": [
  {
   "cell_type": "markdown",
   "id": "344572ff",
   "metadata": {},
   "source": [
    "- drop() method is used in Python to delete rows/columns in a Pandas DataFrame\n",
    "- it is used to remove particular row or column"
   ]
  },
  {
   "cell_type": "markdown",
   "id": "a01129f4",
   "metadata": {},
   "source": [
    "**Drop columns**\n",
    "\n",
    "***axis='columns'\n",
    "or\n",
    "axis = 1***"
   ]
  },
  {
   "cell_type": "code",
   "execution_count": 1,
   "id": "c9cebef8",
   "metadata": {},
   "outputs": [
    {
     "name": "stdout",
     "output_type": "stream",
     "text": [
      "Students Records\n",
      "     Id Student  Rank  Marks\n",
      "0  S01    Raja     1     97\n",
      "1  S02     Ram     4     24\n",
      "2  S03    Rama     3     95\n",
      "3  S04  Ramesh     2     54\n",
      "4  S05    Rabi     5     76\n",
      "\n",
      "Updated DataFrame = \n",
      "     Id Student  Rank\n",
      "0  S01    Raja     1\n",
      "1  S02     Ram     4\n",
      "2  S03    Rama     3\n",
      "3  S04  Ramesh     2\n",
      "4  S05    Rabi     5\n"
     ]
    }
   ],
   "source": [
    "import pandas as pd\n",
    "\n",
    "#DataSet\n",
    "data= {\n",
    "    'Id':[\"S01\",\"S02\",\"S03\",\"S04\",\"S05\",],\n",
    "    'Student': [\"Raja\",\"Ram\",\"Rama\",\"Ramesh\",\"Rabi\"],\n",
    "    'Rank':[1,4,3,2,5],\n",
    "    'Marks':[97,24,95,54,76],\n",
    "}\n",
    "\n",
    "dataFrame = pd.DataFrame(data)\n",
    "print(\"Students Records\\n\",dataFrame)\n",
    "\n",
    "#Drop a column\n",
    "resDF = dataFrame.drop(\"Marks\", axis='columns')\n",
    "\n",
    "print(\"\\nUpdated DataFrame = \\n\",resDF)"
   ]
  },
  {
   "cell_type": "markdown",
   "id": "5d16952c",
   "metadata": {},
   "source": [
    "**Drop rows**\n",
    "\n",
    "***axis='index'\n",
    "or\n",
    "axis = 1***"
   ]
  },
  {
   "cell_type": "code",
   "execution_count": 4,
   "id": "c28ad754",
   "metadata": {},
   "outputs": [
    {
     "name": "stdout",
     "output_type": "stream",
     "text": [
      "Students Records\n",
      "     Id Student  Rank  Marks\n",
      "0  S01    Raja     1     97\n",
      "1  S02     Ram     4     24\n",
      "2  S03    Rama     3     95\n",
      "3  S04  Ramesh     2     54\n",
      "4  S05    Rabi     5     76\n",
      "\n",
      "Updated DataFrame = \n",
      "     Id Student  Rank  Marks\n",
      "0  S01    Raja     1     97\n",
      "1  S02     Ram     4     24\n",
      "3  S04  Ramesh     2     54\n",
      "4  S05    Rabi     5     76\n"
     ]
    }
   ],
   "source": [
    "import pandas as pd\n",
    "\n",
    "#DataSet\n",
    "data= {\n",
    "    'Id':[\"S01\",\"S02\",\"S03\",\"S04\",\"S05\",],\n",
    "    'Student': [\"Raja\",\"Ram\",\"Rama\",\"Ramesh\",\"Rabi\"],\n",
    "    'Rank':[1,4,3,2,5],\n",
    "    'Marks':[97,24,95,54,76],\n",
    "}\n",
    "\n",
    "dataFrame = pd.DataFrame(data)\n",
    "print(\"Students Records\\n\",dataFrame)\n",
    "\n",
    "#Drop a column\n",
    "resDF = dataFrame.drop(2, axis='index')\n",
    "\n",
    "print(\"\\nUpdated DataFrame = \\n\",resDF)"
   ]
  }
 ],
 "metadata": {
  "kernelspec": {
   "display_name": "project",
   "language": "python",
   "name": "python3"
  },
  "language_info": {
   "codemirror_mode": {
    "name": "ipython",
    "version": 3
   },
   "file_extension": ".py",
   "mimetype": "text/x-python",
   "name": "python",
   "nbconvert_exporter": "python",
   "pygments_lexer": "ipython3",
   "version": "3.12.11"
  }
 },
 "nbformat": 4,
 "nbformat_minor": 5
}
