{
 "cells": [
  {
   "cell_type": "markdown",
   "id": "447cf0b2",
   "metadata": {},
   "source": [
    "We can easily join Pandas DataFrames using the join() method. This will joins columns of two different Dataframe."
   ]
  },
  {
   "cell_type": "markdown",
   "id": "9bead959",
   "metadata": {},
   "source": [
    "***Join DataFrame in Pandas***"
   ]
  },
  {
   "cell_type": "code",
   "execution_count": 7,
   "id": "149a3ae1",
   "metadata": {},
   "outputs": [
    {
     "name": "stdout",
     "output_type": "stream",
     "text": [
      "DataFrame1= \n",
      "     id Students  Roll\n",
      "0  S01     Amit   101\n",
      "1  S02    Samit   102\n",
      "2  S03    Ramit   103\n",
      "3  S04   Parmit   104\n",
      "4  S05  Dharmit   105\n",
      "DataFrame2= \n",
      "    Rank  Marks\n",
      "0     1     95\n",
      "1     4     70\n",
      "2     3     80\n",
      "3     5     60\n",
      "4     2     90\n",
      "\n",
      "Joining two DataFrames\n",
      "     id Students  Roll  Rank  Marks\n",
      "0  S01     Amit   101     1     95\n",
      "1  S02    Samit   102     4     70\n",
      "2  S03    Ramit   103     3     80\n",
      "3  S04   Parmit   104     5     60\n",
      "4  S05  Dharmit   105     2     90\n"
     ]
    }
   ],
   "source": [
    "import pandas as pd\n",
    "\n",
    "#Dataset\n",
    "data1={\n",
    "    'id': ['S01','S02','S03','S04','S05'],\n",
    "    'Students': [\"Amit\",\"Samit\",\"Ramit\",\"Parmit\",\"Dharmit\"],\n",
    "    'Roll': [101,102,103,104,105]\n",
    "}\n",
    "data2={\n",
    "    'Rank': [1,4,3,5,2],\n",
    "    'Marks':[95,70,80,60,90]\n",
    "}\n",
    "\n",
    "#DataFrames\n",
    "dataFrame1 = pd.DataFrame(data1)\n",
    "print(\"DataFrame1= \\n\",dataFrame1)\n",
    "dataFrame2 = pd.DataFrame(data2)\n",
    "print(\"DataFrame2= \\n\",dataFrame2)\n",
    "\n",
    "#join two DataFrames\n",
    "resDF = dataFrame1.join(dataFrame2)\n",
    "print(\"\\nJoining two DataFrames\\n\",resDF)"
   ]
  }
 ],
 "metadata": {
  "kernelspec": {
   "display_name": "project",
   "language": "python",
   "name": "python3"
  },
  "language_info": {
   "codemirror_mode": {
    "name": "ipython",
    "version": 3
   },
   "file_extension": ".py",
   "mimetype": "text/x-python",
   "name": "python",
   "nbconvert_exporter": "python",
   "pygments_lexer": "ipython3",
   "version": "3.12.11"
  }
 },
 "nbformat": 4,
 "nbformat_minor": 5
}
