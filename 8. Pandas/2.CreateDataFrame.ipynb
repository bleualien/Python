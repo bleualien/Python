{
 "cells": [
  {
   "cell_type": "markdown",
   "id": "49f2d75e",
   "metadata": {},
   "source": [
    "**is a two-dimensional, tabular data, table with rows and columns.**\n",
    "\n",
    "**DataFrame() method is used to create a DataFrame and has following parameters:**\n",
    "- ***data:*** The data to be stored in the Pandas DataFrame\n",
    "- ***index:*** The index values to be provided for the resultant frame\n",
    "- ***columns:*** Set the column lables for the resultant frame if data doesnot mention before\n",
    "- ***dtype:*** It is the datatype and only a single type is allowed\n",
    "- ***copy:*** To copy the input data\n"
   ]
  },
  {
   "cell_type": "markdown",
   "id": "a93bd927",
   "metadata": {},
   "source": [
    "***Create a Panda DataFrame***"
   ]
  },
  {
   "cell_type": "code",
   "execution_count": null,
   "id": "1d15e37b",
   "metadata": {},
   "outputs": [
    {
     "name": "stdout",
     "output_type": "stream",
     "text": [
      "Student Records\n",
      "\n",
      "   Student  rank  marks\n",
      "0   David     1     95\n",
      "1  Mrunal     2     70\n",
      "2  Sansha     3     80\n",
      "3    Arya     4     60\n",
      "4   Mitch     5     90\n"
     ]
    }
   ],
   "source": [
    "import pandas as pd\n",
    "\n",
    "#Dataset\n",
    "data ={\n",
    "    'student': [\"David\",\"Mrunal\",\"Sansha\",\"Arya\",\"Mitch\",],\n",
    "    'rank': [1,2,3,4,5],\n",
    "    'marks': [95,70,80,60,90]\n",
    "}\n",
    "df = pd.DataFrame(data)\n",
    "print(\"Student Records\\n\\n\",df)\n"
   ]
  },
  {
   "cell_type": "markdown",
   "id": "11d1a015",
   "metadata": {},
   "source": [
    "***Access a group of rows or columns in a pandas dataframe***\n",
    "- dataframe.loc"
   ]
  },
  {
   "cell_type": "code",
   "execution_count": 7,
   "id": "20d7bd03",
   "metadata": {},
   "outputs": [
    {
     "name": "stdout",
     "output_type": "stream",
     "text": [
      "Student Records\n",
      "\n",
      "      Student  Rank  Marks\n",
      "RowA   David     1     95\n",
      "RowB  Mrunal     2     70\n",
      "RowC  Sansha     3     80\n",
      "RowD    Arya     4     60\n",
      "RowE   Mitch     5     90\n",
      "\n",
      "Value =  David\n"
     ]
    }
   ],
   "source": [
    "#Dataset\n",
    "data ={\n",
    "    'Student': [\"David\",\"Mrunal\",\"Sansha\",\"Arya\",\"Mitch\",],\n",
    "    'Rank': [1,2,3,4,5],\n",
    "    'Marks': [95,70,80,60,90]\n",
    "}\n",
    "\n",
    "\n",
    "df = pd.DataFrame(data,index = ['RowA','RowB','RowC','RowD','RowE'])\n",
    "\n",
    "print(\"Student Records\\n\\n\",df)\n",
    "\n",
    "#Access the value in the student column corresponding to the RowA lable\n",
    "\n",
    "print(\"\\nValue = \", df.loc['RowA','Student'])"
   ]
  },
  {
   "cell_type": "markdown",
   "id": "dbf30531",
   "metadata": {},
   "source": [
    "***Access a group of rows or columns by integer positions in a Pandas DataFrame***\n",
    "- dataframe.iloc"
   ]
  },
  {
   "cell_type": "code",
   "execution_count": 21,
   "id": "e6fabaca",
   "metadata": {},
   "outputs": [
    {
     "name": "stdout",
     "output_type": "stream",
     "text": [
      "Student Records\n",
      "\n",
      "      Student  Rank  Marks\n",
      "RowA   David     1     95\n",
      "RowB  Mrunal     4     70\n",
      "RowC  Sansha     3     80\n",
      "RowD    Arya     5     60\n",
      "RowE   Mitch     2     90\n",
      "\n",
      "Value =      Student  Rank  Marks\n",
      "RowB  Mrunal     4     70\n",
      "RowC  Sansha     3     80\n"
     ]
    }
   ],
   "source": [
    "#Dataset\n",
    "data ={\n",
    "    'Student': [\"David\",\"Mrunal\",\"Sansha\",\"Arya\",\"Mitch\",],\n",
    "    'Rank': [1,4,3,5,2],\n",
    "    'Marks': [95,70,80,60,90]\n",
    "}\n",
    "\n",
    "\n",
    "df = pd.DataFrame(data,index =['RowA','RowB','RowC','RowD','RowE'])\n",
    "\n",
    "print(\"Student Records\\n\\n\",df)\n",
    "\n",
    "#Access using rows or columns by integer positions\n",
    "\n",
    "print(\"\\nValue =\",df.iloc[[1,2]])"
   ]
  },
  {
   "cell_type": "markdown",
   "id": "9adb76f7",
   "metadata": {},
   "source": [
    "***Name your Indexes in a Pandas DataFrame***\n",
    "- index"
   ]
  },
  {
   "cell_type": "code",
   "execution_count": 18,
   "id": "f0ce9ffd",
   "metadata": {},
   "outputs": [
    {
     "name": "stdout",
     "output_type": "stream",
     "text": [
      "Student Recoeds\n",
      "\n",
      "          Student  Rank  Marks\n",
      "Student1   David     1     95\n",
      "Student2  Mrunal     4     70\n",
      "Student3  Sansha     3     80\n",
      "Student4    Arya     5     60\n",
      "Student5   Mitch     2     90\n"
     ]
    }
   ],
   "source": [
    "#Dataset\n",
    "data ={\n",
    "    'Student': [\"David\",\"Mrunal\",\"Sansha\",\"Arya\",\"Mitch\",],\n",
    "    'Rank': [1,4,3,5,2],\n",
    "    'Marks': [95,70,80,60,90]\n",
    "}\n",
    "\n",
    "\n",
    "df = pd.DataFrame(data,index =['RowA','RowB','RowC','RowD','RowE'])\n",
    "\n",
    "#Use the index argument to set your indexes\n",
    "df = pd.DataFrame(data, index =['Student1','Student2','Student3','Student4','Student5'])\n",
    "print(\"Student Recoeds\\n\\n\",df)"
   ]
  },
  {
   "cell_type": "markdown",
   "id": "6476da04",
   "metadata": {},
   "source": [
    "***Iterate a Pandas DataFrame to display the column names***\n",
    "- use of **for loop**"
   ]
  },
  {
   "cell_type": "code",
   "execution_count": 23,
   "id": "4a810eff",
   "metadata": {},
   "outputs": [
    {
     "name": "stdout",
     "output_type": "stream",
     "text": [
      "Student Recoeds\n",
      "\n",
      "          Student  Rank  Marks\n",
      "Student1   David     1     95\n",
      "Student2  Mrunal     4     70\n",
      "Student3  Sansha     3     80\n",
      "Student4    Arya     5     60\n",
      "Student5   Mitch     2     90\n",
      "Displaying the column\n",
      "Student\n",
      "Rank\n",
      "Marks\n"
     ]
    }
   ],
   "source": [
    "#Dataset\n",
    "data ={\n",
    "    'Student': [\"David\",\"Mrunal\",\"Sansha\",\"Arya\",\"Mitch\",],\n",
    "    'Rank': [1,4,3,5,2],\n",
    "    'Marks': [95,70,80,60,90]\n",
    "}\n",
    "\n",
    "\n",
    "df = pd.DataFrame(data,index =['RowA','RowB','RowC','RowD','RowE'])\n",
    "\n",
    "#Use the index argument to set your indexes\n",
    "df = pd.DataFrame(data, index =['Student1','Student2','Student3','Student4','Student5'])\n",
    "print(\"Student Recoeds\\n\\n\",df)\n",
    "#Iteration\n",
    "print(\"Displaying the column\",)\n",
    "for col in df:\n",
    "    print(col) "
   ]
  }
 ],
 "metadata": {
  "kernelspec": {
   "display_name": "project",
   "language": "python",
   "name": "python3"
  },
  "language_info": {
   "codemirror_mode": {
    "name": "ipython",
    "version": 3
   },
   "file_extension": ".py",
   "mimetype": "text/x-python",
   "name": "python",
   "nbconvert_exporter": "python",
   "pygments_lexer": "ipython3",
   "version": "3.12.11"
  }
 },
 "nbformat": 4,
 "nbformat_minor": 5
}
