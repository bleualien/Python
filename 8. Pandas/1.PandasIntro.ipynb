{
 "cells": [
  {
   "cell_type": "markdown",
   "id": "931bc4c2",
   "metadata": {},
   "source": [
    "***Intro***\n",
    "- Pandas is a powerful and easy-to-use open-source tool built on top of the Python programming language.\n",
    "- It is useful for data analysis and manupulation.\n",
    "- Python with pandas is widely used in Statistics, Finance, Neuroscience,Ecomonics,Web Analytics, Advertising,etc.\n",
    "\n",
    "***Uses***\n",
    "- to work with datasets, clean them, and make them relevant for Data Science is what Pandas do.\n",
    "- With that, easily load and read data sets in Excel, CSV,JSON,XML,etc formats with Pandas and work on them.\n",
    "- East cleam the wrong format data, remove duplicates, and do other tasks\n",
    "\n",
    "***Features***\n",
    "- Analyze Data\n",
    "- Manipulate Data\n",
    "- Columns can be inserted and dedeted from the DataFrame\n",
    "- Group the rows/ columns of a DataFrame/ Series\n",
    "- Plotting is possible\n",
    "- Read CSV/ Excel/ JSON\n",
    "- Fix the inaccurate data\n",
    "- Clean the Data completely\n",
    "- Handle Duplicates\n",
    "- Easy to hab=ndle the missing data in the form:NaN. NA, or NaT"
   ]
  }
 ],
 "metadata": {
  "kernelspec": {
   "display_name": "project",
   "language": "python",
   "name": "python3"
  },
  "language_info": {
   "name": "python",
   "version": "3.12.11"
  }
 },
 "nbformat": 4,
 "nbformat_minor": 5
}
