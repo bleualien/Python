{
 "cells": [
  {
   "cell_type": "markdown",
   "id": "550b3d05",
   "metadata": {},
   "source": [
    "- Cleaning the data means working in the incorrect data to fix it\n",
    "- this incorrect data can empty data, null, duplicate data, etc\n",
    "\n",
    "**Functions**\n",
    "- **isnull():** Find the NULL values and replace them with True\n",
    "- **notnull():** Find the NOT NULL values and replace them with True\n",
    "- **df.drop():** Drop rows with NULL values\n",
    "- **df.fillna(x):** Replace NULL values with a specific value"
   ]
  },
  {
   "cell_type": "markdown",
   "id": "469324ee",
   "metadata": {},
   "source": [
    "**Pandas isnull() method**"
   ]
  },
  {
   "cell_type": "code",
   "execution_count": null,
   "id": "e4bde871",
   "metadata": {},
   "outputs": [
    {
     "name": "stdout",
     "output_type": "stream",
     "text": [
      "Our DataFrame\n",
      "    Frequency  Points\n",
      "0        2.4    83.7\n",
      "1        2.8    23.0\n",
      "2        4.2    36.9\n",
      "3        6.4     NaN\n",
      "4        7.5    23.5\n",
      "5        8.7    24.1\n",
      "6        3.4    42.5\n",
      "7        6.4     NaN\n",
      "\n",
      "New DataFrame\n",
      "    Frequency  Points\n",
      "0      False   False\n",
      "1      False   False\n",
      "2      False   False\n",
      "3      False    True\n",
      "4      False   False\n",
      "5      False   False\n",
      "6      False   False\n",
      "7      False    True\n"
     ]
    }
   ],
   "source": [
    "import pandas as pd\n",
    "\n",
    "#Input CSV File\n",
    "#Load the CSV in the DataFrame\n",
    "df = pd.read_csv(\"demo.csv\")\n",
    "\n",
    "#Display the CSV File records\n",
    "print(\"Our DataFrame\\n\",df)\n",
    "\n",
    "#Find and replace Null with True\n",
    "reDF= df.isnull()\n",
    "\n",
    "#Return the new dataFrame\n",
    "print(\"\\nNew DataFrame\\n\",reDF.to_string())\n"
   ]
  },
  {
   "cell_type": "markdown",
   "id": "72f4faff",
   "metadata": {},
   "source": [
    "**Pandas NOTNULL() method**"
   ]
  },
  {
   "cell_type": "code",
   "execution_count": null,
   "id": "56efc109",
   "metadata": {},
   "outputs": [
    {
     "name": "stdout",
     "output_type": "stream",
     "text": [
      "Our DataFrame\n",
      "    Frequency  Points\n",
      "0        2.4    83.7\n",
      "1        2.8    23.0\n",
      "2        4.2    36.9\n",
      "3        6.4     NaN\n",
      "4        7.5    23.5\n",
      "5        8.7    24.1\n",
      "6        3.4    42.5\n",
      "7        6.4     NaN\n",
      "\n",
      "New DataFrame\n",
      "    Frequency  Points\n",
      "0       True    True\n",
      "1       True    True\n",
      "2       True    True\n",
      "3       True   False\n",
      "4       True    True\n",
      "5       True    True\n",
      "6       True    True\n",
      "7       True   False\n"
     ]
    }
   ],
   "source": [
    "import pandas as pd\n",
    "\n",
    "#Input CSV File\n",
    "#Load the CSV in the DataFrame\n",
    "df = pd.read_csv(\"demo.csv\")\n",
    "\n",
    "#Display the CSV File records\n",
    "print(\"Our DataFrame\\n\",df)\n",
    "\n",
    "#Find and replace NotNull with True\n",
    "reDF= df.notnull()\n",
    "\n",
    "#Return the new dataFrame\n",
    "print(\"\\nNew DataFrame\\n\",reDF.to_string())\n"
   ]
  },
  {
   "cell_type": "markdown",
   "id": "7536bd0a",
   "metadata": {},
   "source": [
    "**Pandas df.dropna() function**"
   ]
  },
  {
   "cell_type": "code",
   "execution_count": 8,
   "id": "06b5b77c",
   "metadata": {},
   "outputs": [
    {
     "name": "stdout",
     "output_type": "stream",
     "text": [
      "Our DataFrame\n",
      "    Frequency  Points\n",
      "0        2.4    83.7\n",
      "1        2.8    23.0\n",
      "2        4.2    36.9\n",
      "3        6.4     NaN\n",
      "4        7.5    23.5\n",
      "5        8.7    24.1\n",
      "6        3.4    42.5\n",
      "7        6.4     NaN\n",
      "\n",
      "New DataFrame\n",
      "    Frequency  Points\n",
      "0        2.4    83.7\n",
      "1        2.8    23.0\n",
      "2        4.2    36.9\n",
      "4        7.5    23.5\n",
      "5        8.7    24.1\n",
      "6        3.4    42.5\n"
     ]
    }
   ],
   "source": [
    "import pandas as pd\n",
    "\n",
    "#Input CSV File\n",
    "#Load the CSV in the DataFrame\n",
    "df = pd.read_csv(\"demo.csv\")\n",
    "\n",
    "#Display the CSV File records\n",
    "print(\"Our DataFrame\\n\",df)\n",
    "\n",
    "#Find and remove rows with Null values\n",
    "reDF= df.dropna()\n",
    "\n",
    "#Return the new dataFrame\n",
    "print(\"\\nNew DataFrame\\n\",reDF.to_string())\n"
   ]
  },
  {
   "cell_type": "markdown",
   "id": "3fc5036e",
   "metadata": {},
   "source": [
    "**Pandas df.fillna() method**"
   ]
  },
  {
   "cell_type": "code",
   "execution_count": 9,
   "id": "1ca39d1d",
   "metadata": {},
   "outputs": [
    {
     "name": "stdout",
     "output_type": "stream",
     "text": [
      "Our DataFrame\n",
      "    Frequency  Points\n",
      "0        2.4    83.7\n",
      "1        2.8    23.0\n",
      "2        4.2    36.9\n",
      "3        6.4     NaN\n",
      "4        7.5    23.5\n",
      "5        8.7    24.1\n",
      "6        3.4    42.5\n",
      "7        6.4     NaN\n",
      "\n",
      "New DataFrame\n",
      "    Frequency  Points\n",
      "0        2.4    83.7\n",
      "1        2.8    23.0\n",
      "2        4.2    36.9\n",
      "3        6.4   111.0\n",
      "4        7.5    23.5\n",
      "5        8.7    24.1\n",
      "6        3.4    42.5\n",
      "7        6.4   111.0\n"
     ]
    }
   ],
   "source": [
    "import pandas as pd\n",
    "\n",
    "#Input CSV File\n",
    "#Load the CSV in the DataFrame\n",
    "df = pd.read_csv(\"demo.csv\")\n",
    "\n",
    "#Display the CSV File records\n",
    "print(\"Our DataFrame\\n\",df)\n",
    "\n",
    "#Find and remove rows with Null values\n",
    "reDF= df.fillna(111)\n",
    "\n",
    "#Return the new dataFrame\n",
    "print(\"\\nNew DataFrame\\n\",reDF.to_string())\n"
   ]
  }
 ],
 "metadata": {
  "kernelspec": {
   "display_name": "project",
   "language": "python",
   "name": "python3"
  },
  "language_info": {
   "codemirror_mode": {
    "name": "ipython",
    "version": 3
   },
   "file_extension": ".py",
   "mimetype": "text/x-python",
   "name": "python",
   "nbconvert_exporter": "python",
   "pygments_lexer": "ipython3",
   "version": "3.12.11"
  }
 },
 "nbformat": 4,
 "nbformat_minor": 5
}
