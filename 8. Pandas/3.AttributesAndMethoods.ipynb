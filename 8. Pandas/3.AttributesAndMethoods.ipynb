{
 "cells": [
  {
   "cell_type": "markdown",
   "id": "f7926583",
   "metadata": {},
   "source": [
    "***Attributes ans Methods***\n",
    "- is a 2-d tabular data, that uses the ***DataFrame*** method to create a DataFrame.\n",
    "\n",
    "- **dtypes:** Returns the dtypes in the DataFrame\n",
    "- **ndim:** Returns the number of dimension of the DataFrame\n",
    "- **size:** Returns the number of elements in the DataFrame\n",
    "- **shapes:** Returns the dimensionality of the DataFrame in the form of a tuple.\n",
    "- **index:** Returns the index of the DataFrame\n",
    "- **T:** Transpose the rows and columns\n",
    "- **head():** Returns the first n rows.\n",
    "- **tail():** Returns the last n rows."
   ]
  },
  {
   "cell_type": "markdown",
   "id": "c5866b7f",
   "metadata": {},
   "source": [
    "***Pandas DataFrame - dtypes attributes***\n",
    "- pandas.DataFrame.dtypes"
   ]
  },
  {
   "cell_type": "code",
   "execution_count": 12,
   "id": "2b407d10",
   "metadata": {},
   "outputs": [
    {
     "name": "stdout",
     "output_type": "stream",
     "text": [
      "\n",
      "Student Recoeds\n",
      "      Student  Rank  Marks\n",
      "RowA   David     1     95\n",
      "RowB  Mrunal     4     70\n",
      "RowC  Sansha     3     80\n",
      "RowD    Arya     5     60\n",
      "RowE   Mitch     2     90\n",
      "\n",
      "Datatypes:\n",
      " Student    object\n",
      "Rank        int64\n",
      "Marks       int64\n",
      "dtype: object\n"
     ]
    }
   ],
   "source": [
    "import pandas as pd\n",
    "\n",
    "#Dataset\n",
    "data ={\n",
    "    'Student': [\"David\",\"Mrunal\",\"Sansha\",\"Arya\",\"Mitch\"],\n",
    "    'Rank': [1,4,3,5,2],\n",
    "    'Marks': [95,70,80,60,90]\n",
    "}\n",
    "\n",
    "#Create a DataFrame using thr DataFrame() method with index\n",
    "df = pd.DataFrame(data,index =['RowA','RowB','RowC','RowD','RowE'])\n",
    "\n",
    "print(\"\\nStudent Recoeds\\n\",df)\n",
    "print(\"\\nDatatypes:\\n\",df.dtypes)\n"
   ]
  },
  {
   "cell_type": "markdown",
   "id": "ba0890ba",
   "metadata": {},
   "source": [
    "***Pandas DataFrame - ndim attributes***\n",
    "- pandas.DataFrame.ndim"
   ]
  },
  {
   "cell_type": "code",
   "execution_count": 12,
   "id": "4ec99089",
   "metadata": {},
   "outputs": [
    {
     "name": "stdout",
     "output_type": "stream",
     "text": [
      "Student Recoeds\n",
      "      Student  Rank  Marks\n",
      "RowA   David     1     95\n",
      "RowB  Mrunal     4     70\n",
      "RowC  Sansha     3     80\n",
      "RowD    Arya     5     60\n",
      "RowE   Mitch     2     90\n",
      "\n",
      "Number of dimensions: 2\n"
     ]
    }
   ],
   "source": [
    "import pandas as pd\n",
    "\n",
    "#Dataset\n",
    "data ={\n",
    "    'Student': [\"David\",\"Mrunal\",\"Sansha\",\"Arya\",\"Mitch\",],\n",
    "    'Rank': [1,4,3,5,2],\n",
    "    'Marks': [95,70,80,60,90]\n",
    "}\n",
    "\n",
    "#Create a DataFrame using thr DataFrame() method with index\n",
    "df = pd.DataFrame(data,index =['RowA','RowB','RowC','RowD','RowE'])\n",
    "\n",
    "print(\"Student Recoeds\\n\",df)\n",
    "\n",
    "#Numner of dimensions in the DataFrame\n",
    "print(\"\\nNumber of dimensions:\",df.ndim)\n"
   ]
  },
  {
   "cell_type": "markdown",
   "id": "94daee75",
   "metadata": {},
   "source": [
    "***Pandas DataFrame - size attributes***\n",
    "- pandas.DataFrame.size"
   ]
  },
  {
   "cell_type": "code",
   "execution_count": 14,
   "id": "d6ca6f02",
   "metadata": {},
   "outputs": [
    {
     "name": "stdout",
     "output_type": "stream",
     "text": [
      "Student Recoeds\n",
      "      Student  Rank  Marks\n",
      "RowA   David     1     95\n",
      "RowB  Mrunal     4     70\n",
      "RowC  Sansha     3     80\n",
      "RowD    Arya     5     60\n",
      "RowE   Mitch     2     90\n",
      "\n",
      "Number of elements: 15\n"
     ]
    }
   ],
   "source": [
    "import pandas as pd\n",
    "\n",
    "#Dataset\n",
    "data ={\n",
    "    'Student': [\"David\",\"Mrunal\",\"Sansha\",\"Arya\",\"Mitch\",],\n",
    "    'Rank': [1,4,3,5,2],\n",
    "    'Marks': [95,70,80,60,90]\n",
    "}\n",
    "\n",
    "#Create a DataFrame using thr DataFrame() method with index\n",
    "df = pd.DataFrame(data,index =['RowA','RowB','RowC','RowD','RowE'])\n",
    "\n",
    "print(\"Student Recoeds\\n\",df)\n",
    "\n",
    "#Numner of dimensions in the DataFrame\n",
    "print(\"\\nNumber of elements:\",df.size)\n"
   ]
  },
  {
   "cell_type": "markdown",
   "id": "60123990",
   "metadata": {},
   "source": [
    "***Pandas DataFrame - shape attributes***\n",
    "- pandas.DataFrame.shape"
   ]
  },
  {
   "cell_type": "code",
   "execution_count": 16,
   "id": "f214edb6",
   "metadata": {},
   "outputs": [
    {
     "name": "stdout",
     "output_type": "stream",
     "text": [
      "Student Recoeds\n",
      "      Student  Rank  Marks\n",
      "RowA   David     1     95\n",
      "RowB  Mrunal     4     70\n",
      "RowC  Sansha     3     80\n",
      "RowD    Arya     5     60\n",
      "RowE   Mitch     2     90\n",
      "\n",
      "Dimensions: (5, 3)\n"
     ]
    }
   ],
   "source": [
    "import pandas as pd\n",
    "\n",
    "#Dataset\n",
    "data ={\n",
    "    'Student': [\"David\",\"Mrunal\",\"Sansha\",\"Arya\",\"Mitch\",],\n",
    "    'Rank': [1,4,3,5,2],\n",
    "    'Marks': [95,70,80,60,90]\n",
    "}\n",
    "\n",
    "#Create a DataFrame using thr DataFrame() method with index\n",
    "df = pd.DataFrame(data,index =['RowA','RowB','RowC','RowD','RowE'])\n",
    "\n",
    "print(\"Student Recoeds\\n\",df)\n",
    "\n",
    "#Numner of dimensions in the DataFrame\n",
    "print(\"\\nDimensions:\",df.shape)\n"
   ]
  },
  {
   "cell_type": "markdown",
   "id": "78a4d153",
   "metadata": {},
   "source": [
    "***Pandas DataFrame - index attributes***\n",
    "- pandas.DataFrame.index"
   ]
  },
  {
   "cell_type": "code",
   "execution_count": 19,
   "id": "137be8c7",
   "metadata": {},
   "outputs": [
    {
     "name": "stdout",
     "output_type": "stream",
     "text": [
      "Student Recoeds\n",
      "      Student  Rank  Marks\n",
      "RowA   David     1     95\n",
      "RowB  Mrunal     4     70\n",
      "RowC  Sansha     3     80\n",
      "RowD    Arya     5     60\n",
      "RowE   Mitch     2     90\n",
      "\n",
      "DataFrame Index: Index(['RowA', 'RowB', 'RowC', 'RowD', 'RowE'], dtype='object')\n"
     ]
    }
   ],
   "source": [
    "import pandas as pd\n",
    "\n",
    "#Dataset\n",
    "data ={\n",
    "    'Student': [\"David\",\"Mrunal\",\"Sansha\",\"Arya\",\"Mitch\",],\n",
    "    'Rank': [1,4,3,5,2],\n",
    "    'Marks': [95,70,80,60,90]\n",
    "}\n",
    "\n",
    "#Create a DataFrame using thr DataFrame() method with index\n",
    "df = pd.DataFrame(data,index =['RowA','RowB','RowC','RowD','RowE'])\n",
    "\n",
    "print(\"Student Recoeds\\n\",df)\n",
    "\n",
    "#Numner of dimensions in the DataFrame\n",
    "print(\"\\nDataFrame Index:\",df.index)\n"
   ]
  },
  {
   "cell_type": "markdown",
   "id": "39fdc7cb",
   "metadata": {},
   "source": [
    "***Pandas DataFrame - T attributes***\n",
    "- pandas.DataFrame.T"
   ]
  },
  {
   "cell_type": "code",
   "execution_count": 21,
   "id": "de5ac8ad",
   "metadata": {},
   "outputs": [
    {
     "name": "stdout",
     "output_type": "stream",
     "text": [
      "Student Recoeds\n",
      "      Student  Rank  Marks\n",
      "RowA   David     1     95\n",
      "RowB  Mrunal     4     70\n",
      "RowC  Sansha     3     80\n",
      "RowD    Arya     5     60\n",
      "RowE   Mitch     2     90\n",
      "\n",
      "Transpose:\n",
      "           RowA    RowB    RowC  RowD   RowE\n",
      "Student  David  Mrunal  Sansha  Arya  Mitch\n",
      "Rank         1       4       3     5      2\n",
      "Marks       95      70      80    60     90\n"
     ]
    }
   ],
   "source": [
    "import pandas as pd\n",
    "\n",
    "#Dataset\n",
    "data ={\n",
    "    'Student': [\"David\",\"Mrunal\",\"Sansha\",\"Arya\",\"Mitch\",],\n",
    "    'Rank': [1,4,3,5,2],\n",
    "    'Marks': [95,70,80,60,90]\n",
    "}\n",
    "\n",
    "#Create a DataFrame using thr DataFrame() method with index\n",
    "df = pd.DataFrame(data,index =['RowA','RowB','RowC','RowD','RowE'])\n",
    "\n",
    "print(\"Student Recoeds\\n\",df)\n",
    "\n",
    "#Numner of dimensions in the DataFrame\n",
    "print(\"\\nTranspose:\\n\",df.T)\n"
   ]
  },
  {
   "cell_type": "markdown",
   "id": "dbba6b0d",
   "metadata": {},
   "source": [
    "***Pandas DataFrame - head() attributes***\n",
    "- pandas.DataFrame.head()"
   ]
  },
  {
   "cell_type": "code",
   "execution_count": 4,
   "id": "cd5b28e6",
   "metadata": {},
   "outputs": [
    {
     "name": "stdout",
     "output_type": "stream",
     "text": [
      "Student Recoeds\n",
      "      Student  Rank  Marks\n",
      "RowA   David     1     95\n",
      "RowB  Mrunal     4     70\n",
      "RowC  Sansha     3     80\n",
      "RowD    Arya     5     60\n",
      "RowE   Mitch     6     55\n",
      "RowF     Cam     2     90\n",
      "\n",
      "First 5 rows:\n",
      "      Student  Rank  Marks\n",
      "RowA   David     1     95\n",
      "RowB  Mrunal     4     70\n",
      "RowC  Sansha     3     80\n",
      "RowD    Arya     5     60\n",
      "RowE   Mitch     6     55\n",
      "\n",
      "First 2 rows:\n",
      "      Student  Rank  Marks\n",
      "RowA   David     1     95\n",
      "RowB  Mrunal     4     70\n"
     ]
    }
   ],
   "source": [
    "import pandas as pd\n",
    "\n",
    "#Dataset\n",
    "data ={\n",
    "    'Student': [\"David\",\"Mrunal\",\"Sansha\",\"Arya\",\"Mitch\",\"Cam\"],\n",
    "    'Rank': [1,4,3,5,6,2],\n",
    "    'Marks': [95,70,80,60,55,90]\n",
    "}\n",
    "\n",
    "#Create a DataFrame using thr DataFrame() method with index\n",
    "df = pd.DataFrame(data,index =['RowA','RowB','RowC','RowD','RowE','RowF'])\n",
    "\n",
    "print(\"Student Recoeds\\n\",df)\n",
    "\n",
    "#Numner of dimensions in the DataFrame\n",
    "print(\"\\nFirst 5 rows:\\n\",df.head())\n",
    "print(\"\\nFirst 2 rows:\\n\",df.head(2))\n"
   ]
  },
  {
   "cell_type": "markdown",
   "id": "4a50c918",
   "metadata": {},
   "source": [
    "***Pandas DataFrame - Tail() attributes***\n",
    "- pandas.DataFrame.tail()"
   ]
  },
  {
   "cell_type": "code",
   "execution_count": 5,
   "id": "a3621dcf",
   "metadata": {},
   "outputs": [
    {
     "name": "stdout",
     "output_type": "stream",
     "text": [
      "Student Recoeds\n",
      "      Student  Rank  Marks\n",
      "RowA   David     1     95\n",
      "RowB  Mrunal     4     70\n",
      "RowC  Sansha     3     80\n",
      "RowD    Arya     5     60\n",
      "RowE   Mitch     6     55\n",
      "RowF     Cam     2     90\n",
      "\n",
      "Lant 5 rows:\n",
      "      Student  Rank  Marks\n",
      "RowB  Mrunal     4     70\n",
      "RowC  Sansha     3     80\n",
      "RowD    Arya     5     60\n",
      "RowE   Mitch     6     55\n",
      "RowF     Cam     2     90\n",
      "\n",
      "LAST2 rows:\n",
      "      Student  Rank  Marks\n",
      "RowE   Mitch     6     55\n",
      "RowF     Cam     2     90\n"
     ]
    }
   ],
   "source": [
    "import pandas as pd\n",
    "\n",
    "#Dataset\n",
    "data ={\n",
    "    'Student': [\"David\",\"Mrunal\",\"Sansha\",\"Arya\",\"Mitch\",\"Cam\"],\n",
    "    'Rank': [1,4,3,5,6,2],\n",
    "    'Marks': [95,70,80,60,55,90]\n",
    "}\n",
    "\n",
    "#Create a DataFrame using thr DataFrame() method with index\n",
    "df = pd.DataFrame(data,index =['RowA','RowB','RowC','RowD','RowE','RowF'])\n",
    "\n",
    "print(\"Student Recoeds\\n\",df)\n",
    "\n",
    "#Return last n rows\n",
    "print(\"\\nLant 5 rows:\\n\",df.tail())\n",
    "print(\"\\nLAST2 rows:\\n\",df.tail(2))\n"
   ]
  }
 ],
 "metadata": {
  "kernelspec": {
   "display_name": "project",
   "language": "python",
   "name": "python3"
  },
  "language_info": {
   "codemirror_mode": {
    "name": "ipython",
    "version": 3
   },
   "file_extension": ".py",
   "mimetype": "text/x-python",
   "name": "python",
   "nbconvert_exporter": "python",
   "pygments_lexer": "ipython3",
   "version": "3.12.11"
  }
 },
 "nbformat": 4,
 "nbformat_minor": 5
}
