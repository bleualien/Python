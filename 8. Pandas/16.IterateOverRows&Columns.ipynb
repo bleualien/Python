{
 "cells": [
  {
   "cell_type": "markdown",
   "id": "e834140a",
   "metadata": {},
   "source": [
    "**Iterate over rows**\n",
    "- **iterrows()** to iterate over rows\n",
    "- **itertuples()** to iterate over rows"
   ]
  },
  {
   "cell_type": "markdown",
   "id": "37dada47",
   "metadata": {},
   "source": [
    "**iterrows()**"
   ]
  },
  {
   "cell_type": "code",
   "execution_count": 3,
   "id": "300e2da7",
   "metadata": {},
   "outputs": [
    {
     "name": "stdout",
     "output_type": "stream",
     "text": [
      "Students Records\n",
      "     Id Student  Rank  Marks\n",
      "0  S01    Raja     1     97\n",
      "1  S02     Ram     4     24\n",
      "2  S03    Rama     3     95\n",
      "3  S04  Ramesh     2     54\n",
      "4  S05    Rabi     5     76\n",
      "\n",
      "Display the rows\n",
      "\n",
      "\n",
      " (0, Id          S01\n",
      "Student    Raja\n",
      "Rank          1\n",
      "Marks        97\n",
      "Name: 0, dtype: object)\n",
      "\n",
      " (1, Id         S02\n",
      "Student    Ram\n",
      "Rank         4\n",
      "Marks       24\n",
      "Name: 1, dtype: object)\n",
      "\n",
      " (2, Id          S03\n",
      "Student    Rama\n",
      "Rank          3\n",
      "Marks        95\n",
      "Name: 2, dtype: object)\n",
      "\n",
      " (3, Id            S04\n",
      "Student    Ramesh\n",
      "Rank            2\n",
      "Marks          54\n",
      "Name: 3, dtype: object)\n",
      "\n",
      " (4, Id          S05\n",
      "Student    Rabi\n",
      "Rank          5\n",
      "Marks        76\n",
      "Name: 4, dtype: object)\n"
     ]
    }
   ],
   "source": [
    "import pandas as pd\n",
    "\n",
    "#DataSet\n",
    "data= {\n",
    "    'Id':[\"S01\",\"S02\",\"S03\",\"S04\",\"S05\",],\n",
    "    'Student': [\"Raja\",\"Ram\",\"Rama\",\"Ramesh\",\"Rabi\"],\n",
    "    'Rank':[1,4,3,2,5],\n",
    "    'Marks':[97,24,95,54,76],\n",
    "}\n",
    "\n",
    "dataFrame = pd.DataFrame(data)\n",
    "print(\"Students Records\\n\",dataFrame)\n",
    "\n",
    "#Iterate over rows\n",
    "print(\"\\nDisplay the rows\\n\")\n",
    "for row in dataFrame.iterrows():\n",
    "    print(\"\\n\",row)\n"
   ]
  },
  {
   "cell_type": "markdown",
   "id": "e1ed2542",
   "metadata": {},
   "source": [
    "**itertuples()**"
   ]
  },
  {
   "cell_type": "code",
   "execution_count": 6,
   "id": "ece1be8c",
   "metadata": {},
   "outputs": [
    {
     "name": "stdout",
     "output_type": "stream",
     "text": [
      "Students Records\n",
      "     Id Student  Rank  Marks\n",
      "0  S01    Raja     1     97\n",
      "1  S02     Ram     4     24\n",
      "2  S03    Rama     3     95\n",
      "3  S04  Ramesh     2     54\n",
      "4  S05    Rabi     5     76\n",
      "\n",
      "Display the records as a Tuple object\n",
      "\n",
      "\n",
      " Pandas(Index=0, Id='S01', Student='Raja', Rank=1, Marks=97)\n",
      "\n",
      " Pandas(Index=1, Id='S02', Student='Ram', Rank=4, Marks=24)\n",
      "\n",
      " Pandas(Index=2, Id='S03', Student='Rama', Rank=3, Marks=95)\n",
      "\n",
      " Pandas(Index=3, Id='S04', Student='Ramesh', Rank=2, Marks=54)\n",
      "\n",
      " Pandas(Index=4, Id='S05', Student='Rabi', Rank=5, Marks=76)\n"
     ]
    }
   ],
   "source": [
    "import pandas as pd\n",
    "\n",
    "#DataSet\n",
    "data= {\n",
    "    'Id':[\"S01\",\"S02\",\"S03\",\"S04\",\"S05\",],\n",
    "    'Student': [\"Raja\",\"Ram\",\"Rama\",\"Ramesh\",\"Rabi\"],\n",
    "    'Rank':[1,4,3,2,5],\n",
    "    'Marks':[97,24,95,54,76],\n",
    "}\n",
    "\n",
    "dataFrame = pd.DataFrame(data)\n",
    "print(\"Students Records\\n\",dataFrame)\n",
    "\n",
    "#Iterate over rows\n",
    "print(\"\\nDisplay the records as a Tuple object\\n\")\n",
    "for row in dataFrame.itertuples():\n",
    "    print(\"\\n\",row)\n"
   ]
  },
  {
   "cell_type": "markdown",
   "id": "200b1a2a",
   "metadata": {},
   "source": [
    "**Iterate over columns**\n",
    "- use the items() method\n",
    "- the result will display a label object that is the name of the column and a column object that is what you have in the column\n"
   ]
  },
  {
   "cell_type": "code",
   "execution_count": 19,
   "id": "f030bee9",
   "metadata": {},
   "outputs": [
    {
     "name": "stdout",
     "output_type": "stream",
     "text": [
      "Students Records\n",
      "     Id Student  Rank  Marks\n",
      "0  S01    Raja     1     97\n",
      "1  S02     Ram     4     24\n",
      "2  S03    Rama     3     95\n",
      "3  S04  Ramesh     2     54\n",
      "4  S05    Rabi     5     76\n",
      "Iterate over each column\n",
      "\n",
      "\n",
      " Id\n",
      "0    S01\n",
      "1    S02\n",
      "2    S03\n",
      "3    S04\n",
      "4    S05\n",
      "Name: Id, dtype: object\n",
      "\n",
      " Student\n",
      "0      Raja\n",
      "1       Ram\n",
      "2      Rama\n",
      "3    Ramesh\n",
      "4      Rabi\n",
      "Name: Student, dtype: object\n",
      "\n",
      " Rank\n",
      "0    1\n",
      "1    4\n",
      "2    3\n",
      "3    2\n",
      "4    5\n",
      "Name: Rank, dtype: int64\n",
      "\n",
      " Marks\n",
      "0    97\n",
      "1    24\n",
      "2    95\n",
      "3    54\n",
      "4    76\n",
      "Name: Marks, dtype: int64\n"
     ]
    }
   ],
   "source": [
    "import pandas as pd\n",
    "\n",
    "#DataSet\n",
    "data= {\n",
    "    'Id':[\"S01\",\"S02\",\"S03\",\"S04\",\"S05\",],\n",
    "    'Student': [\"Raja\",\"Ram\",\"Rama\",\"Ramesh\",\"Rabi\"],\n",
    "    'Rank':[1,4,3,2,5],\n",
    "    'Marks':[97,24,95,54,76],\n",
    "}\n",
    "\n",
    "dataFrame = pd.DataFrame(data)\n",
    "print(\"Students Records\\n\",dataFrame)\n",
    "\n",
    "#Iterate over each column\n",
    "print(\"Iterate over each column\\n\")\n",
    "for a, b in dataFrame.items():\n",
    "    print(\"\\n\",a)\n",
    "    print(b)\n"
   ]
  }
 ],
 "metadata": {
  "kernelspec": {
   "display_name": "project",
   "language": "python",
   "name": "python3"
  },
  "language_info": {
   "codemirror_mode": {
    "name": "ipython",
    "version": 3
   },
   "file_extension": ".py",
   "mimetype": "text/x-python",
   "name": "python",
   "nbconvert_exporter": "python",
   "pygments_lexer": "ipython3",
   "version": "3.12.11"
  }
 },
 "nbformat": 4,
 "nbformat_minor": 5
}
