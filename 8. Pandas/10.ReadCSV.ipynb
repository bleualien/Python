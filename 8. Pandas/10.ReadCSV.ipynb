{
 "cells": [
  {
   "cell_type": "markdown",
   "id": "1c54446d",
   "metadata": {},
   "source": [
    "**Read a CSV**\n",
    "- read my CSV file Student.csv using the pandas.read_csv()"
   ]
  },
  {
   "cell_type": "code",
   "execution_count": 6,
   "id": "058d7fe5",
   "metadata": {},
   "outputs": [
    {
     "name": "stdout",
     "output_type": "stream",
     "text": [
      "Our DataFrame     Student  Rank   Marks\n",
      "0     Trump      1     98\n",
      "1     Harry      2     86\n",
      "2     Eliza      3     76\n",
      "3  Narendra      4     64\n",
      "4    Khadga      5     53\n"
     ]
    }
   ],
   "source": [
    "import pandas as pd\n",
    "\n",
    "df=pd.read_csv(\"C:\\\\Users\\\\Saina\\\\Desktop\\\\Students.csv\")\n",
    "\n",
    "print(\"Our DataFrame\",df)"
   ]
  },
  {
   "cell_type": "markdown",
   "id": "ef7ed831",
   "metadata": {},
   "source": [
    "**Display the top N roes of DataFrame**\n",
    "- **head()** method will display the first n rows of a DataFrame."
   ]
  },
  {
   "cell_type": "code",
   "execution_count": 16,
   "id": "5466305b",
   "metadata": {},
   "outputs": [
    {
     "name": "stdout",
     "output_type": "stream",
     "text": [
      "Our DataFrame: \n",
      "     Student  Rank   Marks\n",
      "0     Trump      1     98\n",
      "1     Harry      2     86\n",
      "2     Eliza      3     76\n",
      "3  Narendra      4     64\n",
      "4    Khadga      5     53\n",
      "5      Rabi      6     67\n",
      "6      Sami      7     43\n",
      "7      Ravi      8     67\n",
      "\n",
      "Top 5 rows:\n",
      "     Student  Rank   Marks\n",
      "0     Trump      1     98\n",
      "1     Harry      2     86\n",
      "2     Eliza      3     76\n",
      "3  Narendra      4     64\n",
      "4    Khadga      5     53\n",
      "\n",
      "Top 2 rows:\n",
      "   Student  Rank   Marks\n",
      "0   Trump      1     98\n",
      "1   Harry      2     86\n"
     ]
    }
   ],
   "source": [
    "import pandas as pd\n",
    "\n",
    "df=pd.read_csv(\"C:\\\\Users\\\\Saina\\\\Desktop\\\\Students.csv\")\n",
    "\n",
    "print(\"Our DataFrame: \\n\",df)\n",
    "\n",
    "print(\"\\nTop 5 rows:\\n\",df.head())\n",
    "print(\"\\nTop 2 rows:\\n\",df.head(2))\n",
    "\n"
   ]
  },
  {
   "cell_type": "markdown",
   "id": "9cf2a942",
   "metadata": {},
   "source": [
    "**Display the last n rows of a dataframe**\n",
    "- **tail()** method will display the last n rows of DataFrame."
   ]
  },
  {
   "cell_type": "code",
   "execution_count": 19,
   "id": "787e85c3",
   "metadata": {},
   "outputs": [
    {
     "name": "stdout",
     "output_type": "stream",
     "text": [
      "Our DataFrame: \n",
      "     Student  Rank   Marks\n",
      "0     Trump      1     98\n",
      "1     Harry      2     86\n",
      "2     Eliza      3     76\n",
      "3  Narendra      4     64\n",
      "4    Khadga      5     53\n",
      "5      Rabi      6     67\n",
      "6      Sami      7     43\n",
      "7      Ravi      8     67\n",
      "\n",
      "Last 5 rows:\n",
      "     Student  Rank   Marks\n",
      "3  Narendra      4     64\n",
      "4    Khadga      5     53\n",
      "5      Rabi      6     67\n",
      "6      Sami      7     43\n",
      "7      Ravi      8     67\n",
      "\n",
      "Last 3 rows:\n",
      "   Student  Rank   Marks\n",
      "5    Rabi      6     67\n",
      "6    Sami      7     43\n",
      "7    Ravi      8     67\n"
     ]
    }
   ],
   "source": [
    "import pandas as pd\n",
    "\n",
    "df=pd.read_csv(\"C:\\\\Users\\\\Saina\\\\Desktop\\\\Students.csv\")\n",
    "\n",
    "print(\"Our DataFrame: \\n\",df)\n",
    "\n",
    "print(\"\\nLast 5 rows:\\n\",df.tail())\n",
    "print(\"\\nLast 3 rows:\\n\",df.tail(3))\n",
    "\n"
   ]
  }
 ],
 "metadata": {
  "kernelspec": {
   "display_name": "project",
   "language": "python",
   "name": "python3"
  },
  "language_info": {
   "codemirror_mode": {
    "name": "ipython",
    "version": 3
   },
   "file_extension": ".py",
   "mimetype": "text/x-python",
   "name": "python",
   "nbconvert_exporter": "python",
   "pygments_lexer": "ipython3",
   "version": "3.12.11"
  }
 },
 "nbformat": 4,
 "nbformat_minor": 5
}
