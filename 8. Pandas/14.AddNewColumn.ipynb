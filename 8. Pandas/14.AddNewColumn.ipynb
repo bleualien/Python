{
 "cells": [
  {
   "cell_type": "markdown",
   "id": "38a15d96",
   "metadata": {},
   "source": [
    "**Add a new column using insert()** (set the location)\n",
    "- use the **insert()** method\n",
    "- we can set the location, name and the values as a parameter:\n",
    "\n",
    "**dataFrame.insert(2,\"roll\", [101, 102, 103, 104, 105])**\n",
    "- 1st  parameter (2) of the insert() is the location you want the new column\n",
    "- 2nd (roll) is the name of new col\n",
    "- 3rd [...] is the values of the new col"
   ]
  },
  {
   "cell_type": "code",
   "execution_count": 6,
   "id": "0e8f8435",
   "metadata": {},
   "outputs": [
    {
     "name": "stdout",
     "output_type": "stream",
     "text": [
      "Students Records\n",
      "     Id Student  Rank  Marks\n",
      "0  S01    Raja     1     97\n",
      "1  S02     Ram     4     24\n",
      "2  S03    Rama     3     95\n",
      "3  S04  Ramesh     2     54\n",
      "4  S05    Rabi     5     76\n",
      "\n",
      "Updated DataFrame = \n",
      "     Id Student  Roll  Rank  Marks\n",
      "0  S01    Raja   101     1     97\n",
      "1  S02     Ram   102     4     24\n",
      "2  S03    Rama   103     3     95\n",
      "3  S04  Ramesh   104     2     54\n",
      "4  S05    Rabi   105     5     76\n"
     ]
    }
   ],
   "source": [
    "import pandas as pd\n",
    "\n",
    "#DataSet\n",
    "data= {\n",
    "    'Id':[\"S01\",\"S02\",\"S03\",\"S04\",\"S05\",],\n",
    "    'Student': [\"Raja\",\"Ram\",\"Rama\",\"Ramesh\",\"Rabi\"],\n",
    "    'Rank':[1,4,3,2,5],\n",
    "    'Marks':[97,24,95,54,76],\n",
    "}\n",
    "\n",
    "dataFrame = pd.DataFrame(data)\n",
    "print(\"Students Records\\n\",dataFrame)\n",
    "\n",
    "#Insert a new column with inseert()\n",
    "dataFrame.insert(2,\"Roll\",[101,102,103,104,105])\n",
    "\n",
    "print(\"\\nUpdated DataFrame = \\n\",dataFrame)"
   ]
  },
  {
   "cell_type": "markdown",
   "id": "19977227",
   "metadata": {},
   "source": [
    "**assign a new column using the assign() method** (place at the end)\n",
    "\n",
    "- uses the assign() method.\n",
    "- adds a new column to the end\n",
    "set new column name as parameter of the assign() method\n",
    "\n",
    "**resDF = dataFrame.assign(roll = [102, 103, 104 ,105])**"
   ]
  },
  {
   "cell_type": "code",
   "execution_count": 8,
   "id": "6346e8c6",
   "metadata": {},
   "outputs": [
    {
     "name": "stdout",
     "output_type": "stream",
     "text": [
      "Students Records\n",
      "     Id Student  Rank  Marks\n",
      "0  S01    Raja     1     97\n",
      "1  S02     Ram     4     24\n",
      "2  S03    Rama     3     95\n",
      "3  S04  Ramesh     2     54\n",
      "4  S05    Rabi     5     76\n",
      "\n",
      "Updated DataFrame = \n",
      "     Id Student  Rank  Marks  Roll\n",
      "0  S01    Raja     1     97   101\n",
      "1  S02     Ram     4     24   102\n",
      "2  S03    Rama     3     95   103\n",
      "3  S04  Ramesh     2     54   104\n",
      "4  S05    Rabi     5     76   105\n"
     ]
    }
   ],
   "source": [
    "import pandas as pd\n",
    "\n",
    "#DataSet\n",
    "data= {\n",
    "    'Id':[\"S01\",\"S02\",\"S03\",\"S04\",\"S05\",],\n",
    "    'Student': [\"Raja\",\"Ram\",\"Rama\",\"Ramesh\",\"Rabi\"],\n",
    "    'Rank':[1,4,3,2,5],\n",
    "    'Marks':[97,24,95,54,76],\n",
    "}\n",
    "\n",
    "dataFrame = pd.DataFrame(data)\n",
    "print(\"Students Records\\n\",dataFrame)\n",
    "\n",
    "#Insert a new column with assign() method\n",
    "resDF = dataFrame.assign(Roll = [101,102,103,104,105])\n",
    "\n",
    "print(\"\\nUpdated DataFrame = \\n\",resDF)"
   ]
  }
 ],
 "metadata": {
  "kernelspec": {
   "display_name": "project",
   "language": "python",
   "name": "python3"
  },
  "language_info": {
   "codemirror_mode": {
    "name": "ipython",
    "version": 3
   },
   "file_extension": ".py",
   "mimetype": "text/x-python",
   "name": "python",
   "nbconvert_exporter": "python",
   "pygments_lexer": "ipython3",
   "version": "3.12.11"
  }
 },
 "nbformat": 4,
 "nbformat_minor": 5
}
