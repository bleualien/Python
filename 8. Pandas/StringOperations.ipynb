{
 "cells": [
  {
   "cell_type": "markdown",
   "id": "1938e691",
   "metadata": {},
   "source": [
    "- **lower():** \n",
    "- **upper():** \n",
    "- **title():** \n",
    "- **len():** \n",
    "- **count():** \n",
    "- **contain():** "
   ]
  },
  {
   "cell_type": "markdown",
   "id": "eba5b81d",
   "metadata": {},
   "source": [
    "**lower()** method in Python Pandas "
   ]
  },
  {
   "cell_type": "code",
   "execution_count": 3,
   "id": "9158eea9",
   "metadata": {},
   "outputs": [
    {
     "name": "stdout",
     "output_type": "stream",
     "text": [
      "Series\n",
      " 0    Raja\n",
      "1     Ram\n",
      "2    RaMa\n",
      "3    RaJa\n",
      "4    Rabi\n",
      "dtype: object\n",
      "\n",
      "Lowercase Data\n",
      " 0    raja\n",
      "1     ram\n",
      "2    rama\n",
      "3    raja\n",
      "4    rabi\n",
      "dtype: object\n"
     ]
    }
   ],
   "source": [
    "import pandas as pd\n",
    "\n",
    "# Data as a list\n",
    "data = [\"Raja\", \"Ram\", \"RaMa\", \"RaJa\", \"Rabi\"]\n",
    "\n",
    "# Create Series\n",
    "series = pd.Series(data)\n",
    "print(\"Series\\n\", series)\n",
    "\n",
    "# Convert to lowercase\n",
    "print(\"\\nLowercase Data\\n\", series.str.lower())\n"
   ]
  },
  {
   "cell_type": "markdown",
   "id": "d77887d3",
   "metadata": {},
   "source": [
    "**upper()** method in Python Pandas "
   ]
  },
  {
   "cell_type": "code",
   "execution_count": 8,
   "id": "2b2e05c6",
   "metadata": {},
   "outputs": [
    {
     "name": "stdout",
     "output_type": "stream",
     "text": [
      "Series\n",
      " 0    Raja\n",
      "1     Ram\n",
      "2    RaMa\n",
      "3    RaJa\n",
      "4    Rabi\n",
      "dtype: object\n",
      "\n",
      "Uppercase Data\n",
      " 0    RAJA\n",
      "1     RAM\n",
      "2    RAMA\n",
      "3    RAJA\n",
      "4    RABI\n",
      "dtype: object\n"
     ]
    }
   ],
   "source": [
    "import pandas as pd\n",
    "\n",
    "# Data as a list\n",
    "data = [\"Raja\", \"Ram\", \"RaMa\", \"RaJa\", \"Rabi\"]\n",
    "\n",
    "# Create Series\n",
    "series = pd.Series(data)\n",
    "print(\"Series\\n\", series)\n",
    "\n",
    "# Convert to lowercase\n",
    "print(\"\\nUppercase Data\\n\", series.str.upper())\n"
   ]
  },
  {
   "cell_type": "markdown",
   "id": "5503f30c",
   "metadata": {},
   "source": [
    "**title()** method in Python Pandas "
   ]
  },
  {
   "cell_type": "code",
   "execution_count": 10,
   "id": "3f4cf085",
   "metadata": {},
   "outputs": [
    {
     "name": "stdout",
     "output_type": "stream",
     "text": [
      "Series\n",
      " 0    RajA\n",
      "1     Ram\n",
      "2    RaMa\n",
      "3    RaJa\n",
      "4    Rabi\n",
      "dtype: object\n",
      "\n",
      "Camelcase Data\n",
      " 0    Raja\n",
      "1     Ram\n",
      "2    Rama\n",
      "3    Raja\n",
      "4    Rabi\n",
      "dtype: object\n"
     ]
    }
   ],
   "source": [
    "import pandas as pd\n",
    "\n",
    "# Data as a list\n",
    "data = [\"RajA\", \"Ram\", \"RaMa\", \"RaJa\", \"Rabi\"]\n",
    "\n",
    "# Create Series\n",
    "series = pd.Series(data)\n",
    "print(\"Series\\n\", series)\n",
    "\n",
    "# Convert to text data to camel case\n",
    "print(\"\\nCamelcase Data\\n\", series.str.title())\n"
   ]
  },
  {
   "cell_type": "markdown",
   "id": "681eb644",
   "metadata": {},
   "source": [
    "**len()** method in Python Pandas "
   ]
  },
  {
   "cell_type": "code",
   "execution_count": 11,
   "id": "f2a3992c",
   "metadata": {},
   "outputs": [
    {
     "name": "stdout",
     "output_type": "stream",
     "text": [
      "Series\n",
      " 0    Raja Shyam\n",
      "1           Ram\n",
      "2    Rama Bansi\n",
      "3          Raja\n",
      "4      Rabi Lal\n",
      "dtype: object\n",
      "\n",
      "Camelcase Data\n",
      " 0    10\n",
      "1     3\n",
      "2    10\n",
      "3     4\n",
      "4     8\n",
      "dtype: int64\n"
     ]
    }
   ],
   "source": [
    "import pandas as pd\n",
    "\n",
    "# Data as a list\n",
    "data = [\"Raja Shyam\", \"Ram\", \"Rama Bansi\", \"Raja\", \"Rabi Lal\"]\n",
    "\n",
    "# Create Series\n",
    "series = pd.Series(data)\n",
    "print(\"Series\\n\", series)\n",
    "\n",
    "# Convert to text data to camel case\n",
    "print(\"\\nCamelcase Data\\n\", series.str.len())\n"
   ]
  },
  {
   "cell_type": "markdown",
   "id": "1edf92cd",
   "metadata": {},
   "source": [
    "**count()** method in Python Pandas "
   ]
  },
  {
   "cell_type": "code",
   "execution_count": 17,
   "id": "1aa6e743",
   "metadata": {},
   "outputs": [
    {
     "name": "stdout",
     "output_type": "stream",
     "text": [
      "Series\n",
      " 0           NaN\n",
      "1    Raja Shyam\n",
      "2           Ram\n",
      "3    Rama Bansi\n",
      "4          Raja\n",
      "5      Rabi Lal\n",
      "6           NaN\n",
      "dtype: object\n",
      "\n",
      "Count\n",
      " 5\n"
     ]
    }
   ],
   "source": [
    "import pandas as pd\n",
    "import numpy as np\n",
    "\n",
    "# Data as a list\n",
    "data = [np.nan,\"Raja Shyam\", \"Ram\", \"Rama Bansi\", \"Raja\", \"Rabi Lal\", np.nan]\n",
    "\n",
    "# Create Series\n",
    "series = pd.Series(data)\n",
    "print(\"Series\\n\", series)\n",
    "\n",
    "# Convert to text data to camel case\n",
    "print(\"\\nCount\\n\", series.count())\n"
   ]
  },
  {
   "cell_type": "markdown",
   "id": "8a884d97",
   "metadata": {},
   "source": [
    "**contain()** method in Python Pandas "
   ]
  },
  {
   "cell_type": "code",
   "execution_count": 20,
   "id": "ca1190a9",
   "metadata": {},
   "outputs": [
    {
     "name": "stdout",
     "output_type": "stream",
     "text": [
      "Series\n",
      " 0    Raja Shyam\n",
      "1           Ram\n",
      "2    Rama Bansi\n",
      "3          Raja\n",
      "4      Rabi Lal\n",
      "dtype: object\n",
      "\n",
      "Count\n",
      " 0    False\n",
      "1     True\n",
      "2     True\n",
      "3    False\n",
      "4    False\n",
      "dtype: bool\n"
     ]
    }
   ],
   "source": [
    "import pandas as pd\n",
    "import numpy as np\n",
    "\n",
    "# Data as a list\n",
    "data = [\"Raja Shyam\", \"Ram\", \"Rama Bansi\", \"Raja\", \"Rabi Lal\"]\n",
    "\n",
    "# Create Series\n",
    "series = pd.Series(data)\n",
    "print(\"Series\\n\", series)\n",
    "\n",
    "# Convert to text data to camel case\n",
    "print(\"\\nCount\\n\", series.str.contains(\"Ram\"))\n"
   ]
  }
 ],
 "metadata": {
  "kernelspec": {
   "display_name": "project",
   "language": "python",
   "name": "python3"
  },
  "language_info": {
   "codemirror_mode": {
    "name": "ipython",
    "version": 3
   },
   "file_extension": ".py",
   "mimetype": "text/x-python",
   "name": "python",
   "nbconvert_exporter": "python",
   "pygments_lexer": "ipython3",
   "version": "3.12.11"
  }
 },
 "nbformat": 4,
 "nbformat_minor": 5
}
