{
 "cells": [
  {
   "cell_type": "markdown",
   "id": "3f9d59a7",
   "metadata": {},
   "source": [
    "***Concatenate two Pandas DataFrame***\n",
    "- concat()"
   ]
  },
  {
   "cell_type": "code",
   "execution_count": 4,
   "id": "b1915b86",
   "metadata": {},
   "outputs": [
    {
     "name": "stdout",
     "output_type": "stream",
     "text": [
      "DataFrame1= \n",
      "            id Students  Roll\n",
      "Student1  S01     Amit   101\n",
      "Student2  S02    Samit   102\n",
      "Student3  S03    Ramit   103\n",
      "Student4  S04   Parmit   104\n",
      "Student5  S05  Dharmit   105\n",
      "\n",
      "DataFrame2= \n",
      "            id Students  Roll\n",
      "Student6  S06    Namit   106\n",
      "Student7  S07   Karmit   107\n",
      "Student8  S08  Bharmit   108\n",
      "\n",
      "Concatenate two DataFrames\n",
      "            id Students  Roll\n",
      "Student1  S01     Amit   101\n",
      "Student2  S02    Samit   102\n",
      "Student3  S03    Ramit   103\n",
      "Student4  S04   Parmit   104\n",
      "Student5  S05  Dharmit   105\n",
      "Student6  S06    Namit   106\n",
      "Student7  S07   Karmit   107\n",
      "Student8  S08  Bharmit   108\n"
     ]
    }
   ],
   "source": [
    "import pandas as pd\n",
    "\n",
    "#Dataset\n",
    "data1={\n",
    "    'id': ['S01','S02','S03','S04','S05'],\n",
    "    'Students': [\"Amit\",\"Samit\",\"Ramit\",\"Parmit\",\"Dharmit\"],\n",
    "    'Roll': [101,102,103,104,105]\n",
    "}\n",
    "data2={\n",
    "    'id': ['S06','S07','S08'],\n",
    "    'Students': [\"Namit\",\"Karmit\",\"Bharmit\"],\n",
    "    'Roll': [106,107,108]\n",
    "}\n",
    "\n",
    "#DataFrames\n",
    "dataFrame1 = pd.DataFrame(data1, index=[\"Student1\",\"Student2\",\"Student3\",\"Student4\",\"Student5\"])\n",
    "print(\"DataFrame1= \\n\",dataFrame1)\n",
    "dataFrame2 = pd.DataFrame(data2, index=[\"Student6\",\"Student7\",\"Student8\"])\n",
    "print(\"\\nDataFrame2= \\n\",dataFrame2 )\n",
    "\n",
    "#Concatenate two DataFrames\n",
    "resDF = pd.concat([dataFrame1,dataFrame2])\n",
    "print(\"\\nConcatenate two DataFrames\\n\",resDF)"
   ]
  }
 ],
 "metadata": {
  "kernelspec": {
   "display_name": "project",
   "language": "python",
   "name": "python3"
  },
  "language_info": {
   "codemirror_mode": {
    "name": "ipython",
    "version": 3
   },
   "file_extension": ".py",
   "mimetype": "text/x-python",
   "name": "python",
   "nbconvert_exporter": "python",
   "pygments_lexer": "ipython3",
   "version": "3.12.11"
  }
 },
 "nbformat": 4,
 "nbformat_minor": 5
}
