{
 "cells": [
  {
   "cell_type": "markdown",
   "id": "cff1e411",
   "metadata": {},
   "source": [
    "- to read an Excel file in Python, we use the Pandas **read_excel()** method."
   ]
  },
  {
   "cell_type": "markdown",
   "id": "704b97ec",
   "metadata": {},
   "source": [
    "**Read an excel file in Pandas**\n",
    "- pandas.read_excel()"
   ]
  },
  {
   "cell_type": "code",
   "execution_count": 15,
   "id": "aa3ed9b6",
   "metadata": {},
   "outputs": [
    {
     "name": "stdout",
     "output_type": "stream",
     "text": [
      "Requirement already satisfied: openpyxl in c:\\users\\saina\\anaconda3\\envs\\project\\lib\\site-packages (3.1.5)\n",
      "Requirement already satisfied: et-xmlfile in c:\\users\\saina\\anaconda3\\envs\\project\\lib\\site-packages (from openpyxl) (2.0.0)\n"
     ]
    }
   ],
   "source": [
    "!pip install openpyxl"
   ]
  },
  {
   "cell_type": "code",
   "execution_count": 16,
   "id": "2dde283d",
   "metadata": {},
   "outputs": [
    {
     "name": "stdout",
     "output_type": "stream",
     "text": [
      "\n",
      "\n",
      "     Devices Price  Used(in year)\n",
      "0   Mobile    80k            1.5\n",
      "1   Monitor   40k            4.0\n",
      "2     Mouse    2k            4.0\n",
      "3  Keyboard  3.4k            4.0\n",
      "4    Laptop  200k            2.0\n"
     ]
    }
   ],
   "source": [
    "import pandas as pd\n",
    "df = pd.read_excel(r\"C:\\Users\\Saina\\Desktop\\Tech.xlsx\")\n",
    "\n",
    "print(\"\\n\\n\",df)"
   ]
  },
  {
   "cell_type": "markdown",
   "id": "6823ad70",
   "metadata": {},
   "source": [
    "**Display the top N roes of DataFrame**\n",
    "- **head()** method will display the first n rows of a DataFrame."
   ]
  },
  {
   "cell_type": "code",
   "execution_count": 18,
   "id": "cdfd19be",
   "metadata": {},
   "outputs": [
    {
     "name": "stdout",
     "output_type": "stream",
     "text": [
      "Our DataFrame: \n",
      "     Devices Price  Used(in year)\n",
      "0   Mobile    80k            1.5\n",
      "1   Monitor   40k            4.0\n",
      "2     Mouse    2k            4.0\n",
      "3  Keyboard  3.4k            4.0\n",
      "4    Laptop  200k            2.0\n",
      "\n",
      "Last 5 rows:\n",
      "     Devices Price  Used(in year)\n",
      "0   Mobile    80k            1.5\n",
      "1   Monitor   40k            4.0\n",
      "2     Mouse    2k            4.0\n",
      "3  Keyboard  3.4k            4.0\n",
      "4    Laptop  200k            2.0\n",
      "\n",
      "Last 3 rows:\n",
      "    Devices Price  Used(in year)\n",
      "0  Mobile    80k            1.5\n",
      "1  Monitor   40k            4.0\n",
      "2    Mouse    2k            4.0\n"
     ]
    }
   ],
   "source": [
    "import pandas as pd\n",
    "\n",
    "df = pd.read_excel(r\"C:\\Users\\Saina\\Desktop\\Tech.xlsx\")\n",
    "\n",
    "print(\"Our DataFrame: \\n\",df)\n",
    "\n",
    "print(\"\\nLast 5 rows:\\n\",df.head())\n",
    "print(\"\\nLast 3 rows:\\n\",df.head(3))\n",
    "\n"
   ]
  },
  {
   "cell_type": "markdown",
   "id": "7fd57488",
   "metadata": {},
   "source": [
    "**Display the last n rows of a dataframe**\n",
    "- **tail()** method will display the last n rows of DataFrame."
   ]
  },
  {
   "cell_type": "code",
   "execution_count": 17,
   "id": "61c2e2f0",
   "metadata": {},
   "outputs": [
    {
     "name": "stdout",
     "output_type": "stream",
     "text": [
      "Our DataFrame: \n",
      "     Devices Price  Used(in year)\n",
      "0   Mobile    80k            1.5\n",
      "1   Monitor   40k            4.0\n",
      "2     Mouse    2k            4.0\n",
      "3  Keyboard  3.4k            4.0\n",
      "4    Laptop  200k            2.0\n",
      "\n",
      "Last 5 rows:\n",
      "     Devices Price  Used(in year)\n",
      "0   Mobile    80k            1.5\n",
      "1   Monitor   40k            4.0\n",
      "2     Mouse    2k            4.0\n",
      "3  Keyboard  3.4k            4.0\n",
      "4    Laptop  200k            2.0\n",
      "\n",
      "Last 3 rows:\n",
      "     Devices Price  Used(in year)\n",
      "2     Mouse    2k            4.0\n",
      "3  Keyboard  3.4k            4.0\n",
      "4    Laptop  200k            2.0\n"
     ]
    }
   ],
   "source": [
    "import pandas as pd\n",
    "\n",
    "df = pd.read_excel(r\"C:\\Users\\Saina\\Desktop\\Tech.xlsx\")\n",
    "\n",
    "print(\"Our DataFrame: \\n\",df)\n",
    "\n",
    "print(\"\\nLast 5 rows:\\n\",df.tail())\n",
    "print(\"\\nLast 3 rows:\\n\",df.tail(3))\n",
    "\n"
   ]
  }
 ],
 "metadata": {
  "kernelspec": {
   "display_name": "project",
   "language": "python",
   "name": "python3"
  },
  "language_info": {
   "codemirror_mode": {
    "name": "ipython",
    "version": 3
   },
   "file_extension": ".py",
   "mimetype": "text/x-python",
   "name": "python",
   "nbconvert_exporter": "python",
   "pygments_lexer": "ipython3",
   "version": "3.12.11"
  }
 },
 "nbformat": 4,
 "nbformat_minor": 5
}
