{
 "cells": [
  {
   "cell_type": "markdown",
   "id": "0ab131ba",
   "metadata": {},
   "source": [
    "***Create Categorical Series in Pandas***\n",
    "- dtype=\"category\""
   ]
  },
  {
   "cell_type": "code",
   "execution_count": 3,
   "id": "e3950189",
   "metadata": {},
   "outputs": [
    {
     "name": "stdout",
     "output_type": "stream",
     "text": [
      "Series =\n",
      " 0    p\n",
      "1    q\n",
      "2    r\n",
      "3    s\n",
      "4    q\n",
      "dtype: category\n",
      "Categories (4, object): ['p', 'q', 'r', 's']\n"
     ]
    }
   ],
   "source": [
    "import pandas as pd\n",
    "\n",
    "#Create a Categorical Series\n",
    "s = pd.Series([\"p\",\"q\",\"r\",\"s\",\"q\"], dtype = 'category')\n",
    "\n",
    "#Displaying the series\n",
    "print(\"Series =\\n\", s)"
   ]
  },
  {
   "cell_type": "markdown",
   "id": "899f7647",
   "metadata": {},
   "source": [
    "***Create Categorical DataFrame in Pandas***"
   ]
  },
  {
   "cell_type": "code",
   "execution_count": 8,
   "id": "fc394cba",
   "metadata": {},
   "outputs": [
    {
     "name": "stdout",
     "output_type": "stream",
     "text": [
      "Series =\n",
      "   cat1 cat2 cat3\n",
      "0    p    p    u\n",
      "1    q    q    q\n",
      "2    r    r    r\n",
      "3    s    p    s\n",
      "\n",
      "Datatypes of each columns =\n",
      " cat1    category\n",
      "cat2    category\n",
      "cat3    category\n",
      "dtype: object\n"
     ]
    }
   ],
   "source": [
    "import pandas as pd\n",
    "\n",
    "#Create a Categorical Series\n",
    "df= pd.DataFrame({\"cat1\":list(\"pqrs\"),\"cat2\":list(\"pqrp\"),\"cat3\":list(\"uqrs\")},dtype=\"category\")\n",
    "\n",
    "#Displaying the series\n",
    "print(\"Series =\\n\", df)\n",
    "\n",
    "#Displaying Datatypes\n",
    "print(\"\\nDatatypes of each columns =\\n\",df.dtypes)\n",
    "\n"
   ]
  },
  {
   "cell_type": "markdown",
   "id": "27a72743",
   "metadata": {},
   "source": [
    "# Working with Categories\n",
    "- Append new categories, we use : **add_categories()**"
   ]
  },
  {
   "cell_type": "markdown",
   "id": "4a9a5f75",
   "metadata": {},
   "source": [
    "**Append new categories in Pandas**"
   ]
  },
  {
   "cell_type": "code",
   "execution_count": 5,
   "id": "5b696a07",
   "metadata": {},
   "outputs": [
    {
     "name": "stdout",
     "output_type": "stream",
     "text": [
      "Series=\n",
      " 0    p\n",
      "1    q\n",
      "2    r\n",
      "3    s\n",
      "4    q\n",
      "dtype: category\n",
      "Categories (4, object): ['p', 'q', 'r', 's']\n",
      "\n",
      "Updated Categories\n",
      " 0    p\n",
      "1    q\n",
      "2    r\n",
      "3    s\n",
      "4    q\n",
      "dtype: category\n",
      "Categories (5, object): ['p', 'q', 'r', 's', 't']\n"
     ]
    }
   ],
   "source": [
    "import pandas as pd\n",
    "\n",
    "#Create categorical Series\n",
    "s = pd.Series([\"p\",\"q\",\"r\",\"s\",\"q\"],dtype=\"category\")\n",
    "\n",
    "#Displaying the output\n",
    "print(\"Series=\\n\",s)\n",
    "\n",
    "#Append a category\n",
    "s = s.cat.add_categories(\"t\")\n",
    "\n",
    "print(\"\\nUpdated Categories\\n\",s)\n"
   ]
  },
  {
   "cell_type": "markdown",
   "id": "7977b5e4",
   "metadata": {},
   "source": [
    "- Remove a category, we use : **remove_categogries()**"
   ]
  },
  {
   "cell_type": "code",
   "execution_count": 7,
   "id": "525509a2",
   "metadata": {},
   "outputs": [
    {
     "name": "stdout",
     "output_type": "stream",
     "text": [
      "Series=\n",
      " 0    p\n",
      "1    q\n",
      "2    r\n",
      "3    s\n",
      "4    q\n",
      "dtype: category\n",
      "Categories (4, object): ['p', 'q', 'r', 's']\n",
      "\n",
      "Updated Categories\n",
      " 0      p\n",
      "1    NaN\n",
      "2      r\n",
      "3      s\n",
      "4    NaN\n",
      "dtype: category\n",
      "Categories (3, object): ['p', 'r', 's']\n"
     ]
    }
   ],
   "source": [
    "import pandas as pd\n",
    "\n",
    "#Create categorical Series\n",
    "s = pd.Series([\"p\",\"q\",\"r\",\"s\",\"q\"],dtype=\"category\")\n",
    "\n",
    "#Displaying the output\n",
    "print(\"Series=\\n\",s)\n",
    "\n",
    "#Append a category\n",
    "s = s.cat.remove_categories(\"q\")\n",
    "\n",
    "print(\"\\nUpdated Categories\\n\",s)\n"
   ]
  }
 ],
 "metadata": {
  "kernelspec": {
   "display_name": "project",
   "language": "python",
   "name": "python3"
  },
  "language_info": {
   "codemirror_mode": {
    "name": "ipython",
    "version": 3
   },
   "file_extension": ".py",
   "mimetype": "text/x-python",
   "name": "python",
   "nbconvert_exporter": "python",
   "pygments_lexer": "ipython3",
   "version": "3.12.11"
  }
 },
 "nbformat": 4,
 "nbformat_minor": 5
}
