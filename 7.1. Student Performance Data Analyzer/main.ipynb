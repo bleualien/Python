{
 "cells": [
  {
   "cell_type": "markdown",
   "id": "f11d37de",
   "metadata": {},
   "source": [
    "***Creating Arrays (0-D, 1-D, 2-D, 3-D, Higher Dimensions)***\n",
    "\n",
    "- 0-D: Store a single student’s ID.\n",
    "\n",
    "- 1-D: List of subject names or student IDs.\n",
    "\n",
    "- 2-D: Student scores in different subjects → shape: (students, subjects).\n",
    "\n",
    "- 3-D: Semesters or terms → shape: (terms, students, subjects)"
   ]
  },
  {
   "cell_type": "code",
   "execution_count": 15,
   "id": "7e3807bf",
   "metadata": {},
   "outputs": [],
   "source": [
    "import numpy as np\n",
    "#2D NumPy array named scores banako\n",
    "#Rows = students\n",
    "#Columns = subjects (e.g., Math, Science, English)\n",
    "\n",
    "# Example 2D: 5 students, 3 subjects\n",
    "scores = np.array([\n",
    "    [80, 90, 70],   # Student 1 scores in 3 subjects\n",
    "    [85, 88, 75],   # Student 2\n",
    "    [78, 94, 82],   # Student 3\n",
    "    [92, 70, 65],   # Student 4\n",
    "    [60, 76, 88],   # Student 5\n",
    "])"
   ]
  },
  {
   "cell_type": "markdown",
   "id": "6cae0f64",
   "metadata": {},
   "source": [
    "***Access Array Elements***\n",
    "\n",
    "Get Student 2’s Math score"
   ]
  },
  {
   "cell_type": "code",
   "execution_count": 16,
   "id": "54f1416c",
   "metadata": {},
   "outputs": [
    {
     "name": "stdout",
     "output_type": "stream",
     "text": [
      "Student 2 Math score: 85\n"
     ]
    }
   ],
   "source": [
    "print(\"Student 2 Math score:\", scores[1, 0])\n",
    "#ow index 1 = Student 2 (indexing starts from 0)\n",
    "#Column index 0 = First subject (e.g., Math)"
   ]
  },
  {
   "cell_type": "markdown",
   "id": "900d2e5d",
   "metadata": {},
   "source": [
    "***Array Slicing (with Negative Slicing)***\n",
    "\n",
    "Get last 2 students’ data\n",
    "\n",
    "Get last subject's scores for all students"
   ]
  },
  {
   "cell_type": "code",
   "execution_count": 17,
   "id": "c2d905aa",
   "metadata": {},
   "outputs": [
    {
     "name": "stdout",
     "output_type": "stream",
     "text": [
      "[[92 70 65]\n",
      " [60 76 88]]\n",
      "[70 75 82 65 88]\n"
     ]
    }
   ],
   "source": [
    "#-2: means start from 2nd last student and go to the end.\n",
    "print(scores[-2:])         # Last 2 students\n",
    "print(scores[:, -1])       # Last subject (e.g., Science)"
   ]
  },
  {
   "cell_type": "markdown",
   "id": "3e8cfe19",
   "metadata": {},
   "source": [
    "***Datatypes***\n",
    "\n",
    "Check & convert datatypes"
   ]
  },
  {
   "cell_type": "code",
   "execution_count": 18,
   "id": "9b786133",
   "metadata": {},
   "outputs": [
    {
     "name": "stdout",
     "output_type": "stream",
     "text": [
      "int64\n"
     ]
    }
   ],
   "source": [
    "\n",
    "print(scores.dtype)       # Default type\n",
    "scores = scores.astype('float32')  # Convert to float"
   ]
  },
  {
   "cell_type": "code",
   "execution_count": 19,
   "id": "f6ee7374",
   "metadata": {},
   "outputs": [],
   "source": [
    "#Copy vs View\n",
    "copy_scores = scores.copy()\n",
    "view_scores = scores.view()\n",
    "#copy() creates a completely separate array in memory.\n",
    "#view() creates a new reference to the original array."
   ]
  },
  {
   "cell_type": "markdown",
   "id": "a73ec545",
   "metadata": {},
   "source": [
    "***Array Shape & Reshaping***\n",
    "\n",
    "Shape checking and transforming into a flat array or higher dimension"
   ]
  },
  {
   "cell_type": "code",
   "execution_count": 20,
   "id": "b1d07bb7",
   "metadata": {},
   "outputs": [
    {
     "name": "stdout",
     "output_type": "stream",
     "text": [
      "(5, 3)\n"
     ]
    }
   ],
   "source": [
    "\n",
    "\n",
    "print(scores.shape)\n",
    "flat_scores = scores.reshape(-1)   # Flatten\n",
    "#Reshapes the 2D array into a 1D array.\n",
    "#-1 automatically calculates the correct dimension.\n",
    "reshaped = scores.reshape(1, 5, 3) # 3D\n",
    "#Reshapes the array into 3D: (1, 5, 3)\n",
    "#1 block, 5 students, 3 subjects\n"
   ]
  },
  {
   "cell_type": "markdown",
   "id": "bd8c78dc",
   "metadata": {},
   "source": [
    "***Array Iteration***\n",
    "\n",
    "Using loops or np.nditer to iterate and process data"
   ]
  },
  {
   "cell_type": "code",
   "execution_count": 21,
   "id": "d2adcc8e",
   "metadata": {},
   "outputs": [
    {
     "name": "stdout",
     "output_type": "stream",
     "text": [
      "Student Total: 240.0\n",
      "Student Total: 248.0\n",
      "Student Total: 254.0\n",
      "Student Total: 227.0\n",
      "Student Total: 224.0\n",
      "80.0\n",
      "90.0\n",
      "70.0\n",
      "85.0\n",
      "88.0\n",
      "75.0\n",
      "78.0\n",
      "94.0\n",
      "82.0\n",
      "92.0\n",
      "70.0\n",
      "65.0\n",
      "60.0\n",
      "76.0\n",
      "88.0\n"
     ]
    }
   ],
   "source": [
    "for student in scores:\n",
    "    print(\"Student Total:\", np.sum(student))\n",
    "#Iterates through each row (student) in scores.\n",
    "#np.sum(student) adds all subject scores for that student.\n",
    "\n",
    "# Using nditer\n",
    "for x in np.nditer(scores):  #nditer() to loop through each individual value, regardless of the shape.\n",
    "    print(x)\n"
   ]
  },
  {
   "cell_type": "markdown",
   "id": "e414aaf4",
   "metadata": {},
   "source": [
    "***Joining Arrays***\n",
    "\n",
    "Add another semester or new student"
   ]
  },
  {
   "cell_type": "code",
   "execution_count": 22,
   "id": "ec62bd41",
   "metadata": {},
   "outputs": [],
   "source": [
    "new_scores = np.array([[70, 80, 90]])  # New student\n",
    "scores = np.concatenate((scores, new_scores), axis=0)\n",
    "#new_scores is a 2D array (1 row, 3 columns).\n",
    "#np.concatenate((scores, new_scores), axis=0) joins it row-wise (adds new student to the end)."
   ]
  },
  {
   "cell_type": "markdown",
   "id": "65dcf6c9",
   "metadata": {},
   "source": [
    "***Splitting Arrays***\n",
    "\n",
    "Divide class into 2 groups"
   ]
  },
  {
   "cell_type": "code",
   "execution_count": 23,
   "id": "42d83d16",
   "metadata": {},
   "outputs": [],
   "source": [
    "group1, group2 = np.array_split(scores, 2)\n",
    "#group1, group2 will have half of the students each."
   ]
  },
  {
   "cell_type": "markdown",
   "id": "984e484f",
   "metadata": {},
   "source": [
    "***Searching, Sorting, Filtering***\n",
    "\n",
    "Search for students with >85 in Math\n",
    "\n",
    "Sort by average score\n",
    "\n",
    "Filter top performers"
   ]
  },
  {
   "cell_type": "code",
   "execution_count": 24,
   "id": "2d1680f3",
   "metadata": {},
   "outputs": [
    {
     "name": "stdout",
     "output_type": "stream",
     "text": [
      "Students with high Math scores: [3]\n",
      "Sorted student indexes: [2 1 0 5 3 4]\n",
      "Top 3 Students:\n",
      " [[78. 94. 82.]\n",
      " [85. 88. 75.]\n",
      " [80. 90. 70.]]\n"
     ]
    }
   ],
   "source": [
    "\n",
    "# Students with Math score > 85\n",
    "math_scores = scores[:, 0] #Takes the first column (Math scores) from all rows.\n",
    "high_math = np.where(math_scores > 85) #Finds the indices where Math score is greater than 85.\n",
    "print(\"Students with high Math scores:\", high_math[0]) #Displays the student indices with Math > 85.\n",
    "\n",
    "# Sort students by total score\n",
    "totals = np.sum(scores, axis=1) #Calculates total score for each student.\n",
    "#axis=1 = sum across columns.\n",
    "sorted_indices = np.argsort(totals)[::-1] #argsort returns indices that would sort the totals in ascending order.\n",
    "#[::-1] reverses to get descending order (highest scores first).\n",
    "print(\"Sorted student indexes:\", sorted_indices) #Prints student indices in descending order of total scores.\n",
    "\n",
    "# Filter top 3\n",
    "top3 = scores[sorted_indices[:3]]\n",
    "print(\"Top 3 Students:\\n\", top3)\n",
    "#Selects the top 3 students based on sorted indices and prints their scores."
   ]
  }
 ],
 "metadata": {
  "kernelspec": {
   "display_name": "restaurant_reco",
   "language": "python",
   "name": "python3"
  },
  "language_info": {
   "codemirror_mode": {
    "name": "ipython",
    "version": 3
   },
   "file_extension": ".py",
   "mimetype": "text/x-python",
   "name": "python",
   "nbconvert_exporter": "python",
   "pygments_lexer": "ipython3",
   "version": "3.10.18"
  }
 },
 "nbformat": 4,
 "nbformat_minor": 5
}
